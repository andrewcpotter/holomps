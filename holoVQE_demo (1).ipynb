{
 "cells": [
  {
   "cell_type": "code",
   "execution_count": 119,
   "metadata": {},
   "outputs": [],
   "source": [
    "# entry: unitary\n",
    "# parameters in the unitary?"
   ]
  },
  {
   "cell_type": "code",
   "execution_count": 120,
   "metadata": {},
   "outputs": [],
   "source": [
    "# from unitary to tensor\n",
    "def Uni_to_ten(uni_matrix, phys_site_num, d_bond, d_phys_index, L):\n",
    "    if phys_site_num == 0:\n",
    "        res_matrix = uni_matrix[0:1, d_phys_index * d_bond: (d_phys_index+1)*d_bond]\n",
    "    elif phys_site_num == L-1:\n",
    "        res_matrix = uni_matrix[0:d_bond, d_phys_index * d_bond: d_phys_index * d_bond + 1]\n",
    "    else:\n",
    "        res_matrix = uni_matrix[0:d_bond, d_phys_index * d_bond: (d_phys_index + 1) * d_bond]\n",
    "    return res_matrix"
   ]
  },
  {
   "cell_type": "code",
   "execution_count": 121,
   "metadata": {},
   "outputs": [],
   "source": [
    "# from res_matrix to three-leg tensor:\n",
    "import tenpy.linalg.np_conserved as npc\n",
    "import numpy as np\n",
    "def Site_Ten(uni_matrix, phys_site_num, phys_leg_num, bond_leg_num, L):\n",
    "    if phys_site_num == 0:\n",
    "        res_tensor = npc.Array.from_ndarray_trivial([Uni_to_ten(uni_matrix, phys_site_num, bond_leg_num, i, L) \\\n",
    "                                                 for i in range(0,phys_leg_num)],labels=['p0','vL','vR'])\n",
    "    elif phys_site_num == L-1:\n",
    "        res_tensor = npc.Array.from_ndarray_trivial([Uni_to_ten(uni_matrix, phys_site_num, bond_leg_num, i, L) \\\n",
    "                                                 for i in range(0,phys_leg_num)],labels=['p'+str(phys_site_num),'vL','vR'])\n",
    "    else:\n",
    "        res_tensor = npc.Array.from_ndarray_trivial([Uni_to_ten(uni_matrix, phys_site_num, bond_leg_num, i, L) \\\n",
    "                                                 for i in range(0,phys_leg_num)],labels=['p'+str(phys_site_num),'vL','vR'])\n",
    "    return res_tensor"
   ]
  },
  {
   "cell_type": "code",
   "execution_count": 122,
   "metadata": {},
   "outputs": [
    {
     "name": "stdout",
     "output_type": "stream",
     "text": [
      "[[ 0.02632271-0.18775696j -0.24329483+0.5502272j ]]\n",
      "3\n",
      "[[[ 0.36160277-0.33710874j  0.46003517+0.38220527j]]\n",
      "\n",
      " [[ 0.02632271-0.18775696j -0.24329483+0.5502272j ]]]\n",
      "[[[-0.4161125 +0.50563997j]\n",
      "  [-0.38320732+0.37913321j]]\n",
      "\n",
      " [[ 0.44107565+0.26640638j]\n",
      "  [-0.01372861-0.50351203j]]]\n"
     ]
    }
   ],
   "source": [
    "import tenpy\n",
    "import numpy as np\n",
    "import tenpy.linalg.np_conserved as npc\n",
    "from scipy.stats import unitary_group\n",
    "# for purpose of test, generate an arbitrary unitary matrix\n",
    "x = unitary_group.rvs(4)\n",
    "x\n",
    "x11 = unitary_group.rvs(4)\n",
    "# test Uni_to_ten\n",
    "x1 = Uni_to_ten(x,0,2,1,2)\n",
    "print(x1)\n",
    "# test Site_ten\n",
    "x_t = Site_Ten(x,0,2,2,2)\n",
    "x_t1 = Site_Ten(x11,1,2,2,2)\n",
    "print (x_t.rank)\n",
    "#print(x_t)\n",
    "x2 = npc.Array.to_ndarray(x_t)\n",
    "x11_2 = npc.Array.to_ndarray(x_t1)\n",
    "print(x2)\n",
    "print(x11_2)"
   ]
  },
  {
   "cell_type": "code",
   "execution_count": 158,
   "metadata": {},
   "outputs": [
    {
     "name": "stdout",
     "output_type": "stream",
     "text": [
      "BosonSite(1, 'N', 0.000000)\n",
      "<tenpy.models.lattice.Chain object at 0x0000027C28AE0548>\n",
      "<class 'tenpy.linalg.np_conserved.Array'>\n",
      "<class 'tenpy.networks.mps.MPS'>\n",
      "MPS, L=2, bc='finite'.\n",
      "chi: [2]\n",
      "sites: BosonSite(1, 'N', 0.000000) BosonSite(1, 'N', 0.000000)\n",
      "forms: (1.0, 0.0) (0.0, 1.0)\n"
     ]
    }
   ],
   "source": [
    "# test for MPS.from_full\n",
    "from tenpy.networks.site import BosonSite\n",
    "from tenpy.models.lattice import Chain\n",
    "import tenpy.linalg.np_conserved as npc\n",
    "site = BosonSite()\n",
    "print(site)\n",
    "L = 2\n",
    "lat = Chain(L, site, bc_MPS = 'finite')\n",
    "print(lat)\n",
    "#psi = MPS(lat.mps_sites(), state, bc='finte', form='B')\n",
    "#psi = MPS.from_Bflat(lat.mps_sites(), state, bc='finte', form='B')\n",
    "state = npc.tensordot(x_t, x_t1, ('vR','vL'))\n",
    "print(type(state))\n",
    "psi = MPS.from_full(lat.mps_sites(), state)\n",
    "print(type(psi))\n",
    "print(psi)"
   ]
  },
  {
   "cell_type": "code",
   "execution_count": 159,
   "metadata": {},
   "outputs": [],
   "source": [
    "# from tensor to MPS\n",
    "from tenpy.networks.mps import MPS\n",
    "from tenpy.networks.site import BosonSite\n",
    "from tenpy.models.lattice import Chain\n",
    "import tenpy.linalg.np_conserved as npc\n",
    "\n",
    "def MPS_state(UM_list, d_phys, d_bond, L):\n",
    "    site = BosonSite()\n",
    "    lat = Chain(L, site, bc_MPS = 'finite')\n",
    "    state = Site_Ten(UM_list[0], 0, d_phys, d_bond, L)\n",
    "    # print(state)\n",
    "    for i in range(1, L):\n",
    "        state1 = Site_Ten(UM_list[i], i, d_phys, d_bond, L)\n",
    "        # print(state1)\n",
    "        state = npc.tensordot(state, state1,('vR','vL'))\n",
    "    psi = MPS.from_full(lat.mps_sites(), state)\n",
    "    # other methods to consider, MPS.from_Bflat, MPS\n",
    "    # problem with MPS.from_Bflat now\n",
    "    return psi"
   ]
  },
  {
   "cell_type": "code",
   "execution_count": 161,
   "metadata": {},
   "outputs": [
    {
     "name": "stdout",
     "output_type": "stream",
     "text": [
      "MPS, L=2, bc='finite'.\n",
      "chi: [2]\n",
      "sites: BosonSite(1, 'N', 0.000000) BosonSite(1, 'N', 0.000000)\n",
      "forms: (1.0, 0.0) (0.0, 1.0)\n"
     ]
    }
   ],
   "source": [
    "# test MPS_state function\n",
    "print(MPS_state([x,x11], 2, 2, 2))"
   ]
  },
  {
   "cell_type": "code",
   "execution_count": 126,
   "metadata": {},
   "outputs": [],
   "source": [
    "# description of Hamiltonian as a MPO?\n"
   ]
  },
  {
   "cell_type": "code",
   "execution_count": null,
   "metadata": {},
   "outputs": [],
   "source": [
    "from tenpy.networks.mpo import MPO, MPOEnvironment\n",
    "from tenpy.networks.mps import MPS\n",
    "# H_mpo is the mpo operator of H; \n",
    "# psi is in MPS format that constructed from the tensor\n",
    "# L total number of sites\n",
    "def MPO_H_contract(H_mpo, psi, L):\n",
    "    env = MPOEnvironment(psi, H_mpo, psi)\n",
    "    E = env.full_contraction(L-1)\n",
    "    return E"
   ]
  }
 ],
 "metadata": {
  "kernelspec": {
   "display_name": "Python 3",
   "language": "python",
   "name": "python3"
  },
  "language_info": {
   "codemirror_mode": {
    "name": "ipython",
    "version": 3
   },
   "file_extension": ".py",
   "mimetype": "text/x-python",
   "name": "python",
   "nbconvert_exporter": "python",
   "pygments_lexer": "ipython3",
   "version": "3.7.6"
  }
 },
 "nbformat": 4,
 "nbformat_minor": 4
}
