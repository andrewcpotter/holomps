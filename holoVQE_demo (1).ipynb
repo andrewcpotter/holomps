{
 "cells": [
  {
   "cell_type": "markdown",
   "metadata": {},
   "source": [
    "The ultimate goal is to perform holoVQE. \\\n",
    "It is divided into two parts: first part include functions to calculate expectation value of H; the second part include functions for the optimization\\\n",
    "More specifically, part 1 includes: functions to construct MPS from the unitary matrices, functions to construct H as MPO and functions to calculate the expectation value of H.\\\n",
    "Part 1:"
   ]
  },
  {
   "cell_type": "code",
   "execution_count": 417,
   "metadata": {},
   "outputs": [],
   "source": [
    "def Uni_to_ten(uni_matrix, site_num, d_bond, d_phys_index, L):\n",
    "    '''\n",
    "    construct the matrix corresponding to physics leg index in local Hilbert space for translational invariant 1d chain\n",
    "    \n",
    "    Parameters\n",
    "    ----------\n",
    "    uni_matrix: numpy.ndarray\n",
    "        the unitary matrix already constructed\n",
    "    site_num: int\n",
    "        the position of the site\n",
    "    d_bond: int\n",
    "        bond dimension\n",
    "    d_phys_index: int\n",
    "        the index in the physical dimension\n",
    "    L: int\n",
    "        the total number of sites\n",
    "    '''\n",
    "    if site_num == 0:\n",
    "        res_matrix = uni_matrix[0:1, d_phys_index * d_bond: (d_phys_index+1)*d_bond]\n",
    "    elif site_num == L-1:\n",
    "        res_matrix = uni_matrix[0:d_bond, d_phys_index * d_bond: d_phys_index * d_bond + 1]\n",
    "    else:\n",
    "        res_matrix = uni_matrix[0:d_bond, d_phys_index * d_bond: (d_phys_index + 1) * d_bond]\n",
    "    return res_matrix"
   ]
  },
  {
   "cell_type": "code",
   "execution_count": 418,
   "metadata": {},
   "outputs": [],
   "source": [
    "import tenpy.linalg.np_conserved as npc\n",
    "def Site_Ten(uni_matrix, site_num, d_bond, d_phys, L):\n",
    "    '''\n",
    "    construct the 3-leg tensor for one site of the translational invariant 1d chain\n",
    "    \n",
    "    Parameters\n",
    "    ----------\n",
    "    d_phys: dimension of local Hilbert space\n",
    "    \n",
    "    returns the npc.Array type, which contains the tensor and its leg labels\n",
    "    '''\n",
    "    res_tensor = npc.Array.from_ndarray_trivial([Uni_to_ten(uni_matrix, site_num, d_bond, i, L) \\\n",
    "                                                 for i in range(0,d_phys)],labels=['p'+str(site_num),'vL','vR'])\n",
    "    return res_tensor"
   ]
  },
  {
   "cell_type": "code",
   "execution_count": 448,
   "metadata": {},
   "outputs": [],
   "source": []
  },
  {
   "cell_type": "code",
   "execution_count": 420,
   "metadata": {},
   "outputs": [],
   "source": [
    "def MPO_H_contract(H_mpo, psi, L):\n",
    "    '''\n",
    "    calculate the expectation value of H by doing the contraction over the full MPS\n",
    "\n",
    "    Parameters\n",
    "    ----------\n",
    "    H_mpo: MPO type\n",
    "    psi: MPS type\n",
    "    L: integer\n",
    "        the total number of sites\n",
    "    '''\n",
    "    from tenpy.networks.mpo import MPO, MPOEnvironment\n",
    "    env = MPOEnvironment(psi, H_mpo, psi)\n",
    "    E = env.full_contraction(L-1)\n",
    "    return E"
   ]
  },
  {
   "cell_type": "markdown",
   "metadata": {},
   "source": [
    "tests:"
   ]
  },
  {
   "cell_type": "code",
   "execution_count": 421,
   "metadata": {},
   "outputs": [
    {
     "name": "stdout",
     "output_type": "stream",
     "text": [
      "[[-0.23125719+0.04129987j -0.29393868-0.66907925j  0.02176497-0.27134754j\n",
      "   0.12285892+0.56705373j]\n",
      " [ 0.45381778+0.16958233j -0.36314481-0.24699069j  0.46768753+0.57244006j\n",
      "  -0.16040729-0.0162159j ]\n",
      " [-0.71793713+0.15038421j -0.35504616+0.06707238j  0.22634373+0.01592496j\n",
      "  -0.42273869-0.31812151j]\n",
      " [ 0.16634691-0.37998059j -0.36392502+0.1002824j  -0.56330378+0.10335043j\n",
      "  -0.55711215+0.2169771j ]]\n",
      "******\n",
      "[[-0.03860329-0.09608574j  0.07412494+0.57144332j  0.35211546+0.27327506j\n",
      "   0.08469991+0.67186063j]\n",
      " [-0.27726637-0.01897198j  0.48597737+0.06160767j -0.51439668+0.63023451j\n",
      "   0.07911564-0.12138842j]\n",
      " [ 0.11443546+0.32189095j -0.4903475 +0.3544319j   0.01568398+0.27434115j\n",
      "   0.54314667-0.38302838j]\n",
      " [-0.81727631-0.35691864j -0.21825525+0.11954293j  0.24643835-0.05740254j\n",
      "  -0.0623579 -0.27354566j]]\n",
      "******\n",
      "[[ 0.02632271-0.18775696j -0.24329483+0.5502272j ]]\n",
      "******\n",
      "3\n",
      "[[[-0.23125719+0.04129987j -0.29393868-0.66907925j]]\n",
      "\n",
      " [[ 0.02176497-0.27134754j  0.12285892+0.56705373j]]]\n",
      "******\n",
      "[[[-0.03860329-0.09608574j]\n",
      "  [-0.27726637-0.01897198j]]\n",
      "\n",
      " [[ 0.35211546+0.27327506j]\n",
      "  [-0.51439668+0.63023451j]]]\n"
     ]
    }
   ],
   "source": [
    "import tenpy\n",
    "import numpy as np\n",
    "import tenpy.linalg.np_conserved as npc\n",
    "from scipy.stats import unitary_group\n",
    "\n",
    "# for purpose of test, generate arbitrary unitary matrices\n",
    "x1 = unitary_group.rvs(4)\n",
    "x2 = unitary_group.rvs(4)\n",
    "x3 = unitary_group.rvs(4)\n",
    "# test Uni_to_ten\n",
    "x1_1 = Uni_to_ten(x,0,2,1,2)\n",
    "\n",
    "# test Site_ten\n",
    "x1_t = Site_Ten(x1,0,2,2,2)\n",
    "x2_t = Site_Ten(x2,1,2,2,2)\n",
    "x1_a = npc.Array.to_ndarray(x1_t)\n",
    "x2_a = npc.Array.to_ndarray(x2_t)\n",
    "\n",
    "print(x1)\n",
    "print('******')\n",
    "print(x2)\n",
    "print('******')\n",
    "print(x1_1)\n",
    "print('******')\n",
    "print(x1_t.rank)\n",
    "print(x1_a)\n",
    "print('******')\n",
    "print(x2_a)"
   ]
  },
  {
   "cell_type": "code",
   "execution_count": 422,
   "metadata": {},
   "outputs": [
    {
     "name": "stdout",
     "output_type": "stream",
     "text": [
      "BosonSite(1, None, 0.000000)\n",
      "<tenpy.models.lattice.Chain object at 0x0000027C28223448>\n",
      "<class 'tenpy.linalg.np_conserved.Array'>\n",
      "<class 'tenpy.networks.mps.MPS'>\n",
      "MPS, L=2, bc='finite'.\n",
      "chi: [2]\n",
      "sites: BosonSite(1, None, 0.000000) BosonSite(1, None, 0.000000)\n",
      "forms: (1.0, 0.0) (0.0, 1.0)\n"
     ]
    }
   ],
   "source": [
    "# test for MPS.from_full\n",
    "from tenpy.networks.site import BosonSite\n",
    "from tenpy.models.lattice import Chain\n",
    "import tenpy.linalg.np_conserved as npc\n",
    "site = BosonSite(conserve = None)\n",
    "L = 2\n",
    "lat = Chain(L, site, bc_MPS = 'finite')\n",
    "state = npc.tensordot(x_t, x_t1, ('vR','vL'))\n",
    "psi = MPS.from_full(lat.mps_sites(), state)\n",
    "\n",
    "print(site)\n",
    "print(lat)\n",
    "print(type(state))\n",
    "print(type(psi))\n",
    "print(psi)"
   ]
  },
  {
   "cell_type": "code",
   "execution_count": 479,
   "metadata": {},
   "outputs": [],
   "source": [
    "from tenpy.networks.mps import MPS\n",
    "from tenpy.networks.site import BosonSite, SpinHalfSite\n",
    "from tenpy.models.lattice import Chain\n",
    "import tenpy.linalg.np_conserved as npc\n",
    "\n",
    "def MPS_state(UM_list, d_phys, d_bond, L):\n",
    "    '''\n",
    "    construct the Matrix Product state for the whole chain (1d translational invariant bosonic chain) (can be adjusted)\n",
    "    \n",
    "    Parameters\n",
    "    ----------\n",
    "    UM_list: list of numpy.ndarray matrices\n",
    "    \n",
    "    returns the MPS type in TenPy\n",
    "    '''\n",
    "    site = BosonSite(Nmax = 1, conserve = None)\n",
    "    # site = SpinHalfSite(conserve = None)\n",
    "    lat = Chain(L, site, bc_MPS = 'finite')\n",
    "    state = Site_Ten(UM_list[0], 0, d_phys, d_bond, L)\n",
    "    for i in range(1, L):\n",
    "        state1 = Site_Ten(UM_list[i], i, d_phys, d_bond, L)\n",
    "        state = npc.tensordot(state, state1, ('vR','vL'))\n",
    "    psi = MPS.from_full(lat.mps_sites(), state, 'B')\n",
    "    # other methods to consider, MPS.from_Bflat, MPS\n",
    "    # problem with MPS.from_Bflat now\n",
    "    return psi"
   ]
  },
  {
   "cell_type": "code",
   "execution_count": 483,
   "metadata": {},
   "outputs": [
    {
     "name": "stdout",
     "output_type": "stream",
     "text": [
      "MPS, L=3, bc='finite'.\n",
      "chi: [1, 1]\n",
      "sites: SpinHalfSite(None) SpinHalfSite(None) SpinHalfSite(None)\n",
      "forms: (0.0, 1.0) (0.0, 1.0) (0.0, 1.0)\n"
     ]
    },
    {
     "data": {
      "text/plain": [
       "LegCharge(ChargeInfo([], []), qconj=+1,\n",
       "array([0, 2], dtype=int64), array([], shape=(1, 0), dtype=int32))"
      ]
     },
     "execution_count": 483,
     "metadata": {},
     "output_type": "execute_result"
    }
   ],
   "source": [
    "psi = MPS_state([x1,x2,x3],1,1,3)\n",
    "print(psi)\n",
    "psi.sites[1].leg"
   ]
  },
  {
   "cell_type": "code",
   "execution_count": 477,
   "metadata": {},
   "outputs": [
    {
     "name": "stdout",
     "output_type": "stream",
     "text": [
      " +1\n",
      "0 []\n",
      "2   \n",
      "<npc.Array shape=(2, 2) charge=ChargeInfo([], []) labels=['p', 'p*']\n",
      " +1 | -1 \n",
      "0 []|0 []\n",
      "2   |2   \n",
      "[[1. 0.]\n",
      " [0. 1.]]\n",
      ">\n",
      "***\n",
      " +1\n",
      "0 []\n",
      "2   \n",
      "***\n",
      "ChargeInfo([], [])\n",
      "[<npc.Array shape=(1, 3, 2, 2) charge=ChargeInfo([], []) labels=['wL', 'wR', 'p', 'p*']>, <npc.Array shape=(3, 3, 2, 2) charge=ChargeInfo([], []) labels=['wL', 'wR', 'p', 'p*']>, <npc.Array shape=(3, 1, 2, 2) charge=ChargeInfo([], []) labels=['wL', 'wR', 'p', 'p*']>]\n",
      "***\n",
      "<tenpy.networks.mpo.MPO object at 0x0000027C2B62A8C8>\n"
     ]
    }
   ],
   "source": [
    "# construct TFIM directly\n",
    "# use BosonSite\n",
    "import tenpy.linalg.np_conserved as npc\n",
    "from tenpy.networks.site import BosonSite as bs\n",
    "from tenpy.models.lattice import Chain\n",
    "from tenpy.networks.mpo import MPO, MPOEnvironment\n",
    "\n",
    "L = 3\n",
    "# Nmax is the maximum boson at one site, for TFIM is 1; \n",
    "# use BosonSite and chain module to construct sites\n",
    "#site = bs(Nmax = 1, conserve = 'parity')\n",
    "site = bs(Nmax = 1, conserve = None)\n",
    "print(site.leg)\n",
    "sites = L * [site]\n",
    "lat = Chain(L, site, bc_MPS = 'finite')\n",
    "\n",
    "N_max = 1\n",
    "#print(site.B)\n",
    "#print(site.Bd)\n",
    "#print(site.N)\n",
    "print(site.Id)\n",
    "bX = (site.B + site.Bd) / 2\n",
    "#print(bX)\n",
    "bY = (site.B - site.Bd) / (2 * 1j)\n",
    "#print(bY)\n",
    "bZ = site.N - site.Id * N_max / 2\n",
    "#print(bZ)\n",
    "Id = site.Id\n",
    "\n",
    "# construct the matrix/array which represents H_mpo: Ws\n",
    "# transverse field ising model\n",
    "g = 1.\n",
    "J = 1.\n",
    "d = 2\n",
    "W_grid = [[Id, bX, -g*bZ],\n",
    "          [None, None, -J*bX],\n",
    "          [None, None, Id]]\n",
    "p_leg = site.leg\n",
    "print('***')\n",
    "print(p_leg)\n",
    "chinfo = p_leg.chinfo\n",
    "print('***')\n",
    "print(chinfo)\n",
    "mpo_leg = npc.LegCharge.from_qflat(chinfo, [[], [], []])\n",
    "W = npc.grid_outer(W_grid, [mpo_leg, mpo_leg.conj()], grid_labels=['wL', 'wR'])\n",
    "Ws = [W] * L\n",
    "Ws[0] = W[:1, :]\n",
    "Ws[-1] = W[:, -1:]\n",
    "print(Ws)\n",
    "print('***')\n",
    "H = MPO(sites, Ws, 'finite', IdL = 0, IdR = -1)\n",
    "#H = MPO(sites, Ws, 'finite')\n",
    "print(H)"
   ]
  },
  {
   "cell_type": "code",
   "execution_count": 478,
   "metadata": {},
   "outputs": [
    {
     "ename": "ValueError",
     "evalue": "incompatible LegCharge\nself | other\n -1  |  -1  \n0 [] | 0 [] \n2    | 1    ",
     "output_type": "error",
     "traceback": [
      "\u001b[1;31m---------------------------------------------------------------------------\u001b[0m",
      "\u001b[1;31mValueError\u001b[0m                                Traceback (most recent call last)",
      "\u001b[1;32m<ipython-input-478-a687369cff7e>\u001b[0m in \u001b[0;36m<module>\u001b[1;34m\u001b[0m\n\u001b[0;32m      1\u001b[0m \u001b[1;32mfrom\u001b[0m \u001b[0mtenpy\u001b[0m\u001b[1;33m.\u001b[0m\u001b[0mnetworks\u001b[0m\u001b[1;33m.\u001b[0m\u001b[0mmpo\u001b[0m \u001b[1;32mimport\u001b[0m \u001b[0mMPO\u001b[0m\u001b[1;33m,\u001b[0m \u001b[0mMPOEnvironment\u001b[0m\u001b[1;33m\u001b[0m\u001b[1;33m\u001b[0m\u001b[0m\n\u001b[0;32m      2\u001b[0m \u001b[0menv\u001b[0m \u001b[1;33m=\u001b[0m \u001b[0mMPOEnvironment\u001b[0m\u001b[1;33m(\u001b[0m\u001b[0mpsi\u001b[0m\u001b[1;33m,\u001b[0m \u001b[0mH\u001b[0m\u001b[1;33m,\u001b[0m \u001b[0mpsi\u001b[0m\u001b[1;33m)\u001b[0m\u001b[1;33m\u001b[0m\u001b[1;33m\u001b[0m\u001b[0m\n\u001b[1;32m----> 3\u001b[1;33m \u001b[0mE\u001b[0m \u001b[1;33m=\u001b[0m \u001b[0menv\u001b[0m\u001b[1;33m.\u001b[0m\u001b[0mfull_contraction\u001b[0m\u001b[1;33m(\u001b[0m\u001b[0mL\u001b[0m\u001b[1;33m-\u001b[0m\u001b[1;36m1\u001b[0m\u001b[1;33m)\u001b[0m\u001b[1;33m\u001b[0m\u001b[1;33m\u001b[0m\u001b[0m\n\u001b[0m\u001b[0;32m      4\u001b[0m \u001b[1;32mreturn\u001b[0m \u001b[0mE\u001b[0m\u001b[1;33m\u001b[0m\u001b[1;33m\u001b[0m\u001b[0m\n",
      "\u001b[1;32m~\\anaconda3\\lib\\site-packages\\tenpy\\networks\\mpo.py\u001b[0m in \u001b[0;36mfull_contraction\u001b[1;34m(self, i0)\u001b[0m\n\u001b[0;32m   1341\u001b[0m             \u001b[1;31m# special case to handle `_to_valid_index` correctly:\u001b[0m\u001b[1;33m\u001b[0m\u001b[1;33m\u001b[0m\u001b[1;33m\u001b[0m\u001b[0m\n\u001b[0;32m   1342\u001b[0m             \u001b[1;31m# get_LP(L) is not valid for finite b.c, so we use need to calculate it explicitly.\u001b[0m\u001b[1;33m\u001b[0m\u001b[1;33m\u001b[0m\u001b[1;33m\u001b[0m\u001b[0m\n\u001b[1;32m-> 1343\u001b[1;33m             \u001b[0mLP\u001b[0m \u001b[1;33m=\u001b[0m \u001b[0mself\u001b[0m\u001b[1;33m.\u001b[0m\u001b[0mget_LP\u001b[0m\u001b[1;33m(\u001b[0m\u001b[0mi0\u001b[0m\u001b[1;33m,\u001b[0m \u001b[0mstore\u001b[0m\u001b[1;33m=\u001b[0m\u001b[1;32mFalse\u001b[0m\u001b[1;33m)\u001b[0m\u001b[1;33m\u001b[0m\u001b[1;33m\u001b[0m\u001b[0m\n\u001b[0m\u001b[0;32m   1344\u001b[0m             \u001b[0mLP\u001b[0m \u001b[1;33m=\u001b[0m \u001b[0mself\u001b[0m\u001b[1;33m.\u001b[0m\u001b[0m_contract_LP\u001b[0m\u001b[1;33m(\u001b[0m\u001b[0mi0\u001b[0m\u001b[1;33m,\u001b[0m \u001b[0mLP\u001b[0m\u001b[1;33m)\u001b[0m\u001b[1;33m\u001b[0m\u001b[1;33m\u001b[0m\u001b[0m\n\u001b[0;32m   1345\u001b[0m         \u001b[1;32melse\u001b[0m\u001b[1;33m:\u001b[0m\u001b[1;33m\u001b[0m\u001b[1;33m\u001b[0m\u001b[0m\n",
      "\u001b[1;32m~\\anaconda3\\lib\\site-packages\\tenpy\\networks\\mpo.py\u001b[0m in \u001b[0;36mget_LP\u001b[1;34m(self, i, store)\u001b[0m\n\u001b[0;32m   1293\u001b[0m         \"\"\"\n\u001b[0;32m   1294\u001b[0m         \u001b[1;31m# actually same as MPSEnvironment, just updated the labels in the doc string.\u001b[0m\u001b[1;33m\u001b[0m\u001b[1;33m\u001b[0m\u001b[1;33m\u001b[0m\u001b[0m\n\u001b[1;32m-> 1295\u001b[1;33m         \u001b[1;32mreturn\u001b[0m \u001b[0msuper\u001b[0m\u001b[1;33m(\u001b[0m\u001b[1;33m)\u001b[0m\u001b[1;33m.\u001b[0m\u001b[0mget_LP\u001b[0m\u001b[1;33m(\u001b[0m\u001b[0mi\u001b[0m\u001b[1;33m,\u001b[0m \u001b[0mstore\u001b[0m\u001b[1;33m)\u001b[0m\u001b[1;33m\u001b[0m\u001b[1;33m\u001b[0m\u001b[0m\n\u001b[0m\u001b[0;32m   1296\u001b[0m \u001b[1;33m\u001b[0m\u001b[0m\n\u001b[0;32m   1297\u001b[0m     \u001b[1;32mdef\u001b[0m \u001b[0mget_RP\u001b[0m\u001b[1;33m(\u001b[0m\u001b[0mself\u001b[0m\u001b[1;33m,\u001b[0m \u001b[0mi\u001b[0m\u001b[1;33m,\u001b[0m \u001b[0mstore\u001b[0m\u001b[1;33m=\u001b[0m\u001b[1;32mTrue\u001b[0m\u001b[1;33m)\u001b[0m\u001b[1;33m:\u001b[0m\u001b[1;33m\u001b[0m\u001b[1;33m\u001b[0m\u001b[0m\n",
      "\u001b[1;32m~\\anaconda3\\lib\\site-packages\\tenpy\\networks\\mps.py\u001b[0m in \u001b[0;36mget_LP\u001b[1;34m(self, i, store)\u001b[0m\n\u001b[0;32m   3210\u001b[0m         \u001b[0mage_i0\u001b[0m \u001b[1;33m=\u001b[0m \u001b[0mself\u001b[0m\u001b[1;33m.\u001b[0m\u001b[0mget_LP_age\u001b[0m\u001b[1;33m(\u001b[0m\u001b[0mi0\u001b[0m\u001b[1;33m)\u001b[0m\u001b[1;33m\u001b[0m\u001b[1;33m\u001b[0m\u001b[0m\n\u001b[0;32m   3211\u001b[0m         \u001b[1;32mfor\u001b[0m \u001b[0mj\u001b[0m \u001b[1;32min\u001b[0m \u001b[0mrange\u001b[0m\u001b[1;33m(\u001b[0m\u001b[0mi0\u001b[0m\u001b[1;33m,\u001b[0m \u001b[0mi\u001b[0m\u001b[1;33m)\u001b[0m\u001b[1;33m:\u001b[0m\u001b[1;33m\u001b[0m\u001b[1;33m\u001b[0m\u001b[0m\n\u001b[1;32m-> 3212\u001b[1;33m             \u001b[0mLP\u001b[0m \u001b[1;33m=\u001b[0m \u001b[0mself\u001b[0m\u001b[1;33m.\u001b[0m\u001b[0m_contract_LP\u001b[0m\u001b[1;33m(\u001b[0m\u001b[0mj\u001b[0m\u001b[1;33m,\u001b[0m \u001b[0mLP\u001b[0m\u001b[1;33m)\u001b[0m\u001b[1;33m\u001b[0m\u001b[1;33m\u001b[0m\u001b[0m\n\u001b[0m\u001b[0;32m   3213\u001b[0m             \u001b[1;32mif\u001b[0m \u001b[0mstore\u001b[0m\u001b[1;33m:\u001b[0m\u001b[1;33m\u001b[0m\u001b[1;33m\u001b[0m\u001b[0m\n\u001b[0;32m   3214\u001b[0m                 \u001b[0mself\u001b[0m\u001b[1;33m.\u001b[0m\u001b[0mset_LP\u001b[0m\u001b[1;33m(\u001b[0m\u001b[0mj\u001b[0m \u001b[1;33m+\u001b[0m \u001b[1;36m1\u001b[0m\u001b[1;33m,\u001b[0m \u001b[0mLP\u001b[0m\u001b[1;33m,\u001b[0m \u001b[0mage\u001b[0m\u001b[1;33m=\u001b[0m\u001b[0mage_i0\u001b[0m \u001b[1;33m+\u001b[0m \u001b[0mj\u001b[0m \u001b[1;33m-\u001b[0m \u001b[0mi0\u001b[0m \u001b[1;33m+\u001b[0m \u001b[1;36m1\u001b[0m\u001b[1;33m)\u001b[0m\u001b[1;33m\u001b[0m\u001b[1;33m\u001b[0m\u001b[0m\n",
      "\u001b[1;32m~\\anaconda3\\lib\\site-packages\\tenpy\\networks\\mpo.py\u001b[0m in \u001b[0;36m_contract_LP\u001b[1;34m(self, i, LP)\u001b[0m\n\u001b[0;32m   1358\u001b[0m         \u001b[1;31m# same as MPSEnvironment._contract_LP, but also contract with `H.get_W(i)`\u001b[0m\u001b[1;33m\u001b[0m\u001b[1;33m\u001b[0m\u001b[1;33m\u001b[0m\u001b[0m\n\u001b[0;32m   1359\u001b[0m         \u001b[0mLP\u001b[0m \u001b[1;33m=\u001b[0m \u001b[0mnpc\u001b[0m\u001b[1;33m.\u001b[0m\u001b[0mtensordot\u001b[0m\u001b[1;33m(\u001b[0m\u001b[0mLP\u001b[0m\u001b[1;33m,\u001b[0m \u001b[0mself\u001b[0m\u001b[1;33m.\u001b[0m\u001b[0mket\u001b[0m\u001b[1;33m.\u001b[0m\u001b[0mget_B\u001b[0m\u001b[1;33m(\u001b[0m\u001b[0mi\u001b[0m\u001b[1;33m,\u001b[0m \u001b[0mform\u001b[0m\u001b[1;33m=\u001b[0m\u001b[1;34m'A'\u001b[0m\u001b[1;33m)\u001b[0m\u001b[1;33m,\u001b[0m \u001b[0maxes\u001b[0m\u001b[1;33m=\u001b[0m\u001b[1;33m(\u001b[0m\u001b[1;34m'vR'\u001b[0m\u001b[1;33m,\u001b[0m \u001b[1;34m'vL'\u001b[0m\u001b[1;33m)\u001b[0m\u001b[1;33m)\u001b[0m\u001b[1;33m\u001b[0m\u001b[1;33m\u001b[0m\u001b[0m\n\u001b[1;32m-> 1360\u001b[1;33m         \u001b[0mLP\u001b[0m \u001b[1;33m=\u001b[0m \u001b[0mnpc\u001b[0m\u001b[1;33m.\u001b[0m\u001b[0mtensordot\u001b[0m\u001b[1;33m(\u001b[0m\u001b[0mself\u001b[0m\u001b[1;33m.\u001b[0m\u001b[0mH\u001b[0m\u001b[1;33m.\u001b[0m\u001b[0mget_W\u001b[0m\u001b[1;33m(\u001b[0m\u001b[0mi\u001b[0m\u001b[1;33m)\u001b[0m\u001b[1;33m,\u001b[0m \u001b[0mLP\u001b[0m\u001b[1;33m,\u001b[0m \u001b[0maxes\u001b[0m\u001b[1;33m=\u001b[0m\u001b[1;33m(\u001b[0m\u001b[1;33m[\u001b[0m\u001b[1;34m'p*'\u001b[0m\u001b[1;33m,\u001b[0m \u001b[1;34m'wL'\u001b[0m\u001b[1;33m]\u001b[0m\u001b[1;33m,\u001b[0m \u001b[1;33m[\u001b[0m\u001b[1;34m'p'\u001b[0m\u001b[1;33m,\u001b[0m \u001b[1;34m'wR'\u001b[0m\u001b[1;33m]\u001b[0m\u001b[1;33m)\u001b[0m\u001b[1;33m)\u001b[0m\u001b[1;33m\u001b[0m\u001b[1;33m\u001b[0m\u001b[0m\n\u001b[0m\u001b[0;32m   1361\u001b[0m         LP = npc.tensordot(self.bra.get_B(i, form='A').conj(),\n\u001b[0;32m   1362\u001b[0m                            \u001b[0mLP\u001b[0m\u001b[1;33m,\u001b[0m\u001b[1;33m\u001b[0m\u001b[1;33m\u001b[0m\u001b[0m\n",
      "\u001b[1;32m~\\anaconda3\\lib\\site-packages\\tenpy\\linalg\\np_conserved.py\u001b[0m in \u001b[0;36mtensordot\u001b[1;34m(a, b, axes)\u001b[0m\n\u001b[0;32m   3394\u001b[0m     \"\"\"\n\u001b[0;32m   3395\u001b[0m     \u001b[1;31m# for details on the implementation, see _tensordot_worker.\u001b[0m\u001b[1;33m\u001b[0m\u001b[1;33m\u001b[0m\u001b[1;33m\u001b[0m\u001b[0m\n\u001b[1;32m-> 3396\u001b[1;33m     \u001b[0ma\u001b[0m\u001b[1;33m,\u001b[0m \u001b[0mb\u001b[0m\u001b[1;33m,\u001b[0m \u001b[0maxes\u001b[0m \u001b[1;33m=\u001b[0m \u001b[0m_tensordot_transpose_axes\u001b[0m\u001b[1;33m(\u001b[0m\u001b[0ma\u001b[0m\u001b[1;33m,\u001b[0m \u001b[0mb\u001b[0m\u001b[1;33m,\u001b[0m \u001b[0maxes\u001b[0m\u001b[1;33m)\u001b[0m\u001b[1;33m\u001b[0m\u001b[1;33m\u001b[0m\u001b[0m\n\u001b[0m\u001b[0;32m   3397\u001b[0m \u001b[1;33m\u001b[0m\u001b[0m\n\u001b[0;32m   3398\u001b[0m     \u001b[1;31m# optimize/check for special cases\u001b[0m\u001b[1;33m\u001b[0m\u001b[1;33m\u001b[0m\u001b[1;33m\u001b[0m\u001b[0m\n",
      "\u001b[1;32mtenpy/linalg/_npc_helper.pyx\u001b[0m in \u001b[0;36mtenpy.linalg._npc_helper._tensordot_transpose_axes\u001b[1;34m()\u001b[0m\n",
      "\u001b[1;32m~\\anaconda3\\lib\\site-packages\\tenpy\\linalg\\charges.py\u001b[0m in \u001b[0;36mtest_contractible\u001b[1;34m(self, other)\u001b[0m\n\u001b[0;32m    810\u001b[0m         \u001b[1;32mif\u001b[0m \u001b[0moptimize\u001b[0m\u001b[1;33m(\u001b[0m\u001b[0mOptimizationFlag\u001b[0m\u001b[1;33m.\u001b[0m\u001b[0mskip_arg_checks\u001b[0m\u001b[1;33m)\u001b[0m\u001b[1;33m:\u001b[0m\u001b[1;33m\u001b[0m\u001b[1;33m\u001b[0m\u001b[0m\n\u001b[0;32m    811\u001b[0m             \u001b[1;32mreturn\u001b[0m\u001b[1;33m\u001b[0m\u001b[1;33m\u001b[0m\u001b[0m\n\u001b[1;32m--> 812\u001b[1;33m         \u001b[0mself\u001b[0m\u001b[1;33m.\u001b[0m\u001b[0mtest_equal\u001b[0m\u001b[1;33m(\u001b[0m\u001b[0mother\u001b[0m\u001b[1;33m.\u001b[0m\u001b[0mconj\u001b[0m\u001b[1;33m(\u001b[0m\u001b[1;33m)\u001b[0m\u001b[1;33m)\u001b[0m\u001b[1;33m\u001b[0m\u001b[1;33m\u001b[0m\u001b[0m\n\u001b[0m\u001b[0;32m    813\u001b[0m \u001b[1;33m\u001b[0m\u001b[0m\n\u001b[0;32m    814\u001b[0m     \u001b[1;32mdef\u001b[0m \u001b[0mtest_equal\u001b[0m\u001b[1;33m(\u001b[0m\u001b[0mself\u001b[0m\u001b[1;33m,\u001b[0m \u001b[0mother\u001b[0m\u001b[1;33m)\u001b[0m\u001b[1;33m:\u001b[0m\u001b[1;33m\u001b[0m\u001b[1;33m\u001b[0m\u001b[0m\n",
      "\u001b[1;32m~\\anaconda3\\lib\\site-packages\\tenpy\\linalg\\charges.py\u001b[0m in \u001b[0;36mtest_equal\u001b[1;34m(self, other)\u001b[0m\n\u001b[0;32m    841\u001b[0m                 \u001b[1;32mnot\u001b[0m \u001b[0mnp\u001b[0m\u001b[1;33m.\u001b[0m\u001b[0marray_equal\u001b[0m\u001b[1;33m(\u001b[0m\u001b[0mself\u001b[0m\u001b[1;33m.\u001b[0m\u001b[0mcharges\u001b[0m \u001b[1;33m*\u001b[0m \u001b[0mself\u001b[0m\u001b[1;33m.\u001b[0m\u001b[0mqconj\u001b[0m\u001b[1;33m,\u001b[0m \u001b[0mother\u001b[0m\u001b[1;33m.\u001b[0m\u001b[0mcharges\u001b[0m \u001b[1;33m*\u001b[0m \u001b[0mother\u001b[0m\u001b[1;33m.\u001b[0m\u001b[0mqconj\u001b[0m\u001b[1;33m)\u001b[0m\u001b[1;33m:\u001b[0m\u001b[1;33m\u001b[0m\u001b[1;33m\u001b[0m\u001b[0m\n\u001b[0;32m    842\u001b[0m             raise ValueError(\"incompatible LegCharge\\n\" +\n\u001b[1;32m--> 843\u001b[1;33m                              vert_join([\"self\\n\" + str(self), \"other\\n\" + str(other)], delim=' | '))\n\u001b[0m\u001b[0;32m    844\u001b[0m \u001b[1;33m\u001b[0m\u001b[0m\n\u001b[0;32m    845\u001b[0m     \u001b[1;32mdef\u001b[0m \u001b[0mget_block_sizes\u001b[0m\u001b[1;33m(\u001b[0m\u001b[0mself\u001b[0m\u001b[1;33m)\u001b[0m\u001b[1;33m:\u001b[0m\u001b[1;33m\u001b[0m\u001b[1;33m\u001b[0m\u001b[0m\n",
      "\u001b[1;31mValueError\u001b[0m: incompatible LegCharge\nself | other\n -1  |  -1  \n0 [] | 0 [] \n2    | 1    "
     ]
    }
   ],
   "source": [
    "from tenpy.networks.mpo import MPO, MPOEnvironment\n",
    "env = MPOEnvironment(psi, H, psi)\n",
    "E = env.full_contraction(L-1)\n",
    "return E"
   ]
  },
  {
   "cell_type": "code",
   "execution_count": 485,
   "metadata": {},
   "outputs": [],
   "source": [
    "from tenpy.networks.mps import MPS\n",
    "from tenpy.networks.site import BosonSite, SpinHalfSite\n",
    "from tenpy.models.lattice import Chain\n",
    "import tenpy.linalg.np_conserved as npc\n",
    "\n",
    "def MPS_state(UM_list, d_phys, d_bond, L):\n",
    "    '''\n",
    "    construct the Matrix Product state for the whole chain (1d translational invariant bosonic chain) (can be adjusted)\n",
    "    \n",
    "    Parameters\n",
    "    ----------\n",
    "    UM_list: list of numpy.ndarray matrices\n",
    "    \n",
    "    returns the MPS type in TenPy\n",
    "    '''\n",
    "    #site = BosonSite(Nmax = 1, conserve = None)\n",
    "    site = SpinHalfSite(conserve = None)\n",
    "    lat = Chain(L, site, bc_MPS = 'finite')\n",
    "    state = Site_Ten(UM_list[0], 0, d_phys, d_bond, L)\n",
    "    for i in range(1, L):\n",
    "        state1 = Site_Ten(UM_list[i], i, d_phys, d_bond, L)\n",
    "        state = npc.tensordot(state, state1, ('vR','vL'))\n",
    "    psi = MPS.from_full(lat.mps_sites(), state, 'B')\n",
    "    # other methods to consider, MPS.from_Bflat, MPS\n",
    "    # problem with MPS.from_Bflat now\n",
    "    return psi"
   ]
  },
  {
   "cell_type": "code",
   "execution_count": 486,
   "metadata": {},
   "outputs": [
    {
     "name": "stdout",
     "output_type": "stream",
     "text": [
      "Reading 'bc_MPS'='finite' for config TFIModel\n",
      "Reading 'conserve'=None for config TFIModel\n",
      "Reading 'L'=3 for config TFIModel\n",
      "Reading 'J'=1.0 for config TFIModel\n",
      "Reading 'g'=1.0 for config TFIModel\n",
      "<tenpy.networks.mpo.MPO object at 0x0000027C2A879C88>\n"
     ]
    },
    {
     "ename": "ValueError",
     "evalue": "incompatible LegCharge\nself | other\n -1  |  -1  \n0 [] | 0 [] \n2    | 1    ",
     "output_type": "error",
     "traceback": [
      "\u001b[1;31m---------------------------------------------------------------------------\u001b[0m",
      "\u001b[1;31mValueError\u001b[0m                                Traceback (most recent call last)",
      "\u001b[1;32m<ipython-input-486-819ae6c6e731>\u001b[0m in \u001b[0;36m<module>\u001b[1;34m\u001b[0m\n\u001b[0;32m     11\u001b[0m \u001b[1;33m\u001b[0m\u001b[0m\n\u001b[0;32m     12\u001b[0m \u001b[0menv\u001b[0m \u001b[1;33m=\u001b[0m \u001b[0mMPOEnvironment\u001b[0m\u001b[1;33m(\u001b[0m\u001b[0mpsi\u001b[0m\u001b[1;33m,\u001b[0m\u001b[0mH_mpo\u001b[0m\u001b[1;33m,\u001b[0m\u001b[0mpsi\u001b[0m\u001b[1;33m)\u001b[0m\u001b[1;33m\u001b[0m\u001b[1;33m\u001b[0m\u001b[0m\n\u001b[1;32m---> 13\u001b[1;33m \u001b[0mE\u001b[0m \u001b[1;33m=\u001b[0m \u001b[0menv\u001b[0m\u001b[1;33m.\u001b[0m\u001b[0mfull_contraction\u001b[0m\u001b[1;33m(\u001b[0m\u001b[0mL\u001b[0m\u001b[1;33m-\u001b[0m\u001b[1;36m1\u001b[0m\u001b[1;33m)\u001b[0m\u001b[1;33m\u001b[0m\u001b[1;33m\u001b[0m\u001b[0m\n\u001b[0m\u001b[0;32m     14\u001b[0m \u001b[0mprint\u001b[0m\u001b[1;33m(\u001b[0m\u001b[1;34m\"E=\"\u001b[0m\u001b[1;33m,\u001b[0m \u001b[0mE\u001b[0m\u001b[1;33m)\u001b[0m\u001b[1;33m\u001b[0m\u001b[1;33m\u001b[0m\u001b[0m\n",
      "\u001b[1;32m~\\anaconda3\\lib\\site-packages\\tenpy\\networks\\mpo.py\u001b[0m in \u001b[0;36mfull_contraction\u001b[1;34m(self, i0)\u001b[0m\n\u001b[0;32m   1341\u001b[0m             \u001b[1;31m# special case to handle `_to_valid_index` correctly:\u001b[0m\u001b[1;33m\u001b[0m\u001b[1;33m\u001b[0m\u001b[1;33m\u001b[0m\u001b[0m\n\u001b[0;32m   1342\u001b[0m             \u001b[1;31m# get_LP(L) is not valid for finite b.c, so we use need to calculate it explicitly.\u001b[0m\u001b[1;33m\u001b[0m\u001b[1;33m\u001b[0m\u001b[1;33m\u001b[0m\u001b[0m\n\u001b[1;32m-> 1343\u001b[1;33m             \u001b[0mLP\u001b[0m \u001b[1;33m=\u001b[0m \u001b[0mself\u001b[0m\u001b[1;33m.\u001b[0m\u001b[0mget_LP\u001b[0m\u001b[1;33m(\u001b[0m\u001b[0mi0\u001b[0m\u001b[1;33m,\u001b[0m \u001b[0mstore\u001b[0m\u001b[1;33m=\u001b[0m\u001b[1;32mFalse\u001b[0m\u001b[1;33m)\u001b[0m\u001b[1;33m\u001b[0m\u001b[1;33m\u001b[0m\u001b[0m\n\u001b[0m\u001b[0;32m   1344\u001b[0m             \u001b[0mLP\u001b[0m \u001b[1;33m=\u001b[0m \u001b[0mself\u001b[0m\u001b[1;33m.\u001b[0m\u001b[0m_contract_LP\u001b[0m\u001b[1;33m(\u001b[0m\u001b[0mi0\u001b[0m\u001b[1;33m,\u001b[0m \u001b[0mLP\u001b[0m\u001b[1;33m)\u001b[0m\u001b[1;33m\u001b[0m\u001b[1;33m\u001b[0m\u001b[0m\n\u001b[0;32m   1345\u001b[0m         \u001b[1;32melse\u001b[0m\u001b[1;33m:\u001b[0m\u001b[1;33m\u001b[0m\u001b[1;33m\u001b[0m\u001b[0m\n",
      "\u001b[1;32m~\\anaconda3\\lib\\site-packages\\tenpy\\networks\\mpo.py\u001b[0m in \u001b[0;36mget_LP\u001b[1;34m(self, i, store)\u001b[0m\n\u001b[0;32m   1293\u001b[0m         \"\"\"\n\u001b[0;32m   1294\u001b[0m         \u001b[1;31m# actually same as MPSEnvironment, just updated the labels in the doc string.\u001b[0m\u001b[1;33m\u001b[0m\u001b[1;33m\u001b[0m\u001b[1;33m\u001b[0m\u001b[0m\n\u001b[1;32m-> 1295\u001b[1;33m         \u001b[1;32mreturn\u001b[0m \u001b[0msuper\u001b[0m\u001b[1;33m(\u001b[0m\u001b[1;33m)\u001b[0m\u001b[1;33m.\u001b[0m\u001b[0mget_LP\u001b[0m\u001b[1;33m(\u001b[0m\u001b[0mi\u001b[0m\u001b[1;33m,\u001b[0m \u001b[0mstore\u001b[0m\u001b[1;33m)\u001b[0m\u001b[1;33m\u001b[0m\u001b[1;33m\u001b[0m\u001b[0m\n\u001b[0m\u001b[0;32m   1296\u001b[0m \u001b[1;33m\u001b[0m\u001b[0m\n\u001b[0;32m   1297\u001b[0m     \u001b[1;32mdef\u001b[0m \u001b[0mget_RP\u001b[0m\u001b[1;33m(\u001b[0m\u001b[0mself\u001b[0m\u001b[1;33m,\u001b[0m \u001b[0mi\u001b[0m\u001b[1;33m,\u001b[0m \u001b[0mstore\u001b[0m\u001b[1;33m=\u001b[0m\u001b[1;32mTrue\u001b[0m\u001b[1;33m)\u001b[0m\u001b[1;33m:\u001b[0m\u001b[1;33m\u001b[0m\u001b[1;33m\u001b[0m\u001b[0m\n",
      "\u001b[1;32m~\\anaconda3\\lib\\site-packages\\tenpy\\networks\\mps.py\u001b[0m in \u001b[0;36mget_LP\u001b[1;34m(self, i, store)\u001b[0m\n\u001b[0;32m   3210\u001b[0m         \u001b[0mage_i0\u001b[0m \u001b[1;33m=\u001b[0m \u001b[0mself\u001b[0m\u001b[1;33m.\u001b[0m\u001b[0mget_LP_age\u001b[0m\u001b[1;33m(\u001b[0m\u001b[0mi0\u001b[0m\u001b[1;33m)\u001b[0m\u001b[1;33m\u001b[0m\u001b[1;33m\u001b[0m\u001b[0m\n\u001b[0;32m   3211\u001b[0m         \u001b[1;32mfor\u001b[0m \u001b[0mj\u001b[0m \u001b[1;32min\u001b[0m \u001b[0mrange\u001b[0m\u001b[1;33m(\u001b[0m\u001b[0mi0\u001b[0m\u001b[1;33m,\u001b[0m \u001b[0mi\u001b[0m\u001b[1;33m)\u001b[0m\u001b[1;33m:\u001b[0m\u001b[1;33m\u001b[0m\u001b[1;33m\u001b[0m\u001b[0m\n\u001b[1;32m-> 3212\u001b[1;33m             \u001b[0mLP\u001b[0m \u001b[1;33m=\u001b[0m \u001b[0mself\u001b[0m\u001b[1;33m.\u001b[0m\u001b[0m_contract_LP\u001b[0m\u001b[1;33m(\u001b[0m\u001b[0mj\u001b[0m\u001b[1;33m,\u001b[0m \u001b[0mLP\u001b[0m\u001b[1;33m)\u001b[0m\u001b[1;33m\u001b[0m\u001b[1;33m\u001b[0m\u001b[0m\n\u001b[0m\u001b[0;32m   3213\u001b[0m             \u001b[1;32mif\u001b[0m \u001b[0mstore\u001b[0m\u001b[1;33m:\u001b[0m\u001b[1;33m\u001b[0m\u001b[1;33m\u001b[0m\u001b[0m\n\u001b[0;32m   3214\u001b[0m                 \u001b[0mself\u001b[0m\u001b[1;33m.\u001b[0m\u001b[0mset_LP\u001b[0m\u001b[1;33m(\u001b[0m\u001b[0mj\u001b[0m \u001b[1;33m+\u001b[0m \u001b[1;36m1\u001b[0m\u001b[1;33m,\u001b[0m \u001b[0mLP\u001b[0m\u001b[1;33m,\u001b[0m \u001b[0mage\u001b[0m\u001b[1;33m=\u001b[0m\u001b[0mage_i0\u001b[0m \u001b[1;33m+\u001b[0m \u001b[0mj\u001b[0m \u001b[1;33m-\u001b[0m \u001b[0mi0\u001b[0m \u001b[1;33m+\u001b[0m \u001b[1;36m1\u001b[0m\u001b[1;33m)\u001b[0m\u001b[1;33m\u001b[0m\u001b[1;33m\u001b[0m\u001b[0m\n",
      "\u001b[1;32m~\\anaconda3\\lib\\site-packages\\tenpy\\networks\\mpo.py\u001b[0m in \u001b[0;36m_contract_LP\u001b[1;34m(self, i, LP)\u001b[0m\n\u001b[0;32m   1358\u001b[0m         \u001b[1;31m# same as MPSEnvironment._contract_LP, but also contract with `H.get_W(i)`\u001b[0m\u001b[1;33m\u001b[0m\u001b[1;33m\u001b[0m\u001b[1;33m\u001b[0m\u001b[0m\n\u001b[0;32m   1359\u001b[0m         \u001b[0mLP\u001b[0m \u001b[1;33m=\u001b[0m \u001b[0mnpc\u001b[0m\u001b[1;33m.\u001b[0m\u001b[0mtensordot\u001b[0m\u001b[1;33m(\u001b[0m\u001b[0mLP\u001b[0m\u001b[1;33m,\u001b[0m \u001b[0mself\u001b[0m\u001b[1;33m.\u001b[0m\u001b[0mket\u001b[0m\u001b[1;33m.\u001b[0m\u001b[0mget_B\u001b[0m\u001b[1;33m(\u001b[0m\u001b[0mi\u001b[0m\u001b[1;33m,\u001b[0m \u001b[0mform\u001b[0m\u001b[1;33m=\u001b[0m\u001b[1;34m'A'\u001b[0m\u001b[1;33m)\u001b[0m\u001b[1;33m,\u001b[0m \u001b[0maxes\u001b[0m\u001b[1;33m=\u001b[0m\u001b[1;33m(\u001b[0m\u001b[1;34m'vR'\u001b[0m\u001b[1;33m,\u001b[0m \u001b[1;34m'vL'\u001b[0m\u001b[1;33m)\u001b[0m\u001b[1;33m)\u001b[0m\u001b[1;33m\u001b[0m\u001b[1;33m\u001b[0m\u001b[0m\n\u001b[1;32m-> 1360\u001b[1;33m         \u001b[0mLP\u001b[0m \u001b[1;33m=\u001b[0m \u001b[0mnpc\u001b[0m\u001b[1;33m.\u001b[0m\u001b[0mtensordot\u001b[0m\u001b[1;33m(\u001b[0m\u001b[0mself\u001b[0m\u001b[1;33m.\u001b[0m\u001b[0mH\u001b[0m\u001b[1;33m.\u001b[0m\u001b[0mget_W\u001b[0m\u001b[1;33m(\u001b[0m\u001b[0mi\u001b[0m\u001b[1;33m)\u001b[0m\u001b[1;33m,\u001b[0m \u001b[0mLP\u001b[0m\u001b[1;33m,\u001b[0m \u001b[0maxes\u001b[0m\u001b[1;33m=\u001b[0m\u001b[1;33m(\u001b[0m\u001b[1;33m[\u001b[0m\u001b[1;34m'p*'\u001b[0m\u001b[1;33m,\u001b[0m \u001b[1;34m'wL'\u001b[0m\u001b[1;33m]\u001b[0m\u001b[1;33m,\u001b[0m \u001b[1;33m[\u001b[0m\u001b[1;34m'p'\u001b[0m\u001b[1;33m,\u001b[0m \u001b[1;34m'wR'\u001b[0m\u001b[1;33m]\u001b[0m\u001b[1;33m)\u001b[0m\u001b[1;33m)\u001b[0m\u001b[1;33m\u001b[0m\u001b[1;33m\u001b[0m\u001b[0m\n\u001b[0m\u001b[0;32m   1361\u001b[0m         LP = npc.tensordot(self.bra.get_B(i, form='A').conj(),\n\u001b[0;32m   1362\u001b[0m                            \u001b[0mLP\u001b[0m\u001b[1;33m,\u001b[0m\u001b[1;33m\u001b[0m\u001b[1;33m\u001b[0m\u001b[0m\n",
      "\u001b[1;32m~\\anaconda3\\lib\\site-packages\\tenpy\\linalg\\np_conserved.py\u001b[0m in \u001b[0;36mtensordot\u001b[1;34m(a, b, axes)\u001b[0m\n\u001b[0;32m   3394\u001b[0m     \"\"\"\n\u001b[0;32m   3395\u001b[0m     \u001b[1;31m# for details on the implementation, see _tensordot_worker.\u001b[0m\u001b[1;33m\u001b[0m\u001b[1;33m\u001b[0m\u001b[1;33m\u001b[0m\u001b[0m\n\u001b[1;32m-> 3396\u001b[1;33m     \u001b[0ma\u001b[0m\u001b[1;33m,\u001b[0m \u001b[0mb\u001b[0m\u001b[1;33m,\u001b[0m \u001b[0maxes\u001b[0m \u001b[1;33m=\u001b[0m \u001b[0m_tensordot_transpose_axes\u001b[0m\u001b[1;33m(\u001b[0m\u001b[0ma\u001b[0m\u001b[1;33m,\u001b[0m \u001b[0mb\u001b[0m\u001b[1;33m,\u001b[0m \u001b[0maxes\u001b[0m\u001b[1;33m)\u001b[0m\u001b[1;33m\u001b[0m\u001b[1;33m\u001b[0m\u001b[0m\n\u001b[0m\u001b[0;32m   3397\u001b[0m \u001b[1;33m\u001b[0m\u001b[0m\n\u001b[0;32m   3398\u001b[0m     \u001b[1;31m# optimize/check for special cases\u001b[0m\u001b[1;33m\u001b[0m\u001b[1;33m\u001b[0m\u001b[1;33m\u001b[0m\u001b[0m\n",
      "\u001b[1;32mtenpy/linalg/_npc_helper.pyx\u001b[0m in \u001b[0;36mtenpy.linalg._npc_helper._tensordot_transpose_axes\u001b[1;34m()\u001b[0m\n",
      "\u001b[1;32m~\\anaconda3\\lib\\site-packages\\tenpy\\linalg\\charges.py\u001b[0m in \u001b[0;36mtest_contractible\u001b[1;34m(self, other)\u001b[0m\n\u001b[0;32m    810\u001b[0m         \u001b[1;32mif\u001b[0m \u001b[0moptimize\u001b[0m\u001b[1;33m(\u001b[0m\u001b[0mOptimizationFlag\u001b[0m\u001b[1;33m.\u001b[0m\u001b[0mskip_arg_checks\u001b[0m\u001b[1;33m)\u001b[0m\u001b[1;33m:\u001b[0m\u001b[1;33m\u001b[0m\u001b[1;33m\u001b[0m\u001b[0m\n\u001b[0;32m    811\u001b[0m             \u001b[1;32mreturn\u001b[0m\u001b[1;33m\u001b[0m\u001b[1;33m\u001b[0m\u001b[0m\n\u001b[1;32m--> 812\u001b[1;33m         \u001b[0mself\u001b[0m\u001b[1;33m.\u001b[0m\u001b[0mtest_equal\u001b[0m\u001b[1;33m(\u001b[0m\u001b[0mother\u001b[0m\u001b[1;33m.\u001b[0m\u001b[0mconj\u001b[0m\u001b[1;33m(\u001b[0m\u001b[1;33m)\u001b[0m\u001b[1;33m)\u001b[0m\u001b[1;33m\u001b[0m\u001b[1;33m\u001b[0m\u001b[0m\n\u001b[0m\u001b[0;32m    813\u001b[0m \u001b[1;33m\u001b[0m\u001b[0m\n\u001b[0;32m    814\u001b[0m     \u001b[1;32mdef\u001b[0m \u001b[0mtest_equal\u001b[0m\u001b[1;33m(\u001b[0m\u001b[0mself\u001b[0m\u001b[1;33m,\u001b[0m \u001b[0mother\u001b[0m\u001b[1;33m)\u001b[0m\u001b[1;33m:\u001b[0m\u001b[1;33m\u001b[0m\u001b[1;33m\u001b[0m\u001b[0m\n",
      "\u001b[1;32m~\\anaconda3\\lib\\site-packages\\tenpy\\linalg\\charges.py\u001b[0m in \u001b[0;36mtest_equal\u001b[1;34m(self, other)\u001b[0m\n\u001b[0;32m    841\u001b[0m                 \u001b[1;32mnot\u001b[0m \u001b[0mnp\u001b[0m\u001b[1;33m.\u001b[0m\u001b[0marray_equal\u001b[0m\u001b[1;33m(\u001b[0m\u001b[0mself\u001b[0m\u001b[1;33m.\u001b[0m\u001b[0mcharges\u001b[0m \u001b[1;33m*\u001b[0m \u001b[0mself\u001b[0m\u001b[1;33m.\u001b[0m\u001b[0mqconj\u001b[0m\u001b[1;33m,\u001b[0m \u001b[0mother\u001b[0m\u001b[1;33m.\u001b[0m\u001b[0mcharges\u001b[0m \u001b[1;33m*\u001b[0m \u001b[0mother\u001b[0m\u001b[1;33m.\u001b[0m\u001b[0mqconj\u001b[0m\u001b[1;33m)\u001b[0m\u001b[1;33m:\u001b[0m\u001b[1;33m\u001b[0m\u001b[1;33m\u001b[0m\u001b[0m\n\u001b[0;32m    842\u001b[0m             raise ValueError(\"incompatible LegCharge\\n\" +\n\u001b[1;32m--> 843\u001b[1;33m                              vert_join([\"self\\n\" + str(self), \"other\\n\" + str(other)], delim=' | '))\n\u001b[0m\u001b[0;32m    844\u001b[0m \u001b[1;33m\u001b[0m\u001b[0m\n\u001b[0;32m    845\u001b[0m     \u001b[1;32mdef\u001b[0m \u001b[0mget_block_sizes\u001b[0m\u001b[1;33m(\u001b[0m\u001b[0mself\u001b[0m\u001b[1;33m)\u001b[0m\u001b[1;33m:\u001b[0m\u001b[1;33m\u001b[0m\u001b[1;33m\u001b[0m\u001b[0m\n",
      "\u001b[1;31mValueError\u001b[0m: incompatible LegCharge\nself | other\n -1  |  -1  \n0 [] | 0 [] \n2    | 1    "
     ]
    }
   ],
   "source": [
    "Jval = 1.\n",
    "gval = 1.\n",
    "Lval = 3\n",
    "L = 3\n",
    "bc = 'finite'\n",
    "# built-in module TFIM and built-in function calc_H_MPO()\n",
    "#TFI1 = TFIModel({'L':L,'J':Jval,'g':gval,'bc_MPS':'finite','conserve':\"parity\"})\n",
    "TFI1 = TFIModel({'L':Lval,'J':Jval,'g':gval,'bc_MPS':'finite','conserve':None})\n",
    "H_mpo = TFI1.calc_H_MPO()\n",
    "print(H_mpo)\n",
    "\n",
    "env = MPOEnvironment(psi,H_mpo,psi)\n",
    "E = env.full_contraction(L-1)\n",
    "print(\"E=\", E)"
   ]
  },
  {
   "cell_type": "code",
   "execution_count": 391,
   "metadata": {},
   "outputs": [
    {
     "name": "stdout",
     "output_type": "stream",
     "text": [
      "Reading 'bc_MPS'='finite' for config TFIChain\n",
      "Reading 'L'=2 for config TFIChain\n",
      "Reading 'J'=1 for config TFIChain\n",
      "Reading 'g'=1 for config TFIChain\n",
      "<tenpy.models.tf_ising.TFIChain object at 0x0000027C2BBC4A48>\n",
      "<tenpy.networks.mpo.MPO object at 0x0000027C2B9ECE48>\n",
      "[SpinHalfSite('parity'), SpinHalfSite('parity')]\n",
      "finite\n",
      "[0, 0, None]\n",
      "[None, 2, 0]\n",
      "[0, 0, None]\n",
      "[None, 2, 0]\n",
      "0\n",
      "0\n",
      "0\n",
      "2\n",
      "ChargeInfo([2], ['parity'])\n",
      "SpinHalfSite('Sz')\n",
      "<tenpy.models.lattice.Chain object at 0x0000027C2B626748>\n",
      "<class 'tenpy.linalg.np_conserved.Array'>\n",
      "<class 'tenpy.networks.mps.MPS'>\n",
      "MPS, L=2, bc='finite'.\n",
      "chi: [2]\n",
      "sites: SpinHalfSite('Sz') SpinHalfSite('Sz')\n",
      "forms: (1.0, 0.0) (0.0, 1.0)\n"
     ]
    }
   ],
   "source": [
    "M = TFIChain({\"L\": L_val, \"J\": J_val, \"g\": g_val, \"bc_MPS\": 'finite'})\n",
    "print(M)\n",
    "H_mpo = M.calc_H_MPO()\n",
    "print(H_mpo)\n",
    "print(H_mpo.sites)\n",
    "#print(H_mpo.Ws)\n",
    "print(H_mpo.bc)\n",
    "print(H_mpo.IdL)\n",
    "print(H_mpo.IdR)\n",
    "#H_mpo.IdL = [0,0,0]\n",
    "#H_mpo.IdR = [-1,-1,-1]\n",
    "print(H_mpo.IdL)\n",
    "print(H_mpo.IdR)\n",
    "print(H_mpo.get_IdL(1))\n",
    "print(H_mpo.get_IdR(1))\n",
    "print(H_mpo.get_IdL(0))\n",
    "print(H_mpo.get_IdR(0))\n",
    "print(H_mpo.chinfo)\n",
    "#\n",
    "# test for MPS.from_full\n",
    "from tenpy.networks.site import SpinHalfSite\n",
    "from tenpy.models.lattice import Chain\n",
    "import tenpy.linalg.np_conserved as npc\n",
    "site = SpinHalfSite()\n",
    "L = 2\n",
    "lat = Chain(L, site, bc_MPS = 'finite')\n",
    "state = npc.tensordot(x_t, x_t1, ('vR','vL'))\n",
    "psi = MPS.from_full(lat.mps_sites(), state)\n",
    "\n",
    "print(site)\n",
    "print(lat)\n",
    "print(type(state))\n",
    "print(type(psi))\n",
    "print(psi)"
   ]
  },
  {
   "cell_type": "code",
   "execution_count": 306,
   "metadata": {},
   "outputs": [
    {
     "ename": "ValueError",
     "evalue": "could not broadcast input array from shape (0,0) into shape (0)",
     "output_type": "error",
     "traceback": [
      "\u001b[1;31m---------------------------------------------------------------------------\u001b[0m",
      "\u001b[1;31mValueError\u001b[0m                                Traceback (most recent call last)",
      "\u001b[1;32m<ipython-input-306-96d6d09ad38a>\u001b[0m in \u001b[0;36m<module>\u001b[1;34m\u001b[0m\n\u001b[0;32m      1\u001b[0m \u001b[0mL\u001b[0m \u001b[1;33m=\u001b[0m \u001b[0mL_val\u001b[0m\u001b[1;33m\u001b[0m\u001b[1;33m\u001b[0m\u001b[0m\n\u001b[0;32m      2\u001b[0m \u001b[1;32mfrom\u001b[0m \u001b[0mtenpy\u001b[0m\u001b[1;33m.\u001b[0m\u001b[0mnetworks\u001b[0m\u001b[1;33m.\u001b[0m\u001b[0mmpo\u001b[0m \u001b[1;32mimport\u001b[0m \u001b[0mMPO\u001b[0m\u001b[1;33m,\u001b[0m \u001b[0mMPOEnvironment\u001b[0m\u001b[1;33m\u001b[0m\u001b[1;33m\u001b[0m\u001b[0m\n\u001b[1;32m----> 3\u001b[1;33m \u001b[0menv\u001b[0m \u001b[1;33m=\u001b[0m \u001b[0mMPOEnvironment\u001b[0m\u001b[1;33m(\u001b[0m\u001b[0mpsi\u001b[0m\u001b[1;33m,\u001b[0m \u001b[0mH_mpo\u001b[0m\u001b[1;33m,\u001b[0m \u001b[0mpsi\u001b[0m\u001b[1;33m)\u001b[0m\u001b[1;33m\u001b[0m\u001b[1;33m\u001b[0m\u001b[0m\n\u001b[0m\u001b[0;32m      4\u001b[0m \u001b[0mE\u001b[0m \u001b[1;33m=\u001b[0m \u001b[0menv\u001b[0m\u001b[1;33m.\u001b[0m\u001b[0mfull_contraction\u001b[0m\u001b[1;33m(\u001b[0m\u001b[0mL\u001b[0m\u001b[1;33m-\u001b[0m\u001b[1;36m1\u001b[0m\u001b[1;33m)\u001b[0m\u001b[1;33m\u001b[0m\u001b[1;33m\u001b[0m\u001b[0m\n\u001b[0;32m      5\u001b[0m \u001b[1;32mreturn\u001b[0m \u001b[0mE\u001b[0m\u001b[1;33m\u001b[0m\u001b[1;33m\u001b[0m\u001b[0m\n",
      "\u001b[1;32m~\\anaconda3\\lib\\site-packages\\tenpy\\networks\\mpo.py\u001b[0m in \u001b[0;36m__init__\u001b[1;34m(self, bra, H, ket, init_LP, init_RP, age_LP, age_RP)\u001b[0m\n\u001b[0;32m   1207\u001b[0m         \u001b[0mself\u001b[0m\u001b[1;33m.\u001b[0m\u001b[0m_RP_age\u001b[0m \u001b[1;33m=\u001b[0m \u001b[1;33m[\u001b[0m\u001b[1;32mNone\u001b[0m\u001b[1;33m]\u001b[0m \u001b[1;33m*\u001b[0m \u001b[0mL\u001b[0m\u001b[1;33m\u001b[0m\u001b[1;33m\u001b[0m\u001b[0m\n\u001b[0;32m   1208\u001b[0m         \u001b[1;32mif\u001b[0m \u001b[0minit_LP\u001b[0m \u001b[1;32mis\u001b[0m \u001b[1;32mNone\u001b[0m\u001b[1;33m:\u001b[0m\u001b[1;33m\u001b[0m\u001b[1;33m\u001b[0m\u001b[0m\n\u001b[1;32m-> 1209\u001b[1;33m             \u001b[0minit_LP\u001b[0m \u001b[1;33m=\u001b[0m \u001b[0mself\u001b[0m\u001b[1;33m.\u001b[0m\u001b[0minit_LP\u001b[0m\u001b[1;33m(\u001b[0m\u001b[1;36m0\u001b[0m\u001b[1;33m)\u001b[0m\u001b[1;33m\u001b[0m\u001b[1;33m\u001b[0m\u001b[0m\n\u001b[0m\u001b[0;32m   1210\u001b[0m         \u001b[0mself\u001b[0m\u001b[1;33m.\u001b[0m\u001b[0mset_LP\u001b[0m\u001b[1;33m(\u001b[0m\u001b[1;36m0\u001b[0m\u001b[1;33m,\u001b[0m \u001b[0minit_LP\u001b[0m\u001b[1;33m,\u001b[0m \u001b[0mage\u001b[0m\u001b[1;33m=\u001b[0m\u001b[0mage_LP\u001b[0m\u001b[1;33m)\u001b[0m\u001b[1;33m\u001b[0m\u001b[1;33m\u001b[0m\u001b[0m\n\u001b[0;32m   1211\u001b[0m         \u001b[1;32mif\u001b[0m \u001b[0minit_RP\u001b[0m \u001b[1;32mis\u001b[0m \u001b[1;32mNone\u001b[0m\u001b[1;33m:\u001b[0m\u001b[1;33m\u001b[0m\u001b[1;33m\u001b[0m\u001b[0m\n",
      "\u001b[1;32m~\\anaconda3\\lib\\site-packages\\tenpy\\networks\\mpo.py\u001b[0m in \u001b[0;36minit_LP\u001b[1;34m(self, i)\u001b[0m\n\u001b[0;32m   1242\u001b[0m         \u001b[0mleg_mpo\u001b[0m \u001b[1;33m=\u001b[0m \u001b[0mself\u001b[0m\u001b[1;33m.\u001b[0m\u001b[0mH\u001b[0m\u001b[1;33m.\u001b[0m\u001b[0mget_W\u001b[0m\u001b[1;33m(\u001b[0m\u001b[0mi\u001b[0m\u001b[1;33m)\u001b[0m\u001b[1;33m.\u001b[0m\u001b[0mget_leg\u001b[0m\u001b[1;33m(\u001b[0m\u001b[1;34m'wL'\u001b[0m\u001b[1;33m)\u001b[0m\u001b[1;33m.\u001b[0m\u001b[0mconj\u001b[0m\u001b[1;33m(\u001b[0m\u001b[1;33m)\u001b[0m\u001b[1;33m\u001b[0m\u001b[1;33m\u001b[0m\u001b[0m\n\u001b[0;32m   1243\u001b[0m         \u001b[0mIdL\u001b[0m \u001b[1;33m=\u001b[0m \u001b[0mself\u001b[0m\u001b[1;33m.\u001b[0m\u001b[0mH\u001b[0m\u001b[1;33m.\u001b[0m\u001b[0mget_IdL\u001b[0m\u001b[1;33m(\u001b[0m\u001b[0mi\u001b[0m\u001b[1;33m)\u001b[0m\u001b[1;33m\u001b[0m\u001b[1;33m\u001b[0m\u001b[0m\n\u001b[1;32m-> 1244\u001b[1;33m         \u001b[0minit_LP\u001b[0m \u001b[1;33m=\u001b[0m \u001b[0minit_LP\u001b[0m\u001b[1;33m.\u001b[0m\u001b[0madd_leg\u001b[0m\u001b[1;33m(\u001b[0m\u001b[0mleg_mpo\u001b[0m\u001b[1;33m,\u001b[0m \u001b[0mIdL\u001b[0m\u001b[1;33m,\u001b[0m \u001b[0maxis\u001b[0m\u001b[1;33m=\u001b[0m\u001b[1;36m1\u001b[0m\u001b[1;33m,\u001b[0m \u001b[0mlabel\u001b[0m\u001b[1;33m=\u001b[0m\u001b[1;34m'wR'\u001b[0m\u001b[1;33m)\u001b[0m\u001b[1;33m\u001b[0m\u001b[1;33m\u001b[0m\u001b[0m\n\u001b[0m\u001b[0;32m   1245\u001b[0m         \u001b[1;32mreturn\u001b[0m \u001b[0minit_LP\u001b[0m\u001b[1;33m\u001b[0m\u001b[1;33m\u001b[0m\u001b[0m\n\u001b[0;32m   1246\u001b[0m \u001b[1;33m\u001b[0m\u001b[0m\n",
      "\u001b[1;32m~\\anaconda3\\lib\\site-packages\\tenpy\\linalg\\np_conserved.py\u001b[0m in \u001b[0;36madd_leg\u001b[1;34m(self, leg, i, axis, label)\u001b[0m\n\u001b[0;32m   1112\u001b[0m         \u001b[0mlabels\u001b[0m\u001b[1;33m.\u001b[0m\u001b[0minsert\u001b[0m\u001b[1;33m(\u001b[0m\u001b[0maxis\u001b[0m\u001b[1;33m,\u001b[0m \u001b[0mlabel\u001b[0m\u001b[1;33m)\u001b[0m\u001b[1;33m\u001b[0m\u001b[1;33m\u001b[0m\u001b[0m\n\u001b[0;32m   1113\u001b[0m         \u001b[0mqtotal\u001b[0m \u001b[1;33m=\u001b[0m \u001b[0mself\u001b[0m\u001b[1;33m.\u001b[0m\u001b[0mchinfo\u001b[0m\u001b[1;33m.\u001b[0m\u001b[0mmake_valid\u001b[0m\u001b[1;33m(\u001b[0m\u001b[0mself\u001b[0m\u001b[1;33m.\u001b[0m\u001b[0mqtotal\u001b[0m \u001b[1;33m+\u001b[0m \u001b[0mleg\u001b[0m\u001b[1;33m.\u001b[0m\u001b[0mget_charge\u001b[0m\u001b[1;33m(\u001b[0m\u001b[0mqi\u001b[0m\u001b[1;33m)\u001b[0m\u001b[1;33m)\u001b[0m\u001b[1;33m\u001b[0m\u001b[1;33m\u001b[0m\u001b[0m\n\u001b[1;32m-> 1114\u001b[1;33m         \u001b[0mextended\u001b[0m \u001b[1;33m=\u001b[0m \u001b[0mArray\u001b[0m\u001b[1;33m(\u001b[0m\u001b[0mlegs\u001b[0m\u001b[1;33m,\u001b[0m \u001b[0mself\u001b[0m\u001b[1;33m.\u001b[0m\u001b[0mdtype\u001b[0m\u001b[1;33m,\u001b[0m \u001b[0mqtotal\u001b[0m\u001b[1;33m)\u001b[0m\u001b[1;33m\u001b[0m\u001b[1;33m\u001b[0m\u001b[0m\n\u001b[0m\u001b[0;32m   1115\u001b[0m         \u001b[0mextended\u001b[0m\u001b[1;33m.\u001b[0m\u001b[0m_labels\u001b[0m \u001b[1;33m=\u001b[0m \u001b[0mlabels\u001b[0m\u001b[1;33m\u001b[0m\u001b[1;33m\u001b[0m\u001b[0m\n\u001b[0;32m   1116\u001b[0m         \u001b[0mslices\u001b[0m \u001b[1;33m=\u001b[0m \u001b[1;33m[\u001b[0m\u001b[0mslice\u001b[0m\u001b[1;33m(\u001b[0m\u001b[1;32mNone\u001b[0m\u001b[1;33m,\u001b[0m \u001b[1;32mNone\u001b[0m\u001b[1;33m)\u001b[0m\u001b[1;33m]\u001b[0m \u001b[1;33m*\u001b[0m \u001b[0mself\u001b[0m\u001b[1;33m.\u001b[0m\u001b[0mrank\u001b[0m\u001b[1;33m\u001b[0m\u001b[1;33m\u001b[0m\u001b[0m\n",
      "\u001b[1;32m~\\anaconda3\\lib\\site-packages\\tenpy\\linalg\\np_conserved.py\u001b[0m in \u001b[0;36m__init__\u001b[1;34m(self, legcharges, dtype, qtotal, labels)\u001b[0m\n\u001b[0;32m    186\u001b[0m         \u001b[0mself\u001b[0m\u001b[1;33m.\u001b[0m\u001b[0m_qdata\u001b[0m \u001b[1;33m=\u001b[0m \u001b[0mnp\u001b[0m\u001b[1;33m.\u001b[0m\u001b[0mempty\u001b[0m\u001b[1;33m(\u001b[0m\u001b[1;33m(\u001b[0m\u001b[1;36m0\u001b[0m\u001b[1;33m,\u001b[0m \u001b[0mself\u001b[0m\u001b[1;33m.\u001b[0m\u001b[0mrank\u001b[0m\u001b[1;33m)\u001b[0m\u001b[1;33m,\u001b[0m \u001b[0mdtype\u001b[0m\u001b[1;33m=\u001b[0m\u001b[0mnp\u001b[0m\u001b[1;33m.\u001b[0m\u001b[0mintp\u001b[0m\u001b[1;33m,\u001b[0m \u001b[0morder\u001b[0m\u001b[1;33m=\u001b[0m\u001b[1;34m'C'\u001b[0m\u001b[1;33m)\u001b[0m\u001b[1;33m\u001b[0m\u001b[1;33m\u001b[0m\u001b[0m\n\u001b[0;32m    187\u001b[0m         \u001b[0mself\u001b[0m\u001b[1;33m.\u001b[0m\u001b[0m_qdata_sorted\u001b[0m \u001b[1;33m=\u001b[0m \u001b[1;32mTrue\u001b[0m\u001b[1;33m\u001b[0m\u001b[1;33m\u001b[0m\u001b[0m\n\u001b[1;32m--> 188\u001b[1;33m         \u001b[0mself\u001b[0m\u001b[1;33m.\u001b[0m\u001b[0mtest_sanity\u001b[0m\u001b[1;33m(\u001b[0m\u001b[1;33m)\u001b[0m\u001b[1;33m\u001b[0m\u001b[1;33m\u001b[0m\u001b[0m\n\u001b[0m\u001b[0;32m    189\u001b[0m \u001b[1;33m\u001b[0m\u001b[0m\n\u001b[0;32m    190\u001b[0m     \u001b[1;32mdef\u001b[0m \u001b[0mtest_sanity\u001b[0m\u001b[1;33m(\u001b[0m\u001b[0mself\u001b[0m\u001b[1;33m)\u001b[0m\u001b[1;33m:\u001b[0m\u001b[1;33m\u001b[0m\u001b[1;33m\u001b[0m\u001b[0m\n",
      "\u001b[1;32m~\\anaconda3\\lib\\site-packages\\tenpy\\linalg\\np_conserved.py\u001b[0m in \u001b[0;36mtest_sanity\u001b[1;34m(self)\u001b[0m\n\u001b[0;32m    222\u001b[0m                 \u001b[1;32mraise\u001b[0m \u001b[0mValueError\u001b[0m\u001b[1;33m(\u001b[0m\u001b[1;34m\"_qdata_sorted == True, but _qdata is not sorted\"\u001b[0m\u001b[1;33m)\u001b[0m\u001b[1;33m\u001b[0m\u001b[1;33m\u001b[0m\u001b[0m\n\u001b[0;32m    223\u001b[0m         \u001b[1;31m# check total charge\u001b[0m\u001b[1;33m\u001b[0m\u001b[1;33m\u001b[0m\u001b[1;33m\u001b[0m\u001b[0m\n\u001b[1;32m--> 224\u001b[1;33m         \u001b[0mblock_q\u001b[0m \u001b[1;33m=\u001b[0m \u001b[0mnp\u001b[0m\u001b[1;33m.\u001b[0m\u001b[0msum\u001b[0m\u001b[1;33m(\u001b[0m\u001b[1;33m[\u001b[0m\u001b[0ml\u001b[0m\u001b[1;33m.\u001b[0m\u001b[0mget_charge\u001b[0m\u001b[1;33m(\u001b[0m\u001b[0mqi\u001b[0m\u001b[1;33m)\u001b[0m \u001b[1;32mfor\u001b[0m \u001b[0ml\u001b[0m\u001b[1;33m,\u001b[0m \u001b[0mqi\u001b[0m \u001b[1;32min\u001b[0m \u001b[0mzip\u001b[0m\u001b[1;33m(\u001b[0m\u001b[0mself\u001b[0m\u001b[1;33m.\u001b[0m\u001b[0mlegs\u001b[0m\u001b[1;33m,\u001b[0m \u001b[0mself\u001b[0m\u001b[1;33m.\u001b[0m\u001b[0m_qdata\u001b[0m\u001b[1;33m.\u001b[0m\u001b[0mT\u001b[0m\u001b[1;33m)\u001b[0m\u001b[1;33m]\u001b[0m\u001b[1;33m,\u001b[0m \u001b[0maxis\u001b[0m\u001b[1;33m=\u001b[0m\u001b[1;36m0\u001b[0m\u001b[1;33m)\u001b[0m\u001b[1;33m\u001b[0m\u001b[1;33m\u001b[0m\u001b[0m\n\u001b[0m\u001b[0;32m    225\u001b[0m         \u001b[0mblock_q\u001b[0m \u001b[1;33m=\u001b[0m \u001b[0mself\u001b[0m\u001b[1;33m.\u001b[0m\u001b[0mchinfo\u001b[0m\u001b[1;33m.\u001b[0m\u001b[0mmake_valid\u001b[0m\u001b[1;33m(\u001b[0m\u001b[0mblock_q\u001b[0m\u001b[1;33m)\u001b[0m\u001b[1;33m\u001b[0m\u001b[1;33m\u001b[0m\u001b[0m\n\u001b[0;32m    226\u001b[0m         \u001b[1;32mif\u001b[0m \u001b[0mnp\u001b[0m\u001b[1;33m.\u001b[0m\u001b[0many\u001b[0m\u001b[1;33m(\u001b[0m\u001b[0mblock_q\u001b[0m \u001b[1;33m!=\u001b[0m \u001b[0mself\u001b[0m\u001b[1;33m.\u001b[0m\u001b[0mqtotal\u001b[0m\u001b[1;33m)\u001b[0m\u001b[1;33m:\u001b[0m\u001b[1;33m\u001b[0m\u001b[1;33m\u001b[0m\u001b[0m\n",
      "\u001b[1;32m<__array_function__ internals>\u001b[0m in \u001b[0;36msum\u001b[1;34m(*args, **kwargs)\u001b[0m\n",
      "\u001b[1;32m~\\anaconda3\\lib\\site-packages\\numpy\\core\\fromnumeric.py\u001b[0m in \u001b[0;36msum\u001b[1;34m(a, axis, dtype, out, keepdims, initial, where)\u001b[0m\n\u001b[0;32m   2227\u001b[0m \u001b[1;33m\u001b[0m\u001b[0m\n\u001b[0;32m   2228\u001b[0m     return _wrapreduction(a, np.add, 'sum', axis, dtype, out, keepdims=keepdims,\n\u001b[1;32m-> 2229\u001b[1;33m                           initial=initial, where=where)\n\u001b[0m\u001b[0;32m   2230\u001b[0m \u001b[1;33m\u001b[0m\u001b[0m\n\u001b[0;32m   2231\u001b[0m \u001b[1;33m\u001b[0m\u001b[0m\n",
      "\u001b[1;32m~\\anaconda3\\lib\\site-packages\\numpy\\core\\fromnumeric.py\u001b[0m in \u001b[0;36m_wrapreduction\u001b[1;34m(obj, ufunc, method, axis, dtype, out, **kwargs)\u001b[0m\n\u001b[0;32m     88\u001b[0m                 \u001b[1;32mreturn\u001b[0m \u001b[0mreduction\u001b[0m\u001b[1;33m(\u001b[0m\u001b[0maxis\u001b[0m\u001b[1;33m=\u001b[0m\u001b[0maxis\u001b[0m\u001b[1;33m,\u001b[0m \u001b[0mout\u001b[0m\u001b[1;33m=\u001b[0m\u001b[0mout\u001b[0m\u001b[1;33m,\u001b[0m \u001b[1;33m**\u001b[0m\u001b[0mpasskwargs\u001b[0m\u001b[1;33m)\u001b[0m\u001b[1;33m\u001b[0m\u001b[1;33m\u001b[0m\u001b[0m\n\u001b[0;32m     89\u001b[0m \u001b[1;33m\u001b[0m\u001b[0m\n\u001b[1;32m---> 90\u001b[1;33m     \u001b[1;32mreturn\u001b[0m \u001b[0mufunc\u001b[0m\u001b[1;33m.\u001b[0m\u001b[0mreduce\u001b[0m\u001b[1;33m(\u001b[0m\u001b[0mobj\u001b[0m\u001b[1;33m,\u001b[0m \u001b[0maxis\u001b[0m\u001b[1;33m,\u001b[0m \u001b[0mdtype\u001b[0m\u001b[1;33m,\u001b[0m \u001b[0mout\u001b[0m\u001b[1;33m,\u001b[0m \u001b[1;33m**\u001b[0m\u001b[0mpasskwargs\u001b[0m\u001b[1;33m)\u001b[0m\u001b[1;33m\u001b[0m\u001b[1;33m\u001b[0m\u001b[0m\n\u001b[0m\u001b[0;32m     91\u001b[0m \u001b[1;33m\u001b[0m\u001b[0m\n\u001b[0;32m     92\u001b[0m \u001b[1;33m\u001b[0m\u001b[0m\n",
      "\u001b[1;31mValueError\u001b[0m: could not broadcast input array from shape (0,0) into shape (0)"
     ]
    }
   ],
   "source": [
    "L = L_val\n",
    "from tenpy.networks.mpo import MPO, MPOEnvironment\n",
    "env = MPOEnvironment(psi, H_mpo, psi)\n",
    "E = env.full_contraction(L-1)\n",
    "return E\n",
    "# <tenpy.networks.mpo.MPOEnvironment object at 0x0000027C2996C488>"
   ]
  }
 ],
 "metadata": {
  "kernelspec": {
   "display_name": "Python 3",
   "language": "python",
   "name": "python3"
  },
  "language_info": {
   "codemirror_mode": {
    "name": "ipython",
    "version": 3
   },
   "file_extension": ".py",
   "mimetype": "text/x-python",
   "name": "python",
   "nbconvert_exporter": "python",
   "pygments_lexer": "ipython3",
   "version": "3.7.6"
  }
 },
 "nbformat": 4,
 "nbformat_minor": 4
}
