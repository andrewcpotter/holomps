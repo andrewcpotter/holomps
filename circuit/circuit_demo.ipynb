{
 "cells": [
  {
   "cell_type": "code",
   "execution_count": 1,
   "metadata": {},
   "outputs": [],
   "source": [
    "from circuit import Circuit\n",
    "import numpy as np\n",
    "np.set_printoptions(precision=3)\n",
    "np.set_printoptions(suppress=True)"
   ]
  },
  {
   "cell_type": "markdown",
   "metadata": {},
   "source": [
    "## Basic use\n",
    "\n",
    "We initialize a circuit with a single quantum resource: a qubit. The \"p\" indicates that this qudit is a physical index into the unitary that this circuit represents. The \"2\" indicates that the qubit has 2 levels (of course, for a qubit, this is by definition; using another number will throw an error)."
   ]
  },
  {
   "cell_type": "code",
   "execution_count": 2,
   "metadata": {},
   "outputs": [],
   "source": [
    "c = Circuit([(\"qubit\", \"p\", 2)])"
   ]
  },
  {
   "cell_type": "markdown",
   "metadata": {},
   "source": [
    "There are two qudit types to choose from: \"qubit\" and \"cavity\". There are 3 gates that you can add to a circuit: an arbitrary rotation on a qubit, an arbitrary displacement on a cavity, and an entangling SNAP gate between a qubit and a cavity. Our circuit only has a qubit, so we can only add a rotation; trying to add another type of gate will throw an error.\n",
    "\n",
    "Typically, the add_gate method requires you to specify the index of the qudit that the gate acts on, but if the appropriate qudit can be uniquely inferred from the register, it's optional. Here, since there's only one qubit, it's unambiguous which qubit is being rotated, so I don't specify the qudit_ids."
   ]
  },
  {
   "cell_type": "code",
   "execution_count": 3,
   "metadata": {},
   "outputs": [],
   "source": [
    "c.add_gate(\"rotation\")"
   ]
  },
  {
   "cell_type": "markdown",
   "metadata": {},
   "source": [
    "If you want to specify the qudit_ids for a gate, the parameter to pass is called qids, a list of ints specifying all the qudits that the gate acts on. A rotation gate only acts on one qudit, so qids will be a length-1 list. Qudits are labelled by their index in the list that you passes into the Circuit constructor."
   ]
  },
  {
   "cell_type": "code",
   "execution_count": 4,
   "metadata": {},
   "outputs": [],
   "source": [
    "c.add_gate(\"rotation\", qids=[0])"
   ]
  },
  {
   "cell_type": "markdown",
   "metadata": {},
   "source": [
    "As soon as you've added all the gates you need to, make sure to assemble the circuit. You can't do anything with the circuit until you assemble it."
   ]
  },
  {
   "cell_type": "code",
   "execution_count": 5,
   "metadata": {},
   "outputs": [],
   "source": [
    "c.assemble()"
   ]
  },
  {
   "cell_type": "markdown",
   "metadata": {},
   "source": [
    "An assembled circuit has some useful information that you can access. You can get the number of free parameters that this circuit needs directly from the circuit as shown below. Most of the circuit's metadata is stored in its RegisterInfo data structure. "
   ]
  },
  {
   "cell_type": "code",
   "execution_count": 6,
   "metadata": {},
   "outputs": [
    {
     "name": "stdout",
     "output_type": "stream",
     "text": [
      "num params: 6\n",
      "total hilbert space dimension: 2\n",
      "qudit types: ['qubit']\n",
      "qudit levels: [2]\n",
      "tensor shape (p_in, b_in, p_out, b_out): (2, 1, 2, 1)\n"
     ]
    }
   ],
   "source": [
    "print(\"num params: {}\".format(c.n_params))\n",
    "print(\"total hilbert space dimension: {}\".format(c.regInfo.dim))\n",
    "print(\"qudit types: {}\".format(c.regInfo.qudit_types))\n",
    "print(\"qudit levels: {}\".format(c.regInfo.qudit_levels))\n",
    "print(\"tensor shape (p_in, b_in, p_out, b_out): {}\".format(c.regInfo.tensor_shape))"
   ]
  },
  {
   "cell_type": "markdown",
   "metadata": {},
   "source": [
    "There are 6 params since we added two rotations and each one takes three parameters: theta (the polar angle of the rotation axis), phi (azimuthal angle of rotation axis), and rotangle (the angle of rotation around the rotation axis). If we set theta and phi for each gate arbitrarily, but set rotangle=0 for both gates, clearly there is no rotation and we should get the identity matrix back. You get the unitary matrix by calling `circuit.evaluate(param_vector)`.\n",
    "\n",
    "Note that the parameter vector is organized gate-by-gate. So the first rotation gate reads `params[0:3]` and the second gate reads `params[3:6]`."
   ]
  },
  {
   "cell_type": "code",
   "execution_count": 7,
   "metadata": {},
   "outputs": [
    {
     "name": "stdout",
     "output_type": "stream",
     "text": [
      "[[1.+0.j 0.+0.j]\n",
      " [0.+0.j 1.+0.j]]\n"
     ]
    }
   ],
   "source": [
    "params = np.array([2.13, -1.43, 0, 0.22, 5.44, 0])\n",
    "unitary = c.evaluate(params)\n",
    "print(unitary)"
   ]
  },
  {
   "cell_type": "markdown",
   "metadata": {},
   "source": [
    "## Parametrizer functions\n",
    "\n",
    "Sometimes we don't want an arbitrary rotation; we'd instead like to parametrize a particular rotation, for example an arbitrary rotation around the Z axis. We can do this by providing additional arguments to the `add_gate` function: the number of free parameters in the gate, and a \"parametrizer function\" that specifies how the native parameters depend on the parameters the gate receives.\n",
    "\n",
    "In this case, the arbitrary rotation around the Z axis is parametrized by one real number. The native parameters theta and phi are both zero, since the rotation axis is the Z axis. The rotangle parameter takes the value of the parameter passed into the gate. So, out parametrizer function should return `[0, 0, params[0]]`. I use a lambda function here since this is pretty trivial.\n",
    "\n",
    "The parametrizer function takes as an argument its slice of the parameter vector (in this case, `p` is a vector slice of length 1, since `n_params=1`). It should output a list of the native parameters -- for a rotation gate, this list should have length 3."
   ]
  },
  {
   "cell_type": "code",
   "execution_count": 8,
   "metadata": {},
   "outputs": [],
   "source": [
    "c = Circuit([(\"qubit\", \"p\", 2)])\n",
    "c.add_gate(\"rotation\", n_params=1, fn=lambda p: [0, 0, p[0]])\n",
    "c.assemble()"
   ]
  },
  {
   "cell_type": "markdown",
   "metadata": {},
   "source": [
    "The following code uses this Z-axis rotation, parametrized by `rotangle` $=\\pi/2$. Acting on a Z-aligned qubit `[1, 0]`, it induces only a global phase, as expected. Acting on an X-aligned spinor, it produces a Y-aligned spinor (with a global phase)."
   ]
  },
  {
   "cell_type": "code",
   "execution_count": 9,
   "metadata": {},
   "outputs": [
    {
     "name": "stdout",
     "output_type": "stream",
     "text": [
      "pi/2 rotation around Z axis\n",
      "\n",
      "effect on [1, 0]\n",
      "[ 1.-0.j -0.+0.j]\n",
      "\n",
      "effect on [1, 1]/sqrt(2)\n",
      "[ 1.-0.j -0.+1.j]\n"
     ]
    }
   ],
   "source": [
    "print(\"pi/2 rotation around Z axis\")\n",
    "print()\n",
    "params = np.array([np.pi/2])\n",
    "unitary = c.evaluate(params)\n",
    "\n",
    "print(\"effect on [1, 0]\")\n",
    "state = np.array([1, 0])\n",
    "out = unitary @ state\n",
    "# print without global phase\n",
    "print(out/out[0])\n",
    "print()\n",
    "\n",
    "print(\"effect on [1, 1]/sqrt(2)\")\n",
    "state = np.array([1, 1]) / np.sqrt(2)\n",
    "out = unitary @ state\n",
    "# print without global phase\n",
    "print(out/out[0])"
   ]
  },
  {
   "cell_type": "markdown",
   "metadata": {},
   "source": [
    "## Two qudits\n",
    "\n",
    "Here's another circuit, this time with two resources: a qubit and a cavity. Notice that the qubit is a physical index while the cavity represents a bond index (hence the \"b\"). The cavity has 10 levels, i.e. its local Hilbert space has dimension 10."
   ]
  },
  {
   "cell_type": "code",
   "execution_count": 10,
   "metadata": {},
   "outputs": [
    {
     "name": "stdout",
     "output_type": "stream",
     "text": [
      "num params: 14\n",
      "total hilbert space dimension: 20\n",
      "qudit types: ['qubit', 'cavity']\n",
      "qudit levels: [2, 10]\n",
      "tensor shape (p_in, b_in, p_out, b_out): (2, 10, 2, 10)\n"
     ]
    }
   ],
   "source": [
    "c = Circuit([(\"qubit\", \"p\", 2),\n",
    "             (\"cavity\", \"b\", 10)])\n",
    "c.add_gate(\"displacement\")\n",
    "c.add_gate(\"snap\")\n",
    "c.add_gate(\"displacement\")\n",
    "c.assemble()\n",
    "\n",
    "print(\"num params: {}\".format(c.n_params))\n",
    "print(\"total hilbert space dimension: {}\".format(c.regInfo.dim))\n",
    "print(\"qudit types: {}\".format(c.regInfo.qudit_types))\n",
    "print(\"qudit levels: {}\".format(c.regInfo.qudit_levels))\n",
    "print(\"tensor shape (p_in, b_in, p_out, b_out): {}\".format(c.regInfo.tensor_shape))"
   ]
  },
  {
   "cell_type": "markdown",
   "metadata": {},
   "source": [
    "Here, I'm using the circuit and parameters specified in Heeres et al. \"Cavity State Manipulation Using Photon-Number Selective Phase Gates\" to produce the $|1\\rangle$ Fock state in the cavity, starting from a spin-up qubit and ground state cavity."
   ]
  },
  {
   "cell_type": "code",
   "execution_count": 11,
   "metadata": {},
   "outputs": [
    {
     "name": "stdout",
     "output_type": "stream",
     "text": [
      "Successfully created Fock state |1>\n"
     ]
    }
   ],
   "source": [
    "params = np.array([1.14, 0]+[np.pi]+[0]*9+[-0.58, 0])\n",
    "state = np.zeros(20)\n",
    "state[0] = 1\n",
    "out = c.evaluate(params) @ state\n",
    "assert abs(np.linalg.norm(out) - 1) < 1e-5\n",
    "assert np.abs(out[1]) > 0.99\n",
    "print(\"Successfully created Fock state |1>\")"
   ]
  },
  {
   "cell_type": "markdown",
   "metadata": {},
   "source": [
    "## Some more sample code and tests\n",
    "\n",
    "Here, I show that SNAP gates and displacement gates do not produce entanglement, given that the qubit is initialized as Z-aligned. I do this by showing that the final unitary is block diagonal (so any spin-up qubit remains spin-up regardless of the circuit, and likewise for spin-down).\n",
    "\n",
    "Note that we can get the 4-leg tensor representation of the unitary, with shape (phys, bond, phys, bond). This test also shows that the tensor reshaping is done correctly."
   ]
  },
  {
   "cell_type": "code",
   "execution_count": 12,
   "metadata": {},
   "outputs": [
    {
     "name": "stdout",
     "output_type": "stream",
     "text": [
      "Z-aligned qubits remain unentangled\n"
     ]
    }
   ],
   "source": [
    "c = Circuit([(\"qubit\", \"p\", 2),\n",
    "             (\"cavity\", \"b\", 10)])\n",
    "c.add_gate(\"displacement\")\n",
    "c.add_gate(\"snap\")\n",
    "c.add_gate(\"displacement\")\n",
    "c.add_gate(\"snap\")\n",
    "c.assemble()\n",
    "\n",
    "rng = np.random.default_rng()\n",
    "\n",
    "params = rng.uniform(high=2*np.pi, size=c.n_params)\n",
    "tensor = c.get_tensor(params)\n",
    "assert (tensor[0, :, 1, :] == np.zeros((10, 10))).all()\n",
    "assert (tensor[1, :, 0, :] == np.zeros((10, 10))).all()\n",
    "print(\"Z-aligned qubits remain unentangled\")"
   ]
  },
  {
   "cell_type": "markdown",
   "metadata": {},
   "source": [
    "Here are some final tests to show that everything behaves nicely."
   ]
  },
  {
   "cell_type": "code",
   "execution_count": 13,
   "metadata": {},
   "outputs": [
    {
     "name": "stdout",
     "output_type": "stream",
     "text": [
      "TEST: Cavity X-rotation\n",
      "PASS\n",
      "\n",
      "TEST: Cavity Z-to-X rotation\n",
      "PASS\n",
      "\n",
      "TEST: Qubit Z-to-X rotation\n",
      "PASS\n",
      "\n"
     ]
    }
   ],
   "source": [
    "from scipy.linalg import expm\n",
    "\n",
    "rng = np.random.default_rng()\n",
    "paulix = np.array([[0, 1], [1, 0]])\n",
    "pauliy = np.array([[0, -1j], [1j, 0]])\n",
    "\n",
    "print(\"TEST: Cavity X-rotation\")\n",
    "c = Circuit([(\"cavity\", 'p', 2)])\n",
    "c.add_gate(\"displacement\", n_params=1, fn=lambda p: [0, -p[0]/2])\n",
    "c.assemble()\n",
    "for i in range(10):\n",
    "    # random parameter between 0 and 2pi\n",
    "    theta = rng.uniform(high=2*np.pi)\n",
    "    u = c.evaluate(np.array([theta]))\n",
    "    # the correct gate for an X-rotation on a spinor\n",
    "    correct = expm(-1j/2 * theta * paulix)\n",
    "    # check that the matrices agree within 1e-5\n",
    "    assert np.allclose(u, correct, atol=1e-5)\n",
    "print(\"PASS\\n\")\n",
    "\n",
    "# the correct gate for a Z-to-X rotation on a spinor\n",
    "correct = expm(-1j/2 * np.pi/2 * pauliy)\n",
    "\n",
    "print(\"TEST: Cavity Z-to-X rotation\")\n",
    "c = Circuit([(\"cavity\", 'p', 2)])\n",
    "# can show that a displacement of pi/4+0i is equivalent to a ZX rotation\n",
    "c.add_gate(\"displacement\", n_params=0, fn=lambda p: [np.pi/4, 0])\n",
    "c.assemble()\n",
    "# param vector is empty\n",
    "u = c.evaluate(np.array([]))\n",
    "assert np.allclose(u, correct, atol=1e-5)\n",
    "print(\"PASS\\n\")\n",
    "\n",
    "print(\"TEST: Qubit Z-to-X rotation\")\n",
    "c = Circuit([(\"qubit\", 'p', 2)])\n",
    "# pi/2 rotation around Y axis has theta, phi = pi/2, pi/2\n",
    "c.add_gate(\"rotation\", n_params=0, fn=lambda p: [np.pi/2, np.pi/2, np.pi/2])\n",
    "c.assemble()\n",
    "u = c.evaluate(np.array([]))\n",
    "assert np.allclose(u, correct, atol=1e-5)\n",
    "print(\"PASS\\n\")"
   ]
  },
  {
   "cell_type": "code",
   "execution_count": null,
   "metadata": {},
   "outputs": [],
   "source": []
  }
 ],
 "metadata": {
  "kernelspec": {
   "display_name": "Python 3",
   "language": "python",
   "name": "python3"
  },
  "language_info": {
   "codemirror_mode": {
    "name": "ipython",
    "version": 3
   },
   "file_extension": ".py",
   "mimetype": "text/x-python",
   "name": "python",
   "nbconvert_exporter": "python",
   "pygments_lexer": "ipython3",
   "version": "3.7.7"
  }
 },
 "nbformat": 4,
 "nbformat_minor": 4
}
