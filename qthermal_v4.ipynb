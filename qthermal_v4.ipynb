{
 "cells": [
  {
   "cell_type": "code",
   "execution_count": 1,
   "metadata": {},
   "outputs": [],
   "source": [
    "\n",
    "import quimb.tensor as qtn\n",
    "import quimb as qu\n",
    "from quimb import randn\n",
    "import numpy as np\n",
    "from quimb.tensor.optimize import TNOptimizer\n",
    "from quimb.tensor.optimize import NADAM\n",
    "import qiskit as qk\n",
    "from hamiltonian import model_mpo\n",
    "import basic_circuits as circuits"
   ]
  },
  {
   "cell_type": "code",
   "execution_count": 8,
   "metadata": {},
   "outputs": [],
   "source": [
    "\n",
    "\n",
    "def add_su4_circ(q1,q2,params):\n",
    "    \"\"\"\n",
    "    inputs:\n",
    "        - q1,2 qubits\n",
    "        - params, qiskit ParameterVector object or list of qk Parameters\n",
    "    returns: \n",
    "        - QKParamCircuit object\n",
    "    \"\"\"\n",
    "    circ = qtn.Circuit(N=2)\n",
    "    param1 = params[:3]\n",
    "    param2 = params[3:6]\n",
    "    param3 = params[6:7]\n",
    "    param4 = params[7:8]\n",
    "    param5 = params[8:9]\n",
    "    param6 = params[9:12]\n",
    "    param7 = params[12:15]\n",
    "    \n",
    "    circ.apply_gate('U3', *param1, q1,\n",
    "            gate_round=None, parametrize=True)\n",
    "    circ.apply_gate('U3', *param2, q2,\n",
    "            gate_round=None, parametrize=True)    \n",
    "    circ.apply_gate('CX', q1, q2,\n",
    "            gate_round=None,parametrize=False)        \n",
    "    circ.apply_gate('RZ', *param3, q1,\n",
    "            gate_round=None,parametrize=True)\n",
    "    circ.apply_gate('RY', *param4, q2,\n",
    "            gate_round=None,parametrize=True)\n",
    "    circ.apply_gate('CX', q1, q2,\n",
    "            gate_round=None,parametrize=False)        \n",
    "    circ.apply_gate('RY', *param5, q2,\n",
    "            gate_round=None,parametrize=True)    \n",
    "    circ.apply_gate('CX', q1, q2,\n",
    "            gate_round=None,parametrize=False)\n",
    "    circ.apply_gate('U3', *param6, q1,\n",
    "            gate_round=None, parametrize=True)\n",
    "    circ.apply_gate('U3', *param7, q2,\n",
    "            gate_round=None, parametrize=True)\n",
    "    return circ\n",
    "\n",
    "def pre_meas():\n",
    "    '''\n",
    "    A circuit to prepare unitary circuit that we use for density operator\n",
    "    '''\n",
    "    param1 = qu.randn(1, dist='uniform')\n",
    "    circ = qtn.Circuit(2)\n",
    "    circ.apply_gate('RY', *param1, 0,\n",
    "            gate_round=None,parametrize=True)\n",
    "    circ.apply_gate('CNOT',0,1,\n",
    "            gate_round=None,parametrize=False)\n",
    "    return circ\n",
    "\n",
    "def density_matrix(unitary_circ):\n",
    "    '''\n",
    "    Here we prepare the density matrix\n",
    "    '''\n",
    "    a = unitary_circ.uni\n",
    "    ini = np.zeros([4,4])\n",
    "    ini[0][0]=1\n",
    "    ini = ini.reshape(2,2,2,2)\n",
    "    ind = 'k0','k1','bc0','bc1'\n",
    "    den = qtn.Tensor(ini,ind,tags='den')\n",
    "    b = a.reindex({'b1':'k0','b0':'k1','k0':'b1','k1':'b0'})\n",
    "    b = b.reindex({'k0':'bc0','k1':'bc1','b0':'kc0','b1':'kc1'})\n",
    "    TN = a & den & b\n",
    "    TN = TN.reindex({'b0':'x','kc1':'x'})\n",
    "    return TN\n",
    "\n",
    "def MPDO(circuit,n,j):\n",
    "    \"\"\"\n",
    "    Constructs the Matrix Product Density Operator\n",
    "    \"\"\"\n",
    "    k = circuit\n",
    "    k = k.reindex({'k0':f'p{j}', 'k1':f'b{n+1}', 'b0':f'p{j+1}', 'b1':f'b{n}'})\n",
    "    \n",
    "    ind = f'p{j+1}',f'p{j+2}'\n",
    "    dm = qtn.Tensor(np.array([[1-1e-34,0],[0,1e-34]]),ind)\n",
    "    #dm = qtn.Tensor(density_matrix(pre_meas()),ind)\n",
    "    #dm=dm.reindex({'b1':f'p{j+1}','kc0':f'p{j+2}'})\n",
    "    #dm.add_tag('p')\n",
    "\n",
    "    kc = circuit.H\n",
    "    #kc = kc.reindex({'k0':f'bx{n}','k1':f'bx{n+1}','b0':f'p{j+2}','b1':f'p{j+3}'})\n",
    "    kc = kc.reindex({'k0':f'p{j+3}','k1':f'bx{n+1}','b0':f'p{j+2}','b1':f'bx{n}'})\n",
    "    \n",
    "    TN = k & dm & kc  \n",
    "    return TN\n",
    "\n",
    "def contract(circuit,N,state_vcl):\n",
    "    \"\"\"\n",
    "    Returns tensor contractions (for density matrix)\n",
    "    \"\"\"\n",
    "    TN_list = [MPDO(circuit,n,j) for n,j in zip(range(N),range(0,4*N+6,5))]\n",
    "    \n",
    "    # boundary conditions\n",
    "    # for ket:\n",
    "    inds0 = 'b0',\n",
    "    s_left = qtn.Tensor(state_vcl,inds0,tags='sl')\n",
    "    \n",
    "    inds1 = f'b{N}',f'bx{N}',\n",
    "    s_right = qtn.Tensor(np.eye(state_vcl.size),inds1,tags='rvec')\n",
    "\n",
    "    # for bra:\n",
    "    inds2 = 'bx0',\n",
    "    sc_left = qtn.Tensor(state_vcl.conj(),inds2,tags='scl')\n",
    "    \n",
    "    # tenor contractions\n",
    "    TN0 = TN_list[0]\n",
    "    for j in range(1,len(TN_list)):\n",
    "        TN0 = TN_list[j] & TN0\n",
    "    \n",
    "    TN = s_left & s_right & sc_left & TN0\n",
    "    return TN"
   ]
  },
  {
   "cell_type": "code",
   "execution_count": 84,
   "metadata": {},
   "outputs": [],
   "source": [
    "\n",
    "# params\n",
    "T = 0\n",
    "l_uc = 1\n",
    "L = 2\n",
    "N = L * l_uc\n",
    "jz = -1\n",
    "bx = -2\n",
    "state_vcl = np.array([1.,0.])"
   ]
  },
  {
   "cell_type": "code",
   "execution_count": 85,
   "metadata": {},
   "outputs": [
    {
     "data": {
      "image/png": "[encoded data removed]",
      "text/plain": [
       "<Figure size 432x432 with 1 Axes>"
      ]
     },
     "metadata": {},
     "output_type": "display_data"
    }
   ],
   "source": [
    "\n",
    "import quimb as qu\n",
    "\n",
    "# hamiltonian\n",
    "U_dense = qu.ham_ising(N, jz=jz, bx=bx, cyclic=True)\n",
    "\n",
    "if N < 5:\n",
    "    k = 0\n",
    "elif 5 <= N < 10:\n",
    "    k = 5\n",
    "elif N == 10:\n",
    "    k = 10\n",
    "    \n",
    "U = qtn.Tensor(\n",
    "    data=U_dense.reshape([2] * (2 * N)),\n",
    "    inds=[f'p{j+3}' for j in range(0,4*N+k,5)] + [f'p{j}' for j in range(0,4*N+k,5)],\n",
    "    tags={'Hamiltonian'}\n",
    ")\n",
    "\n",
    "param = qu.randn(15, dist='uniform')\n",
    "circuit = add_su4_circ(0,1,param).uni\n",
    "V = contract(circuit,L,state_vcl)\n",
    "\n",
    "def loss(V,U):\n",
    "    return np.real((V & U).contract(all, optimize='auto-hq',backend = 'jax'))\n",
    "\n",
    "(U & V).draw(color=['sl','rvec','scl','U3','RY','RZ','CX','CNOT','Hamiltonian'])"
   ]
  },
  {
   "cell_type": "code",
   "execution_count": 86,
   "metadata": {},
   "outputs": [
    {
     "name": "stderr",
     "output_type": "stream",
     "text": [
      "-1.999716281891 [best: -1.999716281891] :  63%|██████▎   | 628/1000 [00:03<00:02, 158.79it/s]\n"
     ]
    }
   ],
   "source": [
    "\n",
    "tnopt = TNOptimizer(\n",
    "    V,                        # the tensor network we want to optimize\n",
    "    loss,                     # the function we want to minimize\n",
    "    loss_constants={'U': U},  # supply U to the loss function as a constant TN\n",
    "    autodiff_backend='jax',   # use 'autograd' for non-compiled optimization\n",
    "    optimizer='tnc',     # the optimization algorithm\n",
    "    tags=['RY','U3','RZ']\n",
    ")\n",
    "v_opt = tnopt.optimize(1000,tol=1e-10,jac=True,hessp=True)"
   ]
  },
  {
   "cell_type": "code",
   "execution_count": 87,
   "metadata": {},
   "outputs": [
    {
     "name": "stdout",
     "output_type": "stream",
     "text": [
      "SWEEP-1, direction=R, max_bond=(8/8), cutoff:1e-06\n"
     ]
    },
    {
     "name": "stderr",
     "output_type": "stream",
     "text": [
      "100%|############################################| 1/1 [00:00<00:00, 266.37it/s]"
     ]
    },
    {
     "name": "stdout",
     "output_type": "stream",
     "text": [
      "Energy: -2.0155644370746364 ... not converged.\n",
      "SWEEP-2, direction=R, max_bond=(2/16), cutoff:1e-06\n"
     ]
    },
    {
     "name": "stderr",
     "output_type": "stream",
     "text": [
      "\n",
      "100%|############################################| 1/1 [00:00<00:00, 363.14it/s]"
     ]
    },
    {
     "name": "stdout",
     "output_type": "stream",
     "text": [
      "Energy: -2.0155644370746364 ... converged!\n"
     ]
    },
    {
     "name": "stderr",
     "output_type": "stream",
     "text": [
      "\n"
     ]
    },
    {
     "data": {
      "text/plain": [
       "True"
      ]
     },
     "execution_count": 87,
     "metadata": {},
     "output_type": "execute_result"
    }
   ],
   "source": [
    "\n",
    "# dmrg computations\n",
    "from quimb import *\n",
    "from quimb.tensor import *\n",
    "H = MPO_ham_ising(N, j=jz, bx=bx)\n",
    "DMRG2(H).solve(max_sweeps=100, verbosity=1, cutoffs=1e-6)"
   ]
  },
  {
   "cell_type": "code",
   "execution_count": 105,
   "metadata": {},
   "outputs": [
    {
     "data": {
      "text/plain": [
       "(0.6867341707694673+0.03266914661132961j)"
      ]
     },
     "execution_count": 105,
     "metadata": {},
     "output_type": "execute_result"
    }
   ],
   "source": [
    "\n",
    "import quimb as qu\n",
    "def norm1(circuit,n,j):\n",
    "    \"\"\"\n",
    "    Constructs the Matrix Product Density Operator\n",
    "    \"\"\"\n",
    "    k = circuit\n",
    "    k = k.reindex({'k0':f'p{j}', 'k1':f'b{n+1}', 'b0':f'p{j+1}', 'b1':f'b{n}'})\n",
    "    \n",
    "    ind = f'p{j+1}',f'p{j+2}'\n",
    "    dm = qtn.Tensor(np.array([[1-1e-34,0],[0,1e-34]]),ind)\n",
    "\n",
    "    kc = circuit.H\n",
    "    kc = kc.reindex({'k0':f'p{j+2}','k1':f'bx{n+1}','b0':f'p{j}','b1':f'bx{n}'})\n",
    "    \n",
    "    TN = k & dm & kc  \n",
    "    return TN\n",
    "\n",
    "def norm2(circuit,N,state_vcl):\n",
    "    \"\"\"\n",
    "    Returns tensor contractions (for density matrix)\n",
    "    \"\"\"\n",
    "    TN_list = [norm1(circuit,n,j) for n,j in zip(range(N),range(0,4*N+6,5))]\n",
    "    \n",
    "    # boundary conditions\n",
    "    # for ket:\n",
    "    inds0 = 'b0',\n",
    "    s_left = qtn.Tensor(state_vcl,inds0,tags='sl')\n",
    "    \n",
    "    inds1 = f'b{N}',f'bx{N}',\n",
    "    s_right = qtn.Tensor(np.eye(state_vcl.size),inds1,tags='rvec')\n",
    "\n",
    "    # for bra:\n",
    "    inds2 = 'bx0',\n",
    "    sc_left = qtn.Tensor(state_vcl.conj(),inds2,tags='scl')\n",
    "    \n",
    "    # tenor contractions\n",
    "    TN0 = TN_list[0]\n",
    "    for j in range(1,len(TN_list)):\n",
    "        TN0 = TN_list[j] & TN0\n",
    "    \n",
    "    TN = s_left & s_right & sc_left & TN0\n",
    "    return TN.contract(all)\n",
    "\n",
    "param = qu.randn(16, dist='uniform')\n",
    "circuit = add_su4_circ(0,1,param[1:]).uni\n",
    "n = norm2(circuit,L,state_vcl)\n",
    "n"
   ]
  },
  {
   "cell_type": "code",
   "execution_count": 37,
   "metadata": {},
   "outputs": [
    {
     "data": {
      "text/plain": [
       "0.7768698398515701"
      ]
     },
     "execution_count": 37,
     "metadata": {},
     "output_type": "execute_result"
    }
   ],
   "source": [
    "\n",
    "(1-np.exp(-0.3/0.2))"
   ]
  },
  {
   "cell_type": "code",
   "execution_count": 47,
   "metadata": {},
   "outputs": [],
   "source": [
    "a = np.sort(np.array([2.5,3,1,2]))"
   ]
  },
  {
   "cell_type": "code",
   "execution_count": 78,
   "metadata": {},
   "outputs": [],
   "source": [
    "\n",
    "prob_params = 2\n",
    "T = 0.3\n",
    "p_list = np.sort(np.array([np.exp(-abs(prob_params)),1-np.exp(-abs(prob_params))]))\n",
    "p1, p2 = p_list[1], p_list[0]"
   ]
  },
  {
   "cell_type": "code",
   "execution_count": 79,
   "metadata": {},
   "outputs": [
    {
     "name": "stdout",
     "output_type": "stream",
     "text": [
      "0.8646647167633873\n",
      "0.1353352832366127\n"
     ]
    }
   ],
   "source": [
    "print(p1)\n",
    "print(p2)"
   ]
  },
  {
   "cell_type": "code",
   "execution_count": null,
   "metadata": {},
   "outputs": [],
   "source": []
  }
 ],
 "metadata": {
  "kernelspec": {
   "display_name": "Python 3",
   "language": "python",
   "name": "python3"
  },
  "language_info": {
   "codemirror_mode": {
    "name": "ipython",
    "version": 3
   },
   "file_extension": ".py",
   "mimetype": "text/x-python",
   "name": "python",
   "nbconvert_exporter": "python",
   "pygments_lexer": "ipython3",
   "version": "3.8.3"
  }
 },
 "nbformat": 4,
 "nbformat_minor": 4
}
