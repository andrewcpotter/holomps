{
 "cells": [
  {
   "cell_type": "markdown",
   "metadata": {},
   "source": [
    "The ultimate goal is to perform holoVQE. \\\n",
    "It is divided into two parts: first part include functions to calculate expectation value of H; the second part include functions for the optimization\\\n",
    "More specifically, part 1 includes: functions to construct MPS from the unitary matrices, functions to construct H as MPO and functions to calculate the expectation value of H.\\\n",
    "Part 1:"
   ]
  },
  {
   "cell_type": "code",
   "execution_count": 16,
   "metadata": {},
   "outputs": [],
   "source": [
    "import tenpy.linalg.np_conserved as npc\n",
    "from tenpy.networks.mpo import MPO, MPOEnvironment\n",
    "from tenpy.networks.mps import MPS\n",
    "from tenpy.networks.site import BosonSite, SpinHalfSite\n",
    "from tenpy.models.lattice import Chain\n",
    "from scipy.stats import unitary_group\n",
    "from tenpy.networks.site import BosonSite\n",
    "from tenpy.models.lattice import Chain\n",
    "from tenpy.networks.mpo import MPO, MPOEnvironment"
   ]
  },
  {
   "cell_type": "code",
   "execution_count": 17,
   "metadata": {},
   "outputs": [],
   "source": [
    "def Uni_to_ten(uni_matrix, site_num, d_bond, d_phys_index, L):\n",
    "    '''\n",
    "    construct the matrix corresponding to physics leg index in local Hilbert space for translational invariant 1d chain\n",
    "    \n",
    "    Parameters\n",
    "    ----------\n",
    "    uni_matrix: numpy.ndarray\n",
    "        the unitary matrix already constructed\n",
    "    site_num: int\n",
    "        the position of the site\n",
    "    d_bond: int\n",
    "        bond dimension\n",
    "    d_phys_index: int\n",
    "        the index in the physical dimension\n",
    "    L: int\n",
    "        the total number of sites\n",
    "    '''\n",
    "    if site_num == 0:\n",
    "        res_matrix = uni_matrix[0:1, d_phys_index * d_bond: (d_phys_index+1)*d_bond]\n",
    "    elif site_num == L-1:\n",
    "        res_matrix = uni_matrix[0:d_bond, d_phys_index * d_bond: d_phys_index * d_bond + 1]\n",
    "    else:\n",
    "        res_matrix = uni_matrix[0:d_bond, d_phys_index * d_bond: (d_phys_index + 1) * d_bond]\n",
    "    return res_matrix"
   ]
  },
  {
   "cell_type": "code",
   "execution_count": 18,
   "metadata": {},
   "outputs": [],
   "source": [
    "def Site_Ten(uni_matrix, site_num, d_bond, d_phys, L):\n",
    "    '''\n",
    "    construct the 3-leg tensor for one site of the translational invariant 1d chain\n",
    "    \n",
    "    Parameters\n",
    "    ----------\n",
    "    d_phys: dimension of local Hilbert space\n",
    "    \n",
    "    returns the npc.Array type, which contains the tensor and its leg labels\n",
    "    '''\n",
    "    res_tensor = npc.Array.from_ndarray_trivial([Uni_to_ten(uni_matrix, site_num, d_bond, i, L) \\\n",
    "                                                 for i in range(0,d_phys)],labels=['p'+str(site_num),'vL','vR'])\n",
    "    return res_tensor"
   ]
  },
  {
   "cell_type": "code",
   "execution_count": 19,
   "metadata": {},
   "outputs": [],
   "source": [
    "def MPS_state(UM_list, d_phys, d_bond, L):\n",
    "    '''\n",
    "    construct the Matrix Product state for the whole chain (1d translational invariant bosonic chain) (can be adjusted)\n",
    "    \n",
    "    Parameters\n",
    "    ----------\n",
    "    UM_list: list of numpy.ndarray matrices\n",
    "    \n",
    "    returns the MPS type in TenPy\n",
    "    '''\n",
    "    site = BosonSite(Nmax = 1, conserve = None)\n",
    "    # site = SpinHalfSite(conserve = None)\n",
    "    lat = Chain(L, site, bc_MPS = 'finite')\n",
    "    state = Site_Ten(UM_list[0], 0, d_phys, d_bond, L)\n",
    "    for i in range(1, L):\n",
    "        state1 = Site_Ten(UM_list[i], i, d_phys, d_bond, L)\n",
    "        state = npc.tensordot(state, state1, ['vL', 'vR'])\n",
    "    psi = MPS.from_full(lat.mps_sites(), state, 'B')\n",
    "    # other methods to consider, MPS.from_Bflat, MPS\n",
    "    # problem with MPS.from_Bflat now\n",
    "    return psi"
   ]
  },
  {
   "cell_type": "code",
   "execution_count": 20,
   "metadata": {},
   "outputs": [],
   "source": [
    "def MPO_H_contract(H_mpo, psi, L):\n",
    "    '''\n",
    "    calculate the expectation value of H by doing the contraction over the full MPS\n",
    "\n",
    "    Parameters\n",
    "    ----------\n",
    "    H_mpo: MPO type\n",
    "    psi: MPS type\n",
    "    L: integer\n",
    "        the total number of sites\n",
    "    '''\n",
    "    env = MPOEnvironment(psi, H_mpo, psi)\n",
    "    E = env.full_contraction(L-1)\n",
    "    return E"
   ]
  },
  {
   "cell_type": "markdown",
   "metadata": {},
   "source": [
    "test"
   ]
  },
  {
   "cell_type": "code",
   "execution_count": 21,
   "metadata": {},
   "outputs": [],
   "source": [
    "x1 = unitary_group.rvs(4)\n",
    "x2 = unitary_group.rvs(4)\n",
    "x3 = unitary_group.rvs(4)\n",
    "psi = MPS_state([x1,x2,x3],1,1,3)"
   ]
  },
  {
   "cell_type": "code",
   "execution_count": 24,
   "metadata": {},
   "outputs": [
    {
     "ename": "ValueError",
     "evalue": "incompatible LegCharge\nself | other\n -1  |  -1  \n0 [] | 0 [] \n2    | 1    ",
     "output_type": "error",
     "traceback": [
      "\u001b[1;31m---------------------------------------------------------------------------\u001b[0m",
      "\u001b[1;31mValueError\u001b[0m                                Traceback (most recent call last)",
      "\u001b[1;32m<ipython-input-24-eb8461c5c683>\u001b[0m in \u001b[0;36m<module>\u001b[1;34m\u001b[0m\n\u001b[0;32m     21\u001b[0m \u001b[0mH\u001b[0m \u001b[1;33m=\u001b[0m \u001b[0mMPO\u001b[0m\u001b[1;33m.\u001b[0m\u001b[0mfrom_grids\u001b[0m\u001b[1;33m(\u001b[0m\u001b[1;33m[\u001b[0m\u001b[0msite\u001b[0m\u001b[1;33m]\u001b[0m\u001b[1;33m*\u001b[0m\u001b[0mL\u001b[0m\u001b[1;33m,\u001b[0m \u001b[0mWs\u001b[0m\u001b[1;33m,\u001b[0m \u001b[0mbc\u001b[0m \u001b[1;33m=\u001b[0m \u001b[1;34m'finite'\u001b[0m\u001b[1;33m,\u001b[0m \u001b[0mIdL\u001b[0m \u001b[1;33m=\u001b[0m \u001b[1;36m0\u001b[0m\u001b[1;33m,\u001b[0m \u001b[0mIdR\u001b[0m \u001b[1;33m=\u001b[0m \u001b[1;33m-\u001b[0m\u001b[1;36m1\u001b[0m\u001b[1;33m)\u001b[0m \u001b[1;31m# keep IdL, IdR for now\u001b[0m\u001b[1;33m\u001b[0m\u001b[1;33m\u001b[0m\u001b[0m\n\u001b[0;32m     22\u001b[0m \u001b[1;33m\u001b[0m\u001b[0m\n\u001b[1;32m---> 23\u001b[1;33m \u001b[0mprint\u001b[0m\u001b[1;33m(\u001b[0m\u001b[1;34m\"<psi|H|psi> =\"\u001b[0m\u001b[1;33m,\u001b[0m \u001b[0mH\u001b[0m\u001b[1;33m.\u001b[0m\u001b[0mexpectation_value\u001b[0m\u001b[1;33m(\u001b[0m\u001b[0mpsi\u001b[0m\u001b[1;33m)\u001b[0m\u001b[1;33m)\u001b[0m\u001b[1;33m\u001b[0m\u001b[1;33m\u001b[0m\u001b[0m\n\u001b[0m",
      "\u001b[1;32m~\\anaconda3\\lib\\site-packages\\tenpy\\networks\\mpo.py\u001b[0m in \u001b[0;36mexpectation_value\u001b[1;34m(self, psi, tol, max_range)\u001b[0m\n\u001b[0;32m    473\u001b[0m         \"\"\"\n\u001b[0;32m    474\u001b[0m         \u001b[1;32mif\u001b[0m \u001b[0mpsi\u001b[0m\u001b[1;33m.\u001b[0m\u001b[0mfinite\u001b[0m\u001b[1;33m:\u001b[0m\u001b[1;33m\u001b[0m\u001b[1;33m\u001b[0m\u001b[0m\n\u001b[1;32m--> 475\u001b[1;33m             \u001b[1;32mreturn\u001b[0m \u001b[0mMPOEnvironment\u001b[0m\u001b[1;33m(\u001b[0m\u001b[0mpsi\u001b[0m\u001b[1;33m,\u001b[0m \u001b[0mself\u001b[0m\u001b[1;33m,\u001b[0m \u001b[0mpsi\u001b[0m\u001b[1;33m)\u001b[0m\u001b[1;33m.\u001b[0m\u001b[0mfull_contraction\u001b[0m\u001b[1;33m(\u001b[0m\u001b[1;36m0\u001b[0m\u001b[1;33m)\u001b[0m\u001b[1;33m\u001b[0m\u001b[1;33m\u001b[0m\u001b[0m\n\u001b[0m\u001b[0;32m    476\u001b[0m         \u001b[0menv\u001b[0m \u001b[1;33m=\u001b[0m \u001b[0mMPOEnvironment\u001b[0m\u001b[1;33m(\u001b[0m\u001b[0mpsi\u001b[0m\u001b[1;33m,\u001b[0m \u001b[0mself\u001b[0m\u001b[1;33m,\u001b[0m \u001b[0mpsi\u001b[0m\u001b[1;33m)\u001b[0m\u001b[1;33m\u001b[0m\u001b[1;33m\u001b[0m\u001b[0m\n\u001b[0;32m    477\u001b[0m         \u001b[0mL\u001b[0m \u001b[1;33m=\u001b[0m \u001b[0mself\u001b[0m\u001b[1;33m.\u001b[0m\u001b[0mL\u001b[0m\u001b[1;33m\u001b[0m\u001b[1;33m\u001b[0m\u001b[0m\n",
      "\u001b[1;32m~\\anaconda3\\lib\\site-packages\\tenpy\\networks\\mpo.py\u001b[0m in \u001b[0;36mfull_contraction\u001b[1;34m(self, i0)\u001b[0m\n\u001b[0;32m   1344\u001b[0m             \u001b[0mLP\u001b[0m \u001b[1;33m=\u001b[0m \u001b[0mself\u001b[0m\u001b[1;33m.\u001b[0m\u001b[0m_contract_LP\u001b[0m\u001b[1;33m(\u001b[0m\u001b[0mi0\u001b[0m\u001b[1;33m,\u001b[0m \u001b[0mLP\u001b[0m\u001b[1;33m)\u001b[0m\u001b[1;33m\u001b[0m\u001b[1;33m\u001b[0m\u001b[0m\n\u001b[0;32m   1345\u001b[0m         \u001b[1;32melse\u001b[0m\u001b[1;33m:\u001b[0m\u001b[1;33m\u001b[0m\u001b[1;33m\u001b[0m\u001b[0m\n\u001b[1;32m-> 1346\u001b[1;33m             \u001b[0mLP\u001b[0m \u001b[1;33m=\u001b[0m \u001b[0mself\u001b[0m\u001b[1;33m.\u001b[0m\u001b[0mget_LP\u001b[0m\u001b[1;33m(\u001b[0m\u001b[0mi0\u001b[0m \u001b[1;33m+\u001b[0m \u001b[1;36m1\u001b[0m\u001b[1;33m,\u001b[0m \u001b[0mstore\u001b[0m\u001b[1;33m=\u001b[0m\u001b[1;32mFalse\u001b[0m\u001b[1;33m)\u001b[0m\u001b[1;33m\u001b[0m\u001b[1;33m\u001b[0m\u001b[0m\n\u001b[0m\u001b[0;32m   1347\u001b[0m         \u001b[1;31m# multiply with `S`: a bit of a hack: use 'private' MPS._scale_axis_B\u001b[0m\u001b[1;33m\u001b[0m\u001b[1;33m\u001b[0m\u001b[1;33m\u001b[0m\u001b[0m\n\u001b[0;32m   1348\u001b[0m         \u001b[0mS_bra\u001b[0m \u001b[1;33m=\u001b[0m \u001b[0mself\u001b[0m\u001b[1;33m.\u001b[0m\u001b[0mbra\u001b[0m\u001b[1;33m.\u001b[0m\u001b[0mget_SR\u001b[0m\u001b[1;33m(\u001b[0m\u001b[0mi0\u001b[0m\u001b[1;33m)\u001b[0m\u001b[1;33m.\u001b[0m\u001b[0mconj\u001b[0m\u001b[1;33m(\u001b[0m\u001b[1;33m)\u001b[0m\u001b[1;33m\u001b[0m\u001b[1;33m\u001b[0m\u001b[0m\n",
      "\u001b[1;32m~\\anaconda3\\lib\\site-packages\\tenpy\\networks\\mpo.py\u001b[0m in \u001b[0;36mget_LP\u001b[1;34m(self, i, store)\u001b[0m\n\u001b[0;32m   1293\u001b[0m         \"\"\"\n\u001b[0;32m   1294\u001b[0m         \u001b[1;31m# actually same as MPSEnvironment, just updated the labels in the doc string.\u001b[0m\u001b[1;33m\u001b[0m\u001b[1;33m\u001b[0m\u001b[1;33m\u001b[0m\u001b[0m\n\u001b[1;32m-> 1295\u001b[1;33m         \u001b[1;32mreturn\u001b[0m \u001b[0msuper\u001b[0m\u001b[1;33m(\u001b[0m\u001b[1;33m)\u001b[0m\u001b[1;33m.\u001b[0m\u001b[0mget_LP\u001b[0m\u001b[1;33m(\u001b[0m\u001b[0mi\u001b[0m\u001b[1;33m,\u001b[0m \u001b[0mstore\u001b[0m\u001b[1;33m)\u001b[0m\u001b[1;33m\u001b[0m\u001b[1;33m\u001b[0m\u001b[0m\n\u001b[0m\u001b[0;32m   1296\u001b[0m \u001b[1;33m\u001b[0m\u001b[0m\n\u001b[0;32m   1297\u001b[0m     \u001b[1;32mdef\u001b[0m \u001b[0mget_RP\u001b[0m\u001b[1;33m(\u001b[0m\u001b[0mself\u001b[0m\u001b[1;33m,\u001b[0m \u001b[0mi\u001b[0m\u001b[1;33m,\u001b[0m \u001b[0mstore\u001b[0m\u001b[1;33m=\u001b[0m\u001b[1;32mTrue\u001b[0m\u001b[1;33m)\u001b[0m\u001b[1;33m:\u001b[0m\u001b[1;33m\u001b[0m\u001b[1;33m\u001b[0m\u001b[0m\n",
      "\u001b[1;32m~\\anaconda3\\lib\\site-packages\\tenpy\\networks\\mps.py\u001b[0m in \u001b[0;36mget_LP\u001b[1;34m(self, i, store)\u001b[0m\n\u001b[0;32m   3210\u001b[0m         \u001b[0mage_i0\u001b[0m \u001b[1;33m=\u001b[0m \u001b[0mself\u001b[0m\u001b[1;33m.\u001b[0m\u001b[0mget_LP_age\u001b[0m\u001b[1;33m(\u001b[0m\u001b[0mi0\u001b[0m\u001b[1;33m)\u001b[0m\u001b[1;33m\u001b[0m\u001b[1;33m\u001b[0m\u001b[0m\n\u001b[0;32m   3211\u001b[0m         \u001b[1;32mfor\u001b[0m \u001b[0mj\u001b[0m \u001b[1;32min\u001b[0m \u001b[0mrange\u001b[0m\u001b[1;33m(\u001b[0m\u001b[0mi0\u001b[0m\u001b[1;33m,\u001b[0m \u001b[0mi\u001b[0m\u001b[1;33m)\u001b[0m\u001b[1;33m:\u001b[0m\u001b[1;33m\u001b[0m\u001b[1;33m\u001b[0m\u001b[0m\n\u001b[1;32m-> 3212\u001b[1;33m             \u001b[0mLP\u001b[0m \u001b[1;33m=\u001b[0m \u001b[0mself\u001b[0m\u001b[1;33m.\u001b[0m\u001b[0m_contract_LP\u001b[0m\u001b[1;33m(\u001b[0m\u001b[0mj\u001b[0m\u001b[1;33m,\u001b[0m \u001b[0mLP\u001b[0m\u001b[1;33m)\u001b[0m\u001b[1;33m\u001b[0m\u001b[1;33m\u001b[0m\u001b[0m\n\u001b[0m\u001b[0;32m   3213\u001b[0m             \u001b[1;32mif\u001b[0m \u001b[0mstore\u001b[0m\u001b[1;33m:\u001b[0m\u001b[1;33m\u001b[0m\u001b[1;33m\u001b[0m\u001b[0m\n\u001b[0;32m   3214\u001b[0m                 \u001b[0mself\u001b[0m\u001b[1;33m.\u001b[0m\u001b[0mset_LP\u001b[0m\u001b[1;33m(\u001b[0m\u001b[0mj\u001b[0m \u001b[1;33m+\u001b[0m \u001b[1;36m1\u001b[0m\u001b[1;33m,\u001b[0m \u001b[0mLP\u001b[0m\u001b[1;33m,\u001b[0m \u001b[0mage\u001b[0m\u001b[1;33m=\u001b[0m\u001b[0mage_i0\u001b[0m \u001b[1;33m+\u001b[0m \u001b[0mj\u001b[0m \u001b[1;33m-\u001b[0m \u001b[0mi0\u001b[0m \u001b[1;33m+\u001b[0m \u001b[1;36m1\u001b[0m\u001b[1;33m)\u001b[0m\u001b[1;33m\u001b[0m\u001b[1;33m\u001b[0m\u001b[0m\n",
      "\u001b[1;32m~\\anaconda3\\lib\\site-packages\\tenpy\\networks\\mpo.py\u001b[0m in \u001b[0;36m_contract_LP\u001b[1;34m(self, i, LP)\u001b[0m\n\u001b[0;32m   1358\u001b[0m         \u001b[1;31m# same as MPSEnvironment._contract_LP, but also contract with `H.get_W(i)`\u001b[0m\u001b[1;33m\u001b[0m\u001b[1;33m\u001b[0m\u001b[1;33m\u001b[0m\u001b[0m\n\u001b[0;32m   1359\u001b[0m         \u001b[0mLP\u001b[0m \u001b[1;33m=\u001b[0m \u001b[0mnpc\u001b[0m\u001b[1;33m.\u001b[0m\u001b[0mtensordot\u001b[0m\u001b[1;33m(\u001b[0m\u001b[0mLP\u001b[0m\u001b[1;33m,\u001b[0m \u001b[0mself\u001b[0m\u001b[1;33m.\u001b[0m\u001b[0mket\u001b[0m\u001b[1;33m.\u001b[0m\u001b[0mget_B\u001b[0m\u001b[1;33m(\u001b[0m\u001b[0mi\u001b[0m\u001b[1;33m,\u001b[0m \u001b[0mform\u001b[0m\u001b[1;33m=\u001b[0m\u001b[1;34m'A'\u001b[0m\u001b[1;33m)\u001b[0m\u001b[1;33m,\u001b[0m \u001b[0maxes\u001b[0m\u001b[1;33m=\u001b[0m\u001b[1;33m(\u001b[0m\u001b[1;34m'vR'\u001b[0m\u001b[1;33m,\u001b[0m \u001b[1;34m'vL'\u001b[0m\u001b[1;33m)\u001b[0m\u001b[1;33m)\u001b[0m\u001b[1;33m\u001b[0m\u001b[1;33m\u001b[0m\u001b[0m\n\u001b[1;32m-> 1360\u001b[1;33m         \u001b[0mLP\u001b[0m \u001b[1;33m=\u001b[0m \u001b[0mnpc\u001b[0m\u001b[1;33m.\u001b[0m\u001b[0mtensordot\u001b[0m\u001b[1;33m(\u001b[0m\u001b[0mself\u001b[0m\u001b[1;33m.\u001b[0m\u001b[0mH\u001b[0m\u001b[1;33m.\u001b[0m\u001b[0mget_W\u001b[0m\u001b[1;33m(\u001b[0m\u001b[0mi\u001b[0m\u001b[1;33m)\u001b[0m\u001b[1;33m,\u001b[0m \u001b[0mLP\u001b[0m\u001b[1;33m,\u001b[0m \u001b[0maxes\u001b[0m\u001b[1;33m=\u001b[0m\u001b[1;33m(\u001b[0m\u001b[1;33m[\u001b[0m\u001b[1;34m'p*'\u001b[0m\u001b[1;33m,\u001b[0m \u001b[1;34m'wL'\u001b[0m\u001b[1;33m]\u001b[0m\u001b[1;33m,\u001b[0m \u001b[1;33m[\u001b[0m\u001b[1;34m'p'\u001b[0m\u001b[1;33m,\u001b[0m \u001b[1;34m'wR'\u001b[0m\u001b[1;33m]\u001b[0m\u001b[1;33m)\u001b[0m\u001b[1;33m)\u001b[0m\u001b[1;33m\u001b[0m\u001b[1;33m\u001b[0m\u001b[0m\n\u001b[0m\u001b[0;32m   1361\u001b[0m         LP = npc.tensordot(self.bra.get_B(i, form='A').conj(),\n\u001b[0;32m   1362\u001b[0m                            \u001b[0mLP\u001b[0m\u001b[1;33m,\u001b[0m\u001b[1;33m\u001b[0m\u001b[1;33m\u001b[0m\u001b[0m\n",
      "\u001b[1;32m~\\anaconda3\\lib\\site-packages\\tenpy\\linalg\\np_conserved.py\u001b[0m in \u001b[0;36mtensordot\u001b[1;34m(a, b, axes)\u001b[0m\n\u001b[0;32m   3394\u001b[0m     \"\"\"\n\u001b[0;32m   3395\u001b[0m     \u001b[1;31m# for details on the implementation, see _tensordot_worker.\u001b[0m\u001b[1;33m\u001b[0m\u001b[1;33m\u001b[0m\u001b[1;33m\u001b[0m\u001b[0m\n\u001b[1;32m-> 3396\u001b[1;33m     \u001b[0ma\u001b[0m\u001b[1;33m,\u001b[0m \u001b[0mb\u001b[0m\u001b[1;33m,\u001b[0m \u001b[0maxes\u001b[0m \u001b[1;33m=\u001b[0m \u001b[0m_tensordot_transpose_axes\u001b[0m\u001b[1;33m(\u001b[0m\u001b[0ma\u001b[0m\u001b[1;33m,\u001b[0m \u001b[0mb\u001b[0m\u001b[1;33m,\u001b[0m \u001b[0maxes\u001b[0m\u001b[1;33m)\u001b[0m\u001b[1;33m\u001b[0m\u001b[1;33m\u001b[0m\u001b[0m\n\u001b[0m\u001b[0;32m   3397\u001b[0m \u001b[1;33m\u001b[0m\u001b[0m\n\u001b[0;32m   3398\u001b[0m     \u001b[1;31m# optimize/check for special cases\u001b[0m\u001b[1;33m\u001b[0m\u001b[1;33m\u001b[0m\u001b[1;33m\u001b[0m\u001b[0m\n",
      "\u001b[1;32mtenpy/linalg/_npc_helper.pyx\u001b[0m in \u001b[0;36mtenpy.linalg._npc_helper._tensordot_transpose_axes\u001b[1;34m()\u001b[0m\n",
      "\u001b[1;32m~\\anaconda3\\lib\\site-packages\\tenpy\\linalg\\charges.py\u001b[0m in \u001b[0;36mtest_contractible\u001b[1;34m(self, other)\u001b[0m\n\u001b[0;32m    810\u001b[0m         \u001b[1;32mif\u001b[0m \u001b[0moptimize\u001b[0m\u001b[1;33m(\u001b[0m\u001b[0mOptimizationFlag\u001b[0m\u001b[1;33m.\u001b[0m\u001b[0mskip_arg_checks\u001b[0m\u001b[1;33m)\u001b[0m\u001b[1;33m:\u001b[0m\u001b[1;33m\u001b[0m\u001b[1;33m\u001b[0m\u001b[0m\n\u001b[0;32m    811\u001b[0m             \u001b[1;32mreturn\u001b[0m\u001b[1;33m\u001b[0m\u001b[1;33m\u001b[0m\u001b[0m\n\u001b[1;32m--> 812\u001b[1;33m         \u001b[0mself\u001b[0m\u001b[1;33m.\u001b[0m\u001b[0mtest_equal\u001b[0m\u001b[1;33m(\u001b[0m\u001b[0mother\u001b[0m\u001b[1;33m.\u001b[0m\u001b[0mconj\u001b[0m\u001b[1;33m(\u001b[0m\u001b[1;33m)\u001b[0m\u001b[1;33m)\u001b[0m\u001b[1;33m\u001b[0m\u001b[1;33m\u001b[0m\u001b[0m\n\u001b[0m\u001b[0;32m    813\u001b[0m \u001b[1;33m\u001b[0m\u001b[0m\n\u001b[0;32m    814\u001b[0m     \u001b[1;32mdef\u001b[0m \u001b[0mtest_equal\u001b[0m\u001b[1;33m(\u001b[0m\u001b[0mself\u001b[0m\u001b[1;33m,\u001b[0m \u001b[0mother\u001b[0m\u001b[1;33m)\u001b[0m\u001b[1;33m:\u001b[0m\u001b[1;33m\u001b[0m\u001b[1;33m\u001b[0m\u001b[0m\n",
      "\u001b[1;32m~\\anaconda3\\lib\\site-packages\\tenpy\\linalg\\charges.py\u001b[0m in \u001b[0;36mtest_equal\u001b[1;34m(self, other)\u001b[0m\n\u001b[0;32m    841\u001b[0m                 \u001b[1;32mnot\u001b[0m \u001b[0mnp\u001b[0m\u001b[1;33m.\u001b[0m\u001b[0marray_equal\u001b[0m\u001b[1;33m(\u001b[0m\u001b[0mself\u001b[0m\u001b[1;33m.\u001b[0m\u001b[0mcharges\u001b[0m \u001b[1;33m*\u001b[0m \u001b[0mself\u001b[0m\u001b[1;33m.\u001b[0m\u001b[0mqconj\u001b[0m\u001b[1;33m,\u001b[0m \u001b[0mother\u001b[0m\u001b[1;33m.\u001b[0m\u001b[0mcharges\u001b[0m \u001b[1;33m*\u001b[0m \u001b[0mother\u001b[0m\u001b[1;33m.\u001b[0m\u001b[0mqconj\u001b[0m\u001b[1;33m)\u001b[0m\u001b[1;33m:\u001b[0m\u001b[1;33m\u001b[0m\u001b[1;33m\u001b[0m\u001b[0m\n\u001b[0;32m    842\u001b[0m             raise ValueError(\"incompatible LegCharge\\n\" +\n\u001b[1;32m--> 843\u001b[1;33m                              vert_join([\"self\\n\" + str(self), \"other\\n\" + str(other)], delim=' | '))\n\u001b[0m\u001b[0;32m    844\u001b[0m \u001b[1;33m\u001b[0m\u001b[0m\n\u001b[0;32m    845\u001b[0m     \u001b[1;32mdef\u001b[0m \u001b[0mget_block_sizes\u001b[0m\u001b[1;33m(\u001b[0m\u001b[0mself\u001b[0m\u001b[1;33m)\u001b[0m\u001b[1;33m:\u001b[0m\u001b[1;33m\u001b[0m\u001b[1;33m\u001b[0m\u001b[0m\n",
      "\u001b[1;31mValueError\u001b[0m: incompatible LegCharge\nself | other\n -1  |  -1  \n0 [] | 0 [] \n2    | 1    "
     ]
    }
   ],
   "source": [
    "L = 3\n",
    "N_max = 1\n",
    "# Nmax is the maximum boson at one site, for TFIM is 1; \n",
    "site = BosonSite(Nmax = N_max, conserve = None)\n",
    "bX = (site.B + site.Bd) / 2\n",
    "bY = (site.B - site.Bd) / (2 * 1j)\n",
    "bZ = site.N - site.Id * N_max / 2\n",
    "Id = site.Id\n",
    "\n",
    "# construct the matrix/array which represents H_mpo: Ws\n",
    "# transverse field ising model\n",
    "g = 1.\n",
    "J = 1.\n",
    "d = 2\n",
    "W_bulk = [[Id, bX, -g*bZ],\n",
    "          [None, None, -J*bX],\n",
    "          [None, None, Id]]\n",
    "W_first = [W_bulk[0]]\n",
    "W_last = [[row[-1]] for row in W_bulk]\n",
    "Ws = [W_first] + [W_bulk] * (L - 2) + [W_last]\n",
    "H = MPO.from_grids([site]*L, Ws, bc = 'finite', IdL = 0, IdR = -1) # keep IdL, IdR for now\n",
    "\n",
    "print(\"<psi|H|psi> =\", H.expectation_value(psi))"
   ]
  }
 ],
 "metadata": {
  "kernelspec": {
   "display_name": "Python 3",
   "language": "python",
   "name": "python3"
  },
  "language_info": {
   "codemirror_mode": {
    "name": "ipython",
    "version": 3
   },
   "file_extension": ".py",
   "mimetype": "text/x-python",
   "name": "python",
   "nbconvert_exporter": "python",
   "pygments_lexer": "ipython3",
   "version": "3.7.6"
  }
 },
 "nbformat": 4,
 "nbformat_minor": 4
}
