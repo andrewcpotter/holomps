{
 "cells": [
  {
   "cell_type": "code",
   "execution_count": 5,
   "metadata": {},
   "outputs": [],
   "source": [
    "from tenpy.networks.site import BosonSite\n",
    "from tenpy.models.lattice import Chain\n",
    "from tenpy.networks.mpo import MPO, MPOEnvironment"
   ]
  },
  {
   "cell_type": "code",
   "execution_count": 6,
   "metadata": {},
   "outputs": [
    {
     "name": "stdout",
     "output_type": "stream",
     "text": [
      "state =  [<npc.Array shape=(2, 2) charge=ChargeInfo([], []) labels=['p', 'p*']>, <npc.Array shape=(2, 2) charge=ChargeInfo([], []) labels=['p', 'p*']>, <npc.Array shape=(2, 2) charge=ChargeInfo([], []) labels=['p', 'p*']>]\n"
     ]
    }
   ],
   "source": [
    "lat = Chain(L, site, bc_MPS='finite')\n",
    "state = [site.B, site.Bd] * (L // 2) + [site.B] * (L % 2)  # Neel state\n",
    "print(\"state = \", state)"
   ]
  },
  {
   "cell_type": "code",
   "execution_count": 2,
   "metadata": {},
   "outputs": [
    {
     "ename": "NameError",
     "evalue": "name 'psi' is not defined",
     "output_type": "error",
     "traceback": [
      "\u001b[1;31m---------------------------------------------------------------------------\u001b[0m",
      "\u001b[1;31mNameError\u001b[0m                                 Traceback (most recent call last)",
      "\u001b[1;32m<ipython-input-2-ba0fab2d9309>\u001b[0m in \u001b[0;36m<module>\u001b[1;34m\u001b[0m\n\u001b[0;32m     25\u001b[0m \u001b[0mH\u001b[0m \u001b[1;33m=\u001b[0m \u001b[0mMPO\u001b[0m\u001b[1;33m.\u001b[0m\u001b[0mfrom_grids\u001b[0m\u001b[1;33m(\u001b[0m\u001b[1;33m[\u001b[0m\u001b[0msite\u001b[0m\u001b[1;33m]\u001b[0m\u001b[1;33m*\u001b[0m\u001b[0mL\u001b[0m\u001b[1;33m,\u001b[0m \u001b[0mWs\u001b[0m\u001b[1;33m,\u001b[0m \u001b[0mbc\u001b[0m \u001b[1;33m=\u001b[0m \u001b[1;34m'finite'\u001b[0m\u001b[1;33m,\u001b[0m \u001b[0mIdL\u001b[0m \u001b[1;33m=\u001b[0m \u001b[1;36m0\u001b[0m\u001b[1;33m,\u001b[0m \u001b[0mIdR\u001b[0m \u001b[1;33m=\u001b[0m \u001b[1;33m-\u001b[0m\u001b[1;36m1\u001b[0m\u001b[1;33m)\u001b[0m \u001b[1;31m# keep IdL, IdR for now\u001b[0m\u001b[1;33m\u001b[0m\u001b[1;33m\u001b[0m\u001b[0m\n\u001b[0;32m     26\u001b[0m \u001b[1;33m\u001b[0m\u001b[0m\n\u001b[1;32m---> 27\u001b[1;33m \u001b[0mprint\u001b[0m\u001b[1;33m(\u001b[0m\u001b[1;34m\"<psi|H|psi> =\"\u001b[0m\u001b[1;33m,\u001b[0m \u001b[0mH\u001b[0m\u001b[1;33m.\u001b[0m\u001b[0mexpectation_value\u001b[0m\u001b[1;33m(\u001b[0m\u001b[0mpsi\u001b[0m\u001b[1;33m)\u001b[0m\u001b[1;33m)\u001b[0m\u001b[1;33m\u001b[0m\u001b[1;33m\u001b[0m\u001b[0m\n\u001b[0m",
      "\u001b[1;31mNameError\u001b[0m: name 'psi' is not defined"
     ]
    }
   ],
   "source": [
    "L = 3\n",
    "N_max = 1\n",
    "# Nmax is the maximum boson at one site, for TFIM is 1; \n",
    "site = BosonSite(Nmax = N_max, conserve = None)\n",
    "bX = (site.B + site.Bd) / 2\n",
    "bY = (site.B - site.Bd) / (2 * 1j)\n",
    "bZ = site.N - site.Id * N_max / 2\n",
    "Id = site.Id\n",
    "\n",
    "# construct the matrix/array which represents H_mpo: Ws\n",
    "# transverse field ising model\n",
    "g = 1.\n",
    "J = 1.\n",
    "d = 2\n",
    "W_bulk = [[Id, bX, -g*bZ],\n",
    "          [None, None, -J*bX],\n",
    "          [None, None, Id]]\n",
    "W_first = [W_bulk[0]]\n",
    "W_last = [[row[-1]] for row in W_bulk]\n",
    "Ws = [W_first] + [W_bulk] * (L - 2) + [W_last]\n",
    "H = MPO.from_grids([site]*L, Ws, bc = 'finite', IdL = 0, IdR = -1) # keep IdL, IdR for now\n",
    "\n",
    "print(\"<psi|H|psi> =\", H.expectation_value(psi))"
   ]
  },
  {
   "cell_type": "code",
   "execution_count": 3,
   "metadata": {},
   "outputs": [
    {
     "name": "stdout",
     "output_type": "stream",
     "text": [
      "state =  [<npc.Array shape=(2, 2) charge=ChargeInfo([], []) labels=['p', 'p*']>, <npc.Array shape=(2, 2) charge=ChargeInfo([], []) labels=['p', 'p*']>, <npc.Array shape=(2, 2) charge=ChargeInfo([], []) labels=['p', 'p*']>]\n"
     ]
    }
   ],
   "source": []
  },
  {
   "cell_type": "code",
   "execution_count": null,
   "metadata": {},
   "outputs": [],
   "source": []
  }
 ],
 "metadata": {
  "kernelspec": {
   "display_name": "Python 3",
   "language": "python",
   "name": "python3"
  },
  "language_info": {
   "codemirror_mode": {
    "name": "ipython",
    "version": 3
   },
   "file_extension": ".py",
   "mimetype": "text/x-python",
   "name": "python",
   "nbconvert_exporter": "python",
   "pygments_lexer": "ipython3",
   "version": "3.7.6"
  }
 },
 "nbformat": 4,
 "nbformat_minor": 4
}
