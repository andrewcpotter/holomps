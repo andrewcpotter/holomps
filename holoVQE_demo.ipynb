{
 "cells": [
  {
   "cell_type": "markdown",
   "metadata": {},
   "source": [
    "The ultimate goal is to perform holoVQE. \\\n",
    "It is divided into two parts: first part include functions to calculate expectation value of H; the second part include functions for the optimization\\\n",
    "More specifically, part 1 includes: functions to construct MPS from the unitary matrices, functions to construct H as MPO and functions to calculate the expectation value of H.\\\n",
    "Part 1:"
   ]
  },
  {
   "cell_type": "code",
   "execution_count": 167,
   "metadata": {},
   "outputs": [],
   "source": [
    "def Uni_to_ten(uni_matrix, site_num, d_bond, d_phys_index, L):\n",
    "    '''\n",
    "    construct the matrix corresponding to physics leg index in local Hilbert space for translational invariant 1d chain\n",
    "    \n",
    "    Parameters\n",
    "    ----------\n",
    "    uni_matrix: numpy.ndarray\n",
    "        the unitary matrix already constructed\n",
    "    site_num: int\n",
    "        the position of the site\n",
    "    d_bond: int\n",
    "        bond dimension\n",
    "    d_phys_index: int\n",
    "        the index in the physical dimension\n",
    "    L: int\n",
    "        the total number of sites\n",
    "    '''\n",
    "    if site_num == 0:\n",
    "        res_matrix = uni_matrix[0:1, d_phys_index * d_bond: (d_phys_index+1)*d_bond]\n",
    "    elif site_num == L-1:\n",
    "        res_matrix = uni_matrix[0:d_bond, d_phys_index * d_bond: d_phys_index * d_bond + 1]\n",
    "    else:\n",
    "        res_matrix = uni_matrix[0:d_bond, d_phys_index * d_bond: (d_phys_index + 1) * d_bond]\n",
    "    return res_matrix"
   ]
  },
  {
   "cell_type": "code",
   "execution_count": 169,
   "metadata": {},
   "outputs": [],
   "source": [
    "import tenpy.linalg.np_conserved as npc\n",
    "def Site_Ten(uni_matrix, site_num, d_bond, d_phys, L):\n",
    "    '''\n",
    "    construct the 3-leg tensor for one site of the translational invariant 1d chain\n",
    "    \n",
    "    Parameters\n",
    "    ----------\n",
    "    d_phys: dimension of local Hilbert space\n",
    "    \n",
    "    returns the npc.Array type, which contains the tensor and its leg labels\n",
    "    '''\n",
    "    res_tensor = npc.Array.from_ndarray_trivial([Uni_to_ten(uni_matrix, site_num, d_bond, i, L) \\\n",
    "                                                 for i in range(0,d_phys)],labels=['p'+str(site_num),'vL','vR'])\n",
    "    return res_tensor"
   ]
  },
  {
   "cell_type": "code",
   "execution_count": 170,
   "metadata": {},
   "outputs": [],
   "source": [
    "from tenpy.networks.mps import MPS\n",
    "from tenpy.networks.site import BosonSite\n",
    "from tenpy.models.lattice import Chain\n",
    "import tenpy.linalg.np_conserved as npc\n",
    "\n",
    "def MPS_state(UM_list, d_phys, d_bond, L):\n",
    "    '''\n",
    "    construct the Matrix Product state for the whole chain (1d translational invariant bosonic chain) (can be adjusted)\n",
    "    \n",
    "    Parameters\n",
    "    ----------\n",
    "    UM_list: list of numpy.ndarray matrices\n",
    "    \n",
    "    returns the MPS type in TenPy\n",
    "    '''\n",
    "    site = BosonSite()\n",
    "    lat = Chain(L, site, bc_MPS = 'finite')\n",
    "    state = Site_Ten(UM_list[0], 0, d_phys, d_bond, L)\n",
    "    for i in range(1, L):\n",
    "        state1 = Site_Ten(UM_list[i], i, d_phys, d_bond, L)\n",
    "        state = npc.tensordot(state, state1,('vR','vL'))\n",
    "    psi = MPS.from_full(lat.mps_sites(), state)\n",
    "    # other methods to consider, MPS.from_Bflat, MPS\n",
    "    # problem with MPS.from_Bflat now\n",
    "    return psi"
   ]
  },
  {
   "cell_type": "code",
   "execution_count": 171,
   "metadata": {},
   "outputs": [],
   "source": [
    "from tenpy.networks.mpo import MPO\n",
    "# construct Hamiltonian as a MPO\n",
    "# H_mpo = MPO(sites, Ws)\n",
    "# Ws: lists of Array: matrices of MPO"
   ]
  },
  {
   "cell_type": "code",
   "execution_count": 172,
   "metadata": {},
   "outputs": [],
   "source": [
    "from tenpy.networks.mpo import MPO, MPOEnvironment\n",
    "def MPO_H_contract(H_mpo, psi, L):\n",
    "    '''\n",
    "    calculate the expectation value of H by doing the contraction over the full MPS\n",
    "\n",
    "    Parameters\n",
    "    ----------\n",
    "    H_mpo: MPO type\n",
    "    psi: MPS type\n",
    "    L: integer\n",
    "        the total number of sites\n",
    "    '''\n",
    "    env = MPOEnvironment(psi, H_mpo, psi)\n",
    "    E = env.full_contraction(L-1)\n",
    "    return E"
   ]
  },
  {
   "cell_type": "markdown",
   "metadata": {},
   "source": [
    "tests:"
   ]
  },
  {
   "cell_type": "code",
   "execution_count": 178,
   "metadata": {},
   "outputs": [
    {
     "name": "stdout",
     "output_type": "stream",
     "text": [
      "<class 'numpy.ndarray'>\n",
      "[[ 0.38543826+0.00287978j -0.28343129+0.76121007j  0.07968152-0.06270453j\n",
      "   0.39198005+0.16651012j]\n",
      " [ 0.36545898+0.64769324j  0.11825688-0.06416217j  0.38425936-0.17738365j\n",
      "  -0.04925721-0.49727782j]\n",
      " [-0.11996199-0.23038543j -0.53150838+0.08400989j -0.23434959+0.14047791j\n",
      "  -0.03786807-0.75291772j]\n",
      " [ 0.40664976-0.25598807j  0.03906638-0.1761802j   0.36212729+0.77769456j\n",
      "   0.02426973-0.00253162j]]\n",
      "******\n",
      "[[-0.16659523+0.07528551j -0.34309477+0.06784042j -0.82169032-0.24328563j\n",
      "   0.23861959-0.2301295j ]\n",
      " [-0.30650742+0.13058848j  0.79270562-0.26116851j -0.35873116-0.06218596j\n",
      "  -0.17812002+0.1677104j ]\n",
      " [ 0.75897492-0.52251143j  0.16512909-0.12697881j -0.31156014-0.0270706j\n",
      "  -0.08674267+0.04712551j]\n",
      " [-0.02611358-0.07638673j  0.13038168-0.34742171j  0.1686338 -0.08271686j\n",
      "  -0.0815699 -0.9021357j ]]\n",
      "******\n",
      "[[ 0.02632271-0.18775696j -0.24329483+0.5502272j ]]\n",
      "******\n",
      "3\n",
      "[[[ 0.38543826+0.00287978j -0.28343129+0.76121007j]]\n",
      "\n",
      " [[ 0.07968152-0.06270453j  0.39198005+0.16651012j]]]\n",
      "******\n",
      "[[[-0.16659523+0.07528551j]\n",
      "  [-0.30650742+0.13058848j]]\n",
      "\n",
      " [[-0.82169032-0.24328563j]\n",
      "  [-0.35873116-0.06218596j]]]\n"
     ]
    }
   ],
   "source": [
    "import tenpy\n",
    "import numpy as np\n",
    "import tenpy.linalg.np_conserved as npc\n",
    "from scipy.stats import unitary_group\n",
    "\n",
    "# for purpose of test, generate arbitrary unitary matrices\n",
    "x1 = unitary_group.rvs(4)\n",
    "x2 = unitary_group.rvs(4)\n",
    "# test Uni_to_ten\n",
    "x1_1 = Uni_to_ten(x,0,2,1,2)\n",
    "\n",
    "# test Site_ten\n",
    "x1_t = Site_Ten(x1,0,2,2,2)\n",
    "x2_t = Site_Ten(x2,1,2,2,2)\n",
    "x1_a = npc.Array.to_ndarray(x1_t)\n",
    "x2_a = npc.Array.to_ndarray(x2_t)\n",
    "\n",
    "print(x1)\n",
    "print('******')\n",
    "print(x2)\n",
    "print('******')\n",
    "print(x1_1)\n",
    "print('******')\n",
    "print(x1_t.rank)\n",
    "print(x1_a)\n",
    "print('******')\n",
    "print(x2_a)"
   ]
  },
  {
   "cell_type": "code",
   "execution_count": 175,
   "metadata": {},
   "outputs": [
    {
     "name": "stdout",
     "output_type": "stream",
     "text": [
      "BosonSite(1, 'N', 0.000000)\n",
      "<tenpy.models.lattice.Chain object at 0x0000027C28271D08>\n",
      "<class 'tenpy.linalg.np_conserved.Array'>\n",
      "<class 'tenpy.networks.mps.MPS'>\n",
      "MPS, L=2, bc='finite'.\n",
      "chi: [2]\n",
      "sites: BosonSite(1, 'N', 0.000000) BosonSite(1, 'N', 0.000000)\n",
      "forms: (1.0, 0.0) (0.0, 1.0)\n"
     ]
    }
   ],
   "source": [
    "# test for MPS.from_full\n",
    "from tenpy.networks.site import BosonSite\n",
    "from tenpy.models.lattice import Chain\n",
    "import tenpy.linalg.np_conserved as npc\n",
    "site = BosonSite()\n",
    "L = 2\n",
    "lat = Chain(L, site, bc_MPS = 'finite')\n",
    "state = npc.tensordot(x_t, x_t1, ('vR','vL'))\n",
    "psi = MPS.from_full(lat.mps_sites(), state)\n",
    "\n",
    "print(site)\n",
    "print(lat)\n",
    "print(type(state))\n",
    "print(type(psi))\n",
    "print(psi)"
   ]
  },
  {
   "cell_type": "code",
   "execution_count": 176,
   "metadata": {},
   "outputs": [
    {
     "name": "stdout",
     "output_type": "stream",
     "text": [
      "MPS, L=2, bc='finite'.\n",
      "chi: [2]\n",
      "sites: BosonSite(1, 'N', 0.000000) BosonSite(1, 'N', 0.000000)\n",
      "forms: (1.0, 0.0) (0.0, 1.0)\n"
     ]
    }
   ],
   "source": [
    "# test MPS_state function\n",
    "print(MPS_state([x,x11], 2, 2, 2))"
   ]
  },
  {
   "cell_type": "code",
   "execution_count": null,
   "metadata": {},
   "outputs": [],
   "source": []
  }
 ],
 "metadata": {
  "kernelspec": {
   "display_name": "Python 3",
   "language": "python",
   "name": "python3"
  },
  "language_info": {
   "codemirror_mode": {
    "name": "ipython",
    "version": 3
   },
   "file_extension": ".py",
   "mimetype": "text/x-python",
   "name": "python",
   "nbconvert_exporter": "python",
   "pygments_lexer": "ipython3",
   "version": "3.7.6"
  }
 },
 "nbformat": 4,
 "nbformat_minor": 4
}
