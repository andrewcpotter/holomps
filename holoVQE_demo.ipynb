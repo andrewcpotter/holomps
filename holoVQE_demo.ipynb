{
 "cells": [
  {
   "cell_type": "code",
   "execution_count": null,
   "metadata": {},
   "outputs": [],
   "source": [
    "# entry: unitary\n",
    "# parameters in the unitary?"
   ]
  },
  {
   "cell_type": "code",
   "execution_count": null,
   "metadata": {},
   "outputs": [],
   "source": [
    "# from unitary to tensor\n",
    "def Uni_to_ten(uni_matrix, d_phys, d_bond, d_phys_index):\n",
    "    res_matrix = uni_matrix[0:d_bond, d_phys_index * d_bond: (d_phys_index + 1) * d_bond]\n",
    "    return res_matrix"
   ]
  },
  {
   "cell_type": "code",
   "execution_count": null,
   "metadata": {},
   "outputs": [],
   "source": [
    "# from res_matrix to three-leg tensor:\n",
    "import tenpy.linalg.np_conserved as npc\n",
    "import numpy as np\n",
    "def Site_Ten(uni_matrix, phys_leg_num, bond_leg_num):\n",
    "    res_tensor = npc.Array.from_ndarray_trivial([Uni_to_ten(uni_matrix, phys_leg_num, bond_leg_num, i) for i in range(0,phys_leg_num)])\n",
    "    return res_tensor"
   ]
  },
  {
   "cell_type": "code",
   "execution_count": null,
   "metadata": {},
   "outputs": [],
   "source": [
    "import tenpy\n",
    "import numpy as np\n",
    "import tenpy.linalg.np_conserved as npc\n",
    "from scipy.stats import unitary_group\n",
    "# for purpose of test, generate an arbitrary unitary matrix\n",
    "x = unitary_group.rvs(4)\n",
    "x\n",
    "# test Uni_to_ten\n",
    "x1 = Uni_to_ten(x,2,2,0)\n",
    "#print(x1)\n",
    "# test Site_ten\n",
    "x_t = Site_Ten(x,2,2)\n",
    "print (x_t.rank)\n",
    "#print(x_t)\n",
    "x2 = npc.Array.to_ndarray(x_t)\n",
    "print(x2)"
   ]
  },
  {
   "cell_type": "code",
   "execution_count": null,
   "metadata": {},
   "outputs": [],
   "source": [
    "# from tensor to MPS\n",
    "from tenpy.networks.mps import MPS\n"
   ]
  },
  {
   "cell_type": "code",
   "execution_count": null,
   "metadata": {},
   "outputs": [],
   "source": [
    "# description of Hamiltonian as a MPO?\n"
   ]
  },
  {
   "cell_type": "code",
   "execution_count": null,
   "metadata": {},
   "outputs": [],
   "source": [
    "from tenpy.networks.mpo import MPO, MPOEnvironment\n",
    "from tenpy.networks.mps import MPS\n",
    "# H_mpo is the mpo operator of H; \n",
    "# psi is in MPS format that constructed from the tensor\n",
    "# L total number of sites\n",
    "def MPO_H_contract(H_mpo, psi, L):\n",
    "    env = MPOEnvironment(psi, H_mpo, psi)\n",
    "    # envL = env.get_LP(0)\n",
    "    # envR = env.get_RP(L-1)\n",
    "    E = env.full_contraction(L-1)\n",
    "    return E"
   ]
  }
 ],
 "metadata": {
  "kernelspec": {
   "display_name": "Python 3",
   "language": "python",
   "name": "python3"
  },
  "language_info": {
   "codemirror_mode": {
    "name": "ipython",
    "version": 3
   },
   "file_extension": ".py",
   "mimetype": "text/x-python",
   "name": "python",
   "nbconvert_exporter": "python",
   "pygments_lexer": "ipython3",
   "version": "3.7.6"
  }
 },
 "nbformat": 4,
 "nbformat_minor": 4
}
