{
 "cells": [
  {
   "cell_type": "markdown",
   "metadata": {},
   "source": [
    "# Heisenberg XXZ model"
   ]
  },
  {
   "cell_type": "markdown",
   "metadata": {},
   "source": [
    "# 1. Imports"
   ]
  },
  {
   "cell_type": "code",
   "execution_count": 1,
   "metadata": {},
   "outputs": [],
   "source": [
    "\n",
    "# qiskit imports\n",
    "import numpy as np\n",
    "from scipy.optimize import minimize\n",
    "import time\n",
    "import matplotlib.pyplot as plt\n",
    "import qiskit as qk\n",
    "import qiskit.providers.aer.noise as noise\n",
    "import sys\n",
    "sys.path.append(\"..\") # import one subdirectory up in files\n",
    "#sys.path.append(\"..\") # import one subdirectory up in files\n",
    "#os.chdir(\"../holopy/\")\n",
    "import basic_circuits as circuits\n",
    "from networks import IsoMPS\n",
    "from isonetwork import QKParamCircuit, IsoTensor\n",
    "import matplotlib.pyplot as plt\n",
    "\n",
    "# tenpy imports\n",
    "import tenpy as tp\n",
    "from tenpy.algorithms import dmrg\n",
    "from tenpy.networks.mps import MPS\n",
    "from tenpy.models.spins import SpinModel\n",
    "from tenpy.models.model import CouplingMPOModel, NearestNeighborModel\n",
    "from tenpy.tools.params import asConfig\n",
    "from tenpy.networks.site import SpinHalfSite\n",
    "\n",
    "# classical circuit and thermal states imports\n",
    "# import thermal state\n",
    "#from thermal_state import thermal_state \n",
    "from circuit_qubit1 import Circuit\n",
    "from hamiltonian import model_mpo"
   ]
  },
  {
   "cell_type": "markdown",
   "metadata": {},
   "source": [
    "# 2. Circuit structure"
   ]
  },
  {
   "cell_type": "code",
   "execution_count": 12,
   "metadata": {},
   "outputs": [],
   "source": [
    "\n",
    "# model params \n",
    "J = 1 # spin-exchange\n",
    "Delta = 1.25 # Ising-anisotropy\n",
    "hz = 0 # z-field\n",
    "L = 20 # repetition of unit-cell\n",
    "l_uc = 2 # number of sites in unit cell\n",
    "N = L * l_uc # number of sites\n",
    "d = 2\n",
    "chimax = 2\n",
    "nb = 1 # number of bond-qubits\n",
    "n_site_param = 2*nb # number of circuit parameters per site\n",
    "# number of bond circuit parameters\n",
    "use_bond_prep = False\n",
    "\n",
    "if use_bond_prep:\n",
    "    if nb==1: n_bond_params=3\n",
    "    elif nb==2: n_bond_params=15 \n",
    "else:\n",
    "    n_bond_params=0"
   ]
  },
  {
   "cell_type": "markdown",
   "metadata": {},
   "source": [
    "Note: should run each circuit structure seperatley "
   ]
  },
  {
   "cell_type": "code",
   "execution_count": 4,
   "metadata": {},
   "outputs": [],
   "source": [
    "\n",
    "## classical circuit structure\n",
    "\n",
    "def qub_x(params): return (np.pi/2, 0, params[0])\n",
    "def qub_y(params): return (np.pi/2, np.pi/2, params[0])\n",
    "def qub_z(params): return (0, 0, params[0])\n",
    "def qub_two(params): return (params[0])\n",
    "\n",
    "c = Circuit([(\"qubit\", \"p\", d), (\"qubit\", \"b\", chimax), (\"qubit\", \"b\", chimax)])\n",
    "\n",
    "## XX rotation\n",
    "c.add_gate(\"XX\", qids=[0, 1], n_params = 1, fn = qub_two)\n",
    "\n",
    "## YY rotation \n",
    "c.add_gate(\"YY\", qids=[0, 1], n_params = 1, fn = qub_two)    \n",
    "\n",
    "## ZZ rotation\n",
    "c.add_gate(\"ZZ\", qids=[0, 1], n_params = 1, fn = qub_two)\n",
    "\n",
    "\n",
    "## XX rotation\n",
    "c.add_gate(\"XX\", qids=[0, 2], n_params = 1, fn = qub_two)\n",
    "\n",
    "## YY rotation \n",
    "c.add_gate(\"YY\", qids=[0, 2], n_params = 1, fn = qub_two)    \n",
    "\n",
    "## ZZ rotation\n",
    "c.add_gate(\"ZZ\", qids=[0, 2], n_params = 1, fn = qub_two)\n",
    "\n",
    "c.assemble()  "
   ]
  },
  {
   "cell_type": "code",
   "execution_count": 13,
   "metadata": {},
   "outputs": [
    {
     "name": "stdout",
     "output_type": "stream",
     "text": [
      "circuits for each site in uc:\n"
     ]
    },
    {
     "data": {
      "image/png": "[encoded data removed]",
      "text/plain": [
       "<Figure size 568.052x144.48 with 1 Axes>"
      ]
     },
     "execution_count": 13,
     "metadata": {},
     "output_type": "execute_result"
    }
   ],
   "source": [
    "\n",
    "## qiskit-based circuit\n",
    "## CREATE ISOMPS FROM PARAMETERIZED CIRCUIT ANSATZ ##\n",
    "# initialize registers\n",
    "\n",
    "preg = qk.QuantumRegister(1,'p') # physical qubits\n",
    "breg = qk.QuantumRegister(nb,'b') # bond qubits\n",
    "#creg = qk.ClassicalRegister(L*l_uc+nb,'m') # classical register to hold measurement outcomes\n",
    "\n",
    "## Bond-state prep-circuit ##\n",
    "bond_prep_params = [qk.circuit.Parameter('bp_'+str(j)) \n",
    "                    for j in range(n_bond_params)]\n",
    "bond_prep_circ = qk.QuantumCircuit(breg)\n",
    "if use_bond_prep:\n",
    "    if nb==1: circuits.add_1q_circ(bond_prep_circ, breg[0], bond_prep_params) \n",
    "    elif nb==2: circuits.add_su4_circ(bond_prep_circ, breg[0],breg[1], bond_prep_params) \n",
    "else:\n",
    "    bond_prep_circ.ry(0.234,breg)\n",
    "\n",
    "# turn into custom parameterized circuit object\n",
    "bond_prep_pcirc = QKParamCircuit(bond_prep_circ,bond_prep_params)\n",
    "\n",
    "\n",
    "## Site Circuits ##\n",
    "# create list of circuits, one for each site in the unit cell (uc)\n",
    "site_circs = [qk.QuantumCircuit(preg,breg) for j in range(l_uc)]\n",
    "# create a list of parameter-lists, (one list of parameters per site in uc)\n",
    "site_circ_params = [[qk.circuit.Parameter('s'+str(j)+'_'+str(k))\n",
    "                     for k in range(n_site_param)] \n",
    "                    for j in range(l_uc)]\n",
    "site_pcircs=[] # list of QKParamCirc's for each site in uc\n",
    "for j in range(l_uc):\n",
    "    if j%2==0: site_circs[j].x(preg[0]) # alternating 10101010... for physical qubit\n",
    "    \n",
    "    # star circuit of xxz-type 2-qubit gates\n",
    "    for k in range(nb): \n",
    "        circuits.add_xxz_circ(site_circs[j], \n",
    "                              preg[0], breg[k], \n",
    "                              site_circ_params[j][2*k:2*(k+1)])\n",
    "    # combine into parameterized circuit\n",
    "    site_pcircs += [QKParamCircuit(site_circs[j], site_circ_params[j])]\n",
    "\n",
    "# create holopy isoMPS\n",
    "psi = IsoMPS(preg,breg,site_pcircs,boundary_circuit=bond_prep_pcirc,L=L)\n",
    "\n",
    "print('circuits for each site in uc:')\n",
    "site_circs[1].draw('mpl')"
   ]
  },
  {
   "cell_type": "markdown",
   "metadata": {},
   "source": [
    "# 3. Energy"
   ]
  },
  {
   "cell_type": "code",
   "execution_count": 5,
   "metadata": {},
   "outputs": [],
   "source": [
    "\n",
    "# thermal-state-based Hamiltonian and boundary vects\n",
    "Hamiltonian = model_mpo.xxz(J,Delta,hz,N)\n",
    "chi_H = Hamiltonian[0,:,0,0].size # size of Hamiltonian bond leg dimension\n",
    "H_bvecr = None\n",
    "H_bvecl = np.zeros(chi_H)\n",
    "H_bvecl[-1] = 1\n",
    "bdry_vecs2 = [H_bvecl,H_bvecr]"
   ]
  },
  {
   "cell_type": "code",
   "execution_count": 6,
   "metadata": {},
   "outputs": [],
   "source": [
    "\n",
    "# DMRG calculations\n",
    "\n",
    "__all__ = ['XXZModel', 'XXChain']\n",
    "class XXZModel(CouplingMPOModel):\n",
    "    def init_sites(self, model_params):\n",
    "        conserve = model_params.get('conserve', 'parity')\n",
    "        assert conserve != 'Sz'\n",
    "        if conserve == 'best':\n",
    "            conserve = 'parity'\n",
    "            if self.verbose >= 1.:\n",
    "                print(self.name + \": set conserve to\", conserve)\n",
    "        site = SpinHalfSite(conserve=conserve)\n",
    "        return site\n",
    "    def init_terms(self, model_params):\n",
    "        J = np.asarray(model_params.get('J', 1.))\n",
    "        d = np.asarray(model_params.get('d', 1.))\n",
    "        h = np.asarray(model_params.get('h', 1.))\n",
    "        for u in range(len(self.lat.unit_cell)):\n",
    "            self.add_onsite(h, u, 'Sigmaz')\n",
    "        for u1, u2, dx in self.lat.pairs['nearest_neighbors']:\n",
    "            self.add_coupling(J, u1, 'Sigmax', u2, 'Sigmax', dx)\n",
    "            self.add_coupling(J, u1, 'Sigmay', u2, 'Sigmay', dx)\n",
    "            self.add_coupling(J*d, u1, 'Sigmaz', u2, 'Sigmaz', dx)\n",
    "        # done\n",
    "        \n",
    "class XXZChain(XXZModel, NearestNeighborModel):\n",
    "    def __init__(self, model_params):\n",
    "        model_params = asConfig(model_params, self.__class__.__name__)\n",
    "        model_params.setdefault('lattice', \"Chain\")\n",
    "        CouplingMPOModel.__init__(self, model_params)\n",
    "        \n",
    "        \n",
    "def DMRG_xxz(J,Delta,hz,chi_max,bc,L,verbose=False):\n",
    "    model_params = dict(L=L, J=J, d=Delta, h = hz, bc_MPS=bc, \n",
    "                        conserve=None, verbose=verbose)\n",
    "    M = XXZChain(model_params)\n",
    "    product_state = [\"down\"] * M.lat.N_sites\n",
    "    psi = MPS.from_product_state(M.lat.mps_sites(), product_state, bc=M.lat.bc_MPS)\n",
    "    dmrg_params = {\n",
    "        'mixer': True,  # setting this to True helps to escape local minima\n",
    "        'trunc_params': {\n",
    "            'chi_max': chi_max,\n",
    "            'svd_min': 1.e-6\n",
    "        },\n",
    "        'max_E_err': 1.e-6,\n",
    "        'verbose': verbose,\n",
    "    }\n",
    "    eng = tp.algorithms.dmrg.TwoSiteDMRGEngine(psi, M, dmrg_params)\n",
    "    E, psi = eng.run()  # equivalent to dmrg.run() up to the return parameters.\n",
    "    print(\"E_dmrg = {E:.13f}\".format(E=E))\n",
    "    print(\"final bond dimensions: \", psi.chi)\n",
    "    mag_x = np.mean(psi.expectation_value(\"Sigmax\"))\n",
    "    mag_z = np.mean(psi.expectation_value(\"Sigmaz\"))\n",
    "    print(\"<sigma_x> = {mag_x:.5f}\".format(mag_x=mag_x))\n",
    "    print(\"<sigma_z> = {mag_z:.5f}\".format(mag_z=mag_z))\n",
    "    #print(\"correlation length:\", psi.correlation_length())\n",
    "    if bc == 'infinite':\n",
    "        E1 = E\n",
    "    else:\n",
    "        E1 = E/L\n",
    "    return E1"
   ]
  },
  {
   "cell_type": "code",
   "execution_count": 7,
   "metadata": {},
   "outputs": [
    {
     "name": "stdout",
     "output_type": "stream",
     "text": [
      "E_dmrg = -1.8478874923720\n",
      "final bond dimensions:  [2, 2]\n",
      "<sigma_x> = 0.00000\n",
      "<sigma_z> = 0.00000\n"
     ]
    },
    {
     "name": "stderr",
     "output_type": "stream",
     "text": [
      "/home/shahin75/anaconda3/lib/python3.8/site-packages/tenpy/tools/params.py:225: UserWarning: unused option ['P_tol'] for config lanczos_params\n",
      "\n",
      "  warnings.warn(msg.format(keys=sorted(unused), name=self.name))\n"
     ]
    },
    {
     "name": "stdout",
     "output_type": "stream",
     "text": [
      "E_dmrg = -36.5280232247023\n",
      "final bond dimensions:  [2, 2, 2, 2, 2, 2, 2, 2, 2, 2, 2, 2, 2, 2, 2, 2, 2, 2, 2]\n",
      "<sigma_x> = -0.00000\n",
      "<sigma_z> = 0.00000\n"
     ]
    },
    {
     "name": "stderr",
     "output_type": "stream",
     "text": [
      "/home/shahin75/anaconda3/lib/python3.8/site-packages/tenpy/algorithms/dmrg.py:420: UserWarning: final DMRG state not in canonical form within `norm_tol` = 1.00e-05\n",
      "  warnings.warn(msg.format(nt=norm_tol))\n",
      "/home/shahin75/anaconda3/lib/python3.8/site-packages/tenpy/tools/params.py:225: UserWarning: unused option ['P_tol'] for config lanczos_params\n",
      "\n",
      "  warnings.warn(msg.format(keys=sorted(unused), name=self.name))\n"
     ]
    }
   ],
   "source": [
    "E_infinite = DMRG_xxz(J,Delta,hz,chi_max = 2,bc='infinite',L=2,verbose=False)\n",
    "E_finite = DMRG_xxz(J,Delta,hz,chi_max = 2,bc='finite',L=L,verbose=False)"
   ]
  },
  {
   "cell_type": "markdown",
   "metadata": {},
   "source": [
    "I) Free energy for classical circuit structure:"
   ]
  },
  {
   "cell_type": "code",
   "execution_count": 10,
   "metadata": {},
   "outputs": [
    {
     "name": "stdout",
     "output_type": "stream",
     "text": [
      "Free energy = -1.8388845019233833, T = 0\n",
      "DMRG estimate (finite length): -1.8264011612351148\n",
      "DMRG estimate (infinite length): -1.847887492372024\n"
     ]
    }
   ],
   "source": [
    "\n",
    "# testing for finite MPDO (for classical structure)\n",
    "T = 0\n",
    "def circuit_qubit_free_energy(x,*args):\n",
    "    circuit = args[0]\n",
    "    L = args[1]\n",
    "    T = args[2]\n",
    "    Hamiltonian = args[3]\n",
    "    chi_H = args[4]\n",
    "    bdry_vecs1 = args[5]\n",
    "    bdry_vecs2 = args[6]\n",
    "    l_uc = args[7]\n",
    "    unitary_list = [circuit.get_tensor(x[l_uc:l_uc+6]),circuit.get_tensor(x[l_uc+6:])]\n",
    "    F = thermal_state.free_energy(unitary_list,\n",
    "                                  x,'density_matrix',\n",
    "                                  L,Hamiltonian,\n",
    "                                  T, chi_H,\n",
    "                                  bdry_vecs1,bdry_vecs2,\n",
    "                                  'method_I',None) \n",
    "    return F\n",
    "\n",
    "bdry_vecs1 = [None,None]\n",
    "#### bdry_vecs1 = TBD for MPDO, bdry_vecs1 = [None,None] and for iMPDO, bdry_vecs1 = None\n",
    "Hamiltonian = model_mpo.xxz(J,Delta,hz,N)\n",
    "args = (c,L,T,Hamiltonian,chi_H,bdry_vecs1,bdry_vecs2,l_uc)\n",
    "rng = np.random.default_rng()\n",
    "x0 = rng.uniform(high=2*np.pi,size = c.n_params*2 + l_uc)\n",
    "result = minimize(circuit_qubit_free_energy,x0=x0,args=args,method = 'nelder-mead')\n",
    "sweet_spot = result.x\n",
    "free_energy = result.fun\n",
    "print(f'Free energy = {free_energy}, T = {T}')\n",
    "print(f'DMRG estimate (finite length): {E_finite}')\n",
    "print(f'DMRG estimate (infinite length): {E_infinite}')"
   ]
  },
  {
   "cell_type": "code",
   "execution_count": 11,
   "metadata": {},
   "outputs": [
    {
     "name": "stdout",
     "output_type": "stream",
     "text": [
      "[1.63489407 2.08963227 3.5289182  0.39401093 3.84153053 5.21442816\n",
      " 4.15250714 0.49224119 2.05186605 0.09067592 0.80545431 3.57805798\n",
      " 3.04601923 6.13469376]\n",
      "[-2.49045144e+00  7.98700195e+00  3.14205925e+00 -2.83605527e-03\n",
      "  6.51816319e+00  5.34050834e+00  3.76030397e+00 -2.05098949e-02\n",
      "  1.57210573e+00  4.35734723e-02  1.59251241e+00  2.20371698e+00\n",
      "  2.51234859e+00  6.28742844e+00]\n"
     ]
    }
   ],
   "source": [
    "print(x0)\n",
    "print(sweet_spot)"
   ]
  },
  {
   "cell_type": "markdown",
   "metadata": {},
   "source": [
    "II) Free energy for qiskit-based circuit structure:"
   ]
  },
  {
   "cell_type": "code",
   "execution_count": 14,
   "metadata": {},
   "outputs": [
    {
     "name": "stdout",
     "output_type": "stream",
     "text": [
      "Optimization done, elapsed time: 49.75008773803711\n",
      "Optimized parameters\n",
      "{Parameter(s0_0): 1.23744147998543, Parameter(s0_1): 3.141592475863576, Parameter(s1_0): -7.551458537789436, Parameter(s1_1): 3.141592294111724}\n"
     ]
    }
   ],
   "source": [
    "\n",
    "# finding the optimized params (for qiskit-based structure)\n",
    "\n",
    "def energy_tp(param_vals,*args):\n",
    "    \"\"\"\n",
    "    function to calculate energy using MPO/MPS contraction in tenpy\n",
    "    inputs:\n",
    "        - param_vals = dict {parameter:value}\n",
    "        - *args, \n",
    "            args[0] should be psi: state as IsoMPS\n",
    "            args[1] should be H_mpo: Hamiltonian as MPO\n",
    "            args[2] should be N: number of sites\n",
    "        (input made this way to be compatible w/ scipy.optimize)\n",
    "    outputs:\n",
    "        - float, <psi|H|psi> computed w/ tenpy\n",
    "    \"\"\"\n",
    "    # parse inputs\n",
    "    psi = args[0] # state as isoMPS    \n",
    "    H_mpo = args[1] # Hamiltonian as tenpy MPO\n",
    "    N = args[2]\n",
    "    param_dict = dict(zip(psi.param_list,param_vals))\n",
    "    \n",
    "    # convert state from holoPy isoMPS to tenpy MPS\n",
    "    site = SpinHalfSite(conserve = None)\n",
    "    state_list = psi.L*psi.tensors(param_dict)\n",
    "    B_arrs = [np.swapaxes(tensor,1,2) for tensor in state_list]\n",
    "    B_arrs[0] = B_arrs[0][:,0:1,:]\n",
    "    B_arrs[-1] = B_arrs[-1][:,:,0:1]\n",
    "    psi_tp = MPS.from_Bflat([site]*N,B_arrs,bc = 'finite',dtype=complex,form=None) \n",
    "    \n",
    "    psi_tp.canonical_form()\n",
    "    psi_tp.convert_form(psi_tp.form)\n",
    "    # compute energy\n",
    "    E = (H_mpo.expectation_value(psi_tp)).real\n",
    "    return E\n",
    "\n",
    "def tp_xxz_mpo(J, Delta, hz, N):\n",
    "    \"\"\"\n",
    "    TenPy-based Heisenberg xxz chain MPO structure\n",
    "    \"\"\"\n",
    "    site = SpinHalfSite(None)\n",
    "    Id, Sp, Sm, Sz = site.Id, site.Sp, site.Sm, 2*site.Sz\n",
    "    Sx, Sy = (Sp + Sm), -1j*(Sp - Sm)\n",
    "    H_bulk = [[Id, Sx, Sy, Sz, hz * Sz],\n",
    "              [None, None, None, None, J * Sx],\n",
    "              [None, None, None, None, J * Sy],\n",
    "              [None, None, None, None, J * Delta * Sz],\n",
    "              [None, None, None, None, Id]]\n",
    "        \n",
    "    H_first = [H_bulk[0]] # first row\n",
    "    H_last = [[row[-1]] for row in H_bulk] # last column\n",
    "    H_list = [H_first] + [H_bulk]*(N - 2) + [H_last]  \n",
    "    H1 = thermal_state.network_from_cells(H_list,'MPO',N,None,None,None,'tenpy',None)      \n",
    "    return H1\n",
    "\n",
    "# starting point for parameters\n",
    "x0 = np.pi*np.random.randn(psi.n_params) \n",
    "t0 = time.time()\n",
    "args = (psi,tp_xxz_mpo(J,Delta,hz,N),N)\n",
    "opt_result = minimize(energy_tp,x0,args=args,method='BFGS')\n",
    "tf = time.time()\n",
    "\n",
    "# set parameters to previously optimized values\n",
    "opt_vals = opt_result.x\n",
    "opt_params = dict(zip(psi.param_list,opt_vals))\n",
    "E_gs_tp = opt_result.fun\n",
    "print('Optimization done, elapsed time: {}'.format(tf-t0))\n",
    "print('Optimized parameters')\n",
    "print(opt_params)"
   ]
  },
  {
   "cell_type": "code",
   "execution_count": 15,
   "metadata": {},
   "outputs": [
    {
     "name": "stdout",
     "output_type": "stream",
     "text": [
      "Free energy = -1.8461247950778346, T = 0\n",
      "TenPy estimate = -1.8428114453377742\n",
      "DMRG estimate (finite length): -1.8264011612351148\n",
      "DMRG estimate (infinite length): -1.847887492372024\n"
     ]
    }
   ],
   "source": [
    "\n",
    "# testing for finite MPDO (for qiskit-based structure)\n",
    "T = 0\n",
    "def circuit_qubit_free_energy(params,*args):\n",
    "    \"\"\"\n",
    "    Free energy (using density matrix)\n",
    "    \"\"\"\n",
    "    psi = args[0]\n",
    "    Hamiltonian = args[1]\n",
    "    chi_H = args[2]\n",
    "    T = args[3]\n",
    "    prob_params = args[4]\n",
    "    bdry_vecs1 = args[5]\n",
    "    bdry_vecs2 = args[6] \n",
    "    L = args[7]\n",
    "    params1 = dict(zip(psi.param_list,params))\n",
    "    tensors = psi.as_mpo(params1).tensors\n",
    "    params2 = np.concatenate((prob_params,list(params)))\n",
    "\n",
    "    F = thermal_state.free_energy(tensors,params2,\n",
    "                                  'density_matrix',L,\n",
    "                                  Hamiltonian,T,\n",
    "                                  chi_H,bdry_vecs1,\n",
    "                                  bdry_vecs2,'method_I',\n",
    "                                  None)   \n",
    "    return F\n",
    "\n",
    "#### bdry_vecs1 = TBD for MPDO, bdry_vecs1 = [None,None] and for iMPDO, bdry_vecs1 = None\n",
    "bdry_vecs1 = [None,None]\n",
    "rng = np.random.default_rng() \n",
    "probs_params = rng.uniform(high=2*np.pi,size =4)\n",
    "args = (psi,Hamiltonian,chi_H,T,probs_params,bdry_vecs1,bdry_vecs2,L)\n",
    "new_params = np.concatenate((probs_params,list(opt_vals)))\n",
    "result = minimize(circuit_qubit_free_energy,x0=new_params,args=args,method='nelder-mead')\n",
    "sweet_spot = result.x\n",
    "free_energy = result.fun\n",
    "\n",
    "print(f'Free energy = {free_energy}, T = {T}')\n",
    "print(f'TenPy estimate = {E_gs_tp/N}')\n",
    "print(f'DMRG estimate (finite length): {E_finite}')\n",
    "print(f'DMRG estimate (infinite length): {E_infinite}')"
   ]
  }
 ],
 "metadata": {
  "kernelspec": {
   "display_name": "Python 3",
   "language": "python",
   "name": "python3"
  },
  "language_info": {
   "codemirror_mode": {
    "name": "ipython",
    "version": 3
   },
   "file_extension": ".py",
   "mimetype": "text/x-python",
   "name": "python",
   "nbconvert_exporter": "python",
   "pygments_lexer": "ipython3",
   "version": "3.8.3"
  }
 },
 "nbformat": 4,
 "nbformat_minor": 4
}
