{
 "cells": [
  {
   "cell_type": "markdown",
   "metadata": {},
   "source": [
    "# Imports"
   ]
  },
  {
   "cell_type": "code",
   "execution_count": 81,
   "metadata": {},
   "outputs": [],
   "source": [
    "\n",
    "import quimb.tensor as qtn\n",
    "import qiskit as qk\n",
    "import numpy as np\n",
    "from hamiltonian import model_mpo\n",
    "import basic_circuits as circuits\n",
    "from quimb.tensor.optimize_autograd import TNOptimizer"
   ]
  },
  {
   "cell_type": "markdown",
   "metadata": {},
   "source": [
    "# Thermal state functions"
   ]
  },
  {
   "cell_type": "code",
   "execution_count": 94,
   "metadata": {},
   "outputs": [],
   "source": [
    "\n",
    "def prob_list(circuit,params,T):\n",
    "    \"\"\" \n",
    "    Returns list of probability weights.\n",
    "    \"\"\"\n",
    "    d = circuit[0,:,0,0].size\n",
    "    prob_params = params[:d]\n",
    "    if T != 0:\n",
    "        exc_list= np.array([np.exp(-k/T) for k in prob_params])\n",
    "        z = sum(exc_list)\n",
    "        prob_list = exc_list/z         \n",
    "    else:\n",
    "        prob_list = np.zeros(d)\n",
    "        # setting probability of |0> to 1 at T = 0\n",
    "        prob_list[0] += 1\n",
    "    return prob_list\n",
    "\n",
    "def MPDO(circuit,params,Hamiltonian,T,n,j):\n",
    "    \"\"\"\n",
    "    Constructs the Matrix Product Density Operator\n",
    "    \"\"\"\n",
    "    inds1 = f'p{j}', f'b{n+1}',f'p{j+1}',f'b{n}'\n",
    "    k = qtn.Tensor(circuit, inds1, tags='k')\n",
    "    \n",
    "    data = np.diag(prob_list(circuit,params,T))\n",
    "    inds2 = f'p{j+1}',f'p{j+2}'\n",
    "    p_chain = qtn.Tensor(data,inds2,tags='p')\n",
    "\n",
    "    inds3 = f'p{j+3}',f'bc{n+1}',f'p{j+2}',f'bc{n}'\n",
    "    b = qtn.Tensor(circuit.conj(), inds3, tags= 'kc')\n",
    "\n",
    "    inds4 = f'p{j}',f'H{n+1}',f'p{j+3}',f'H{n}'\n",
    "    H = qtn.Tensor(Hamiltonian,inds4,tags='H')\n",
    "    \n",
    "    TN = k & p_chain & b & H \n",
    "    return TN\n",
    "\n",
    "def contractions(unit_list,params,\n",
    "                 Hamiltonian,L,\n",
    "                 state_vcl,state_vcr,\n",
    "                 H_bvecl,H_bvecr,T):\n",
    "    \"\"\"\n",
    "    Returns tensor contractions\n",
    "    \"\"\"\n",
    "    unit_list1 = L * unit_list\n",
    "    params1 = L * params\n",
    "    N = L * len(unit_list)\n",
    "    TN_list = [MPDO(unit_list1[n],params1[n],Hamiltonian,T,n,j) for n,j in zip(range(N),range(0,4*N+6,5))]\n",
    "\n",
    "    # boundary conditions\n",
    "    # for ket:\n",
    "    inds0 = 'b0',\n",
    "    s_left = qtn.Tensor(state_vcl,inds0,tags='sl')\n",
    "    inds1 = f'b{N}',f'bc{N}'\n",
    "    s_right = qtn.Tensor(np.eye(state_vcl.size),inds1,tags='rvec')\n",
    "\n",
    "    # for bra:\n",
    "    inds2 = 'bc0',\n",
    "    sc_left = qtn.Tensor(state_vcl.conj(),inds2,tags='scl')\n",
    "\n",
    "    # for Hamiltonian\n",
    "    inds4 = 'H0',\n",
    "    H_left = qtn.Tensor(H_bvecl,inds4,tags='Hl')  \n",
    "    inds5 = f'H{N}',\n",
    "    H_right = qtn.Tensor(H_bvecr,inds5,tags='Hr') \n",
    "\n",
    "    # tenor contractions\n",
    "    TN0 = TN_list[0]\n",
    "    for j in range(1,len(TN_list)):\n",
    "        TN0 = TN_list[j] & TN0\n",
    "    \n",
    "    TN = s_left & s_right & sc_left & H_left & H_right & TN0\n",
    "    return TN\n",
    "\n",
    "def entropy(prob_list):\n",
    "    \"\"\"\n",
    "    Returns the entropy\n",
    "    \"\"\" \n",
    "    # avoiding NaN in numpy.log() function\n",
    "    new_prob_list = []\n",
    "    for j in prob_list:\n",
    "        if np.array(j) > 1.e-30:\n",
    "            new_prob_list.append(j)\n",
    "    s_list = [-p*np.log(p) for p in new_prob_list]\n",
    "    s = sum(s_list) # entropy\n",
    "    return s\n",
    "\n",
    "def free_energy(unit_list,params,\n",
    "                Hamiltonian,L,\n",
    "                state_vcl,state_vcr,\n",
    "                H_bvecl,H_bvecr,T):\n",
    "    \"\"\"\n",
    "    Free energy function\n",
    "    \"\"\"\n",
    "    TN = contractions(unit_list,params,Hamiltonian,L,state_vcl,state_vcr,H_bvecl,H_bvecr,T)\n",
    "    l_uc = len(unit_list)\n",
    "    E = TN.contract(all, optimize='auto-hq')\n",
    "    p_list = [prob_list(unit_list[j],params[j],T) for j in range(l_uc)]\n",
    "    s_list = [entropy(p) for p in p_list]\n",
    "    F = E - T*sum(s_list)/l_uc\n",
    "    return F"
   ]
  },
  {
   "cell_type": "markdown",
   "metadata": {},
   "source": [
    "# Example for self-dual Ising model"
   ]
  },
  {
   "cell_type": "code",
   "execution_count": 95,
   "metadata": {},
   "outputs": [],
   "source": [
    "\n",
    "# circuit structure\n",
    "def circuit(nb,params):\n",
    "    backend = qk.Aer.get_backend('unitary_simulator')\n",
    "    c = qk.QuantumCircuit(nb+1)\n",
    "    circuits.add_su4_circ(c, 0, 1, params[:15]) \n",
    "    if nb ==2:\n",
    "        circuits.add_su4_circ(c, 0, 2, params[15:]) \n",
    "    job = qk.execute(c, backend)\n",
    "    result = job.result()\n",
    "    #get the unitary matrix from the result object\n",
    "    return result.get_unitary(c, decimals=8)\n"
   ]
  },
  {
   "cell_type": "code",
   "execution_count": 96,
   "metadata": {},
   "outputs": [],
   "source": [
    "\n",
    "# params\n",
    "T = 0\n",
    "nb = 1\n",
    "l_uc = 1\n",
    "L = 5\n",
    "N = L * l_uc\n",
    "J = 1\n",
    "V = 1\n",
    "h = 0"
   ]
  },
  {
   "cell_type": "code",
   "execution_count": 97,
   "metadata": {},
   "outputs": [],
   "source": [
    "\n",
    "# state and bdry vecs\n",
    "state_vcl = np.array([1,0])\n",
    "state_vcr = np.array([1,0])\n",
    "Hamiltonian = model_mpo.sd_ising(J,V,h,N)\n",
    "chi_H = Hamiltonian[0,:,0,0].size # size of Hamiltonian bond leg dimension\n",
    "H_bvecr = [1,0,0,0,0]\n",
    "H_bvecl = np.zeros(chi_H)\n",
    "H_bvecl[-1] = 1\n",
    "bdry_vecs2 = [H_bvecl,H_bvecr]"
   ]
  },
  {
   "cell_type": "code",
   "execution_count": 100,
   "metadata": {},
   "outputs": [
    {
     "name": "stdout",
     "output_type": "stream",
     "text": [
      "free energy = -0.7390160147782444, T = 0\n"
     ]
    },
    {
     "data": {
      "image/png": "[encoded data removed]",
      "text/plain": [
       "<Figure size 432x432 with 1 Axes>"
      ]
     },
     "metadata": {},
     "output_type": "display_data"
    }
   ],
   "source": [
    "\n",
    "\"\"\"Hi Yuxuan, for this method, we contract the right boundary vecs as shown in Drew's note\"\"\"\n",
    "\n",
    "rng = np.random.default_rng()\n",
    "x0 = [rng.uniform(high=2*np.pi,size = nb*15 + 2)]\n",
    "unit_list = [circuit(1,x0[0]).reshape(2,2,2,2)]\n",
    "free = free_energy(unit_list,x0,\n",
    "                Hamiltonian,L,\n",
    "                state_vcl,state_vcr,\n",
    "                H_bvecl,H_bvecr,T)\n",
    "TN = contractions(unit_list,x0,Hamiltonian,L,state_vcl,state_vcr,H_bvecl,H_bvecr,T)\n",
    "print(f'free energy = {free}, T = {T}')\n",
    "TN.graph(color=['sl','rvec','scl','Hl','Hr','k','p','kc','H'])"
   ]
  },
  {
   "cell_type": "code",
   "execution_count": 87,
   "metadata": {},
   "outputs": [
    {
     "ename": "TypeError",
     "evalue": "the first argument must be callable",
     "output_type": "error",
     "traceback": [
      "\u001b[0;31m---------------------------------------------------------------------------\u001b[0m",
      "\u001b[0;31mTypeError\u001b[0m                                 Traceback (most recent call last)",
      "\u001b[0;32m<ipython-input-87-1c4f96845e28>\u001b[0m in \u001b[0;36m<module>\u001b[0;34m\u001b[0m\n\u001b[1;32m      1\u001b[0m \u001b[0mTN\u001b[0m \u001b[0;34m=\u001b[0m \u001b[0mcontractions\u001b[0m\u001b[0;34m(\u001b[0m\u001b[0munit_list\u001b[0m\u001b[0;34m,\u001b[0m\u001b[0mx0\u001b[0m\u001b[0;34m,\u001b[0m\u001b[0mHamiltonian\u001b[0m\u001b[0;34m,\u001b[0m\u001b[0mL\u001b[0m\u001b[0;34m,\u001b[0m\u001b[0mstate_vcl\u001b[0m\u001b[0;34m,\u001b[0m\u001b[0mstate_vcr\u001b[0m\u001b[0;34m,\u001b[0m\u001b[0mH_bvecl\u001b[0m\u001b[0;34m,\u001b[0m\u001b[0mH_bvecr\u001b[0m\u001b[0;34m,\u001b[0m\u001b[0mT\u001b[0m\u001b[0;34m)\u001b[0m\u001b[0;34m\u001b[0m\u001b[0;34m\u001b[0m\u001b[0m\n\u001b[0;32m----> 2\u001b[0;31m \u001b[0mtnopt\u001b[0m \u001b[0;34m=\u001b[0m \u001b[0mTNOptimizer\u001b[0m\u001b[0;34m(\u001b[0m\u001b[0mTN\u001b[0m\u001b[0;34m,\u001b[0m\u001b[0mfree\u001b[0m\u001b[0;34m,\u001b[0m\u001b[0moptimizer\u001b[0m\u001b[0;34m=\u001b[0m\u001b[0;34m'L-BFGS-B'\u001b[0m\u001b[0;34m)\u001b[0m\u001b[0;34m\u001b[0m\u001b[0;34m\u001b[0m\u001b[0m\n\u001b[0m",
      "\u001b[0;32m~/anaconda3/lib/python3.8/site-packages/quimb/tensor/optimize_autograd.py\u001b[0m in \u001b[0;36m__init__\u001b[0;34m(self, tn, loss_fn, norm_fn, loss_constants, loss_kwargs, constant_tags, loss_target, optimizer, progbar, autograd_backend, learning_rate, learning_decay_steps, learning_decay_rate)\u001b[0m\n\u001b[1;32m    236\u001b[0m                     \u001b[0mself\u001b[0m\u001b[0;34m.\u001b[0m\u001b[0mloss_constants\u001b[0m\u001b[0;34m[\u001b[0m\u001b[0mk\u001b[0m\u001b[0;34m]\u001b[0m \u001b[0;34m=\u001b[0m \u001b[0mconstant\u001b[0m\u001b[0;34m(\u001b[0m\u001b[0mv\u001b[0m\u001b[0;34m,\u001b[0m \u001b[0mautograd_backend\u001b[0m\u001b[0;34m)\u001b[0m\u001b[0;34m\u001b[0m\u001b[0;34m\u001b[0m\u001b[0m\n\u001b[1;32m    237\u001b[0m \u001b[0;34m\u001b[0m\u001b[0m\n\u001b[0;32m--> 238\u001b[0;31m         self.loss_fn = functools.partial(\n\u001b[0m\u001b[1;32m    239\u001b[0m             \u001b[0mloss_fn\u001b[0m\u001b[0;34m,\u001b[0m \u001b[0;34m**\u001b[0m\u001b[0mself\u001b[0m\u001b[0;34m.\u001b[0m\u001b[0mloss_constants\u001b[0m\u001b[0;34m,\u001b[0m \u001b[0;34m**\u001b[0m\u001b[0mself\u001b[0m\u001b[0;34m.\u001b[0m\u001b[0mloss_kwargs\u001b[0m\u001b[0;34m\u001b[0m\u001b[0;34m\u001b[0m\u001b[0m\n\u001b[1;32m    240\u001b[0m         )\n",
      "\u001b[0;31mTypeError\u001b[0m: the first argument must be callable"
     ]
    }
   ],
   "source": [
    "\n",
    "\"\"\" Could you please get the following lines working? Thx!\"\"\"\n",
    "TN = contractions(unit_list,x0,Hamiltonian,L,state_vcl,state_vcr,H_bvecl,H_bvecr,T)\n",
    "tnopt = TNOptimizer(TN,free,optimizer='L-BFGS-B')"
   ]
  },
  {
   "cell_type": "markdown",
   "metadata": {},
   "source": [
    "# Second method"
   ]
  },
  {
   "cell_type": "code",
   "execution_count": 88,
   "metadata": {},
   "outputs": [
    {
     "data": {
      "image/png": "[encoded data removed]",
      "text/plain": [
       "<Figure size 432x432 with 1 Axes>"
      ]
     },
     "metadata": {},
     "output_type": "display_data"
    }
   ],
   "source": [
    "\n",
    "\"\"\" For this method, we should also define the right boundary vecs\"\"\"\n",
    "def contractions(unit_list,params,\n",
    "                 Hamiltonian,L,\n",
    "                 state_vcl,state_vcr,\n",
    "                 H_bvecl,H_bvecr,T):\n",
    "    \"\"\"\n",
    "    Returns tensor contractions\n",
    "    \"\"\"\n",
    "    unit_list1 = L * unit_list\n",
    "    params1 = L * params\n",
    "    N = L * len(unit_list)\n",
    "    TN_list = [MPDO(unit_list1[n],params1[n],Hamiltonian,T,n,j) for n,j in zip(range(N),range(0,4*N+6,5))]\n",
    "\n",
    "    # boundary conditions\n",
    "    # for ket:\n",
    "    inds0 = 'b0',\n",
    "    s_left = qtn.Tensor(state_vcl,inds0,tags='sl')\n",
    "    inds1 = f'b{N}',\n",
    "    s_right = qtn.Tensor(state_vcr,inds1,tags='sr')\n",
    "\n",
    "    # for bra:\n",
    "    inds2 = 'bc0',\n",
    "    sc_left = qtn.Tensor(state_vcl.conj(),inds2,tags='scl')\n",
    "    inds3 = f'bc{N}',\n",
    "    sc_right = qtn.Tensor(state_vcr.conj(),inds3,tags='scr')\n",
    "\n",
    "    # for Hamiltonian\n",
    "    inds4 = 'H0',\n",
    "    H_left = qtn.Tensor(H_bvecl,inds4,tags='Hl')  \n",
    "    inds5 = f'H{N}',\n",
    "    H_right = qtn.Tensor(H_bvecr,inds5,tags='Hr') \n",
    "\n",
    "    # tenor contractions\n",
    "    TN0 = TN_list[0]\n",
    "    for j in range(1,len(TN_list)):\n",
    "        TN0 = TN_list[j] & TN0\n",
    "    \n",
    "    TN = s_left & s_right & sc_left & sc_right & H_left & H_right & TN0\n",
    "    return TN\n",
    "\n",
    "TN = contractions(unit_list,x0,Hamiltonian,L,state_vcl,state_vcr,H_bvecl,H_bvecr,T)\n",
    "TN.graph(color=['sl','sr','scl','scr','Hl','Hr','k','p','kc','H'])"
   ]
  }
 ],
 "metadata": {
  "kernelspec": {
   "display_name": "Python 3",
   "language": "python",
   "name": "python3"
  },
  "language_info": {
   "codemirror_mode": {
    "name": "ipython",
    "version": 3
   },
   "file_extension": ".py",
   "mimetype": "text/x-python",
   "name": "python",
   "nbconvert_exporter": "python",
   "pygments_lexer": "ipython3",
   "version": "3.8.3"
  }
 },
 "nbformat": 4,
 "nbformat_minor": 4
}
