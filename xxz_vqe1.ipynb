{
 "cells": [
  {
   "cell_type": "markdown",
   "metadata": {},
   "source": [
    "# Heisenberg XXZ model (v.1)"
   ]
  },
  {
   "cell_type": "markdown",
   "metadata": {},
   "source": [
    "#  1. Imports"
   ]
  },
  {
   "cell_type": "code",
   "execution_count": 1,
   "metadata": {},
   "outputs": [],
   "source": [
    "\n",
    "# qiskit imports\n",
    "import numpy as np\n",
    "from scipy.optimize import minimize\n",
    "import time\n",
    "import matplotlib.pyplot as plt\n",
    "import qiskit as qk\n",
    "import qiskit.providers.aer.noise as noise\n",
    "import sys\n",
    "sys.path.append(\"..\") # import one subdirectory up in files\n",
    "#sys.path.append(\"..\") # import one subdirectory up in files\n",
    "#os.chdir(\"../holopy/\")\n",
    "import basic_circuits as circuits\n",
    "from networks import IsoMPS\n",
    "from isonetwork import QKParamCircuit, IsoTensor\n",
    "import matplotlib.pyplot as plt\n",
    "\n",
    "# tenpy imports\n",
    "import tenpy as tp\n",
    "from tenpy.algorithms import dmrg\n",
    "from tenpy.networks.mps import MPS\n",
    "from tenpy.models.spins import SpinModel\n",
    "from tenpy.models.model import CouplingMPOModel, NearestNeighborModel\n",
    "from tenpy.tools.params import asConfig\n",
    "from tenpy.networks.site import SpinHalfSite\n",
    "\n",
    "# classical circuit and thermal states imports\n",
    "# import thermal state\n",
    "#from thermal_state import thermal_state \n",
    "from circuit_qubit1 import Circuit\n",
    "from hamiltonian import model_mpo\n"
   ]
  },
  {
   "cell_type": "markdown",
   "metadata": {},
   "source": [
    "# 2. Circuit structure (qiskit-based)"
   ]
  },
  {
   "cell_type": "code",
   "execution_count": 343,
   "metadata": {},
   "outputs": [],
   "source": [
    "\n",
    "# model params \n",
    "J = 1 # spin-exchange\n",
    "Delta = 1 # Ising-anisotropy\n",
    "hz = 0 # z-field\n",
    "L = 2 # repetition of unit-cell\n",
    "l_uc = 2 # number of sites in unit cell\n",
    "N = L * l_uc # number of sites\n",
    "nb = 1 # should change this for each nb\n",
    "d = 2\n",
    "chi = 2*nb"
   ]
  },
  {
   "cell_type": "code",
   "execution_count": 344,
   "metadata": {},
   "outputs": [
    {
     "data": {
      "text/plain": [
       "{'00': 167, '01': 233}"
      ]
     },
     "execution_count": 344,
     "metadata": {},
     "output_type": "execute_result"
    }
   ],
   "source": [
    "\n",
    "# qiskit circuit structure\n",
    "def circuit(nb,params):\n",
    "    backend = qk.Aer.get_backend('unitary_simulator')\n",
    "    c = qk.QuantumCircuit(nb+1)\n",
    "    if nb == 1:\n",
    "        circuits.add_su4_circ(c, 1, 0, params[:15])\n",
    "    if nb ==2:\n",
    "        circuits.add_su4_circ(c, 2, 0, params[:15])\n",
    "        circuits.add_su4_circ(c, 2, 1, params[15:30])\n",
    "        circuits.add_su4_circ(c, 1, 0, params[30:])\n",
    "    job = qk.execute(c, backend)\n",
    "    result = job.result()\n",
    "    #get the unitary matrix from the result object\n",
    "    return result.get_unitary(c, decimals=8)\n",
    "\n",
    "backend = qk.Aer.get_backend('qasm_simulator')\n",
    "c = qk.QuantumCircuit(nb+1,2)\n",
    "circuits.add_su4_circ(c, 1, 0, sweet_spot[2:]) \n",
    "c.draw('mpl')\n",
    "c.measure(0,0)\n",
    "job = qk.execute(c, backend,shots = 400)\n",
    "result = job.result()\n",
    "result.get_counts()"
   ]
  },
  {
   "cell_type": "markdown",
   "metadata": {},
   "source": [
    "# 3. Free energy simulations"
   ]
  },
  {
   "cell_type": "code",
   "execution_count": 345,
   "metadata": {},
   "outputs": [],
   "source": [
    "\n",
    "# DMRG code for computing GS energy\n",
    "\n",
    "__all__ = ['XXZModel', 'XXChain']\n",
    "class XXZModel(CouplingMPOModel):\n",
    "    def init_sites(self, model_params):\n",
    "        conserve = model_params.get('conserve', 'parity')\n",
    "        assert conserve != 'Sz'\n",
    "        if conserve == 'best':\n",
    "            conserve = 'parity'\n",
    "            if self.verbose >= 1.:\n",
    "                print(self.name + \": set conserve to\", conserve)\n",
    "        site = SpinHalfSite(conserve=conserve)\n",
    "        return site\n",
    "    def init_terms(self, model_params):\n",
    "        J = np.asarray(model_params.get('J', 1.))\n",
    "        d = np.asarray(model_params.get('d', 1.))\n",
    "        h = np.asarray(model_params.get('h', 1.))\n",
    "        for u in range(len(self.lat.unit_cell)):\n",
    "            self.add_onsite(h, u, 'Sigmaz')\n",
    "        for u1, u2, dx in self.lat.pairs['nearest_neighbors']:\n",
    "            self.add_coupling(J, u1, 'Sigmax', u2, 'Sigmax', dx)\n",
    "            self.add_coupling(J, u1, 'Sigmay', u2, 'Sigmay', dx)\n",
    "            self.add_coupling(J*d, u1, 'Sigmaz', u2, 'Sigmaz', dx)\n",
    "        # done\n",
    "        \n",
    "class XXZChain(XXZModel, NearestNeighborModel):\n",
    "    def __init__(self, model_params):\n",
    "        model_params = asConfig(model_params, self.__class__.__name__)\n",
    "        model_params.setdefault('lattice', \"Chain\")\n",
    "        CouplingMPOModel.__init__(self, model_params)\n",
    "        \n",
    "        \n",
    "def DMRG_xxz(J,Delta,hz,chi_max,bc,L,verbose=False):\n",
    "    model_params = dict(L=L, J=J, d=Delta, h = hz, bc_MPS=bc, \n",
    "                        conserve=None, verbose=verbose)\n",
    "    M = XXZChain(model_params)\n",
    "    product_state = [\"down\"] * M.lat.N_sites\n",
    "    psi = MPS.from_product_state(M.lat.mps_sites(), product_state, bc=M.lat.bc_MPS)\n",
    "    dmrg_params = {\n",
    "        'mixer': True,  # setting this to True helps to escape local minima\n",
    "        'trunc_params': {\n",
    "            'chi_max': chi_max,\n",
    "            'svd_min': 1.e-6\n",
    "        },\n",
    "        'max_E_err': 1.e-6,\n",
    "        'verbose': verbose,\n",
    "    }\n",
    "    eng = tp.algorithms.dmrg.TwoSiteDMRGEngine(psi, M, dmrg_params)\n",
    "    E, psi = eng.run()  # equivalent to dmrg.run() up to the return parameters.\n",
    "    print(\"E_dmrg = {E:.13f}\".format(E=E))\n",
    "    print(\"final bond dimensions: \", psi.chi)\n",
    "    mag_x = np.mean(psi.expectation_value(\"Sigmax\"))\n",
    "    mag_z = np.mean(psi.expectation_value(\"Sigmaz\"))\n",
    "    print(\"<sigma_x> = {mag_x:.5f}\".format(mag_x=mag_x))\n",
    "    print(\"<sigma_z> = {mag_z:.5f}\".format(mag_z=mag_z))\n",
    "    #print(\"correlation length:\", psi.correlation_length())\n",
    "    if bc == 'infinite':\n",
    "        E1 = E\n",
    "    else:\n",
    "        E1 = E/L\n",
    "    return E1"
   ]
  },
  {
   "cell_type": "code",
   "execution_count": 346,
   "metadata": {},
   "outputs": [],
   "source": [
    "\n",
    "# thermal-state-based Hamiltonian and boundary vects\n",
    "Hamiltonian = model_mpo.xxz(J,Delta,hz,N)\n",
    "chi_H = Hamiltonian[0,:,0,0].size # size of Hamiltonian bond leg dimension\n",
    "H_bvecr = None\n",
    "H_bvecl = np.zeros(chi_H)\n",
    "H_bvecl[-1] = 1\n",
    "bdry_vecs2 = [H_bvecl,H_bvecr]\n"
   ]
  },
  {
   "cell_type": "code",
   "execution_count": 347,
   "metadata": {},
   "outputs": [
    {
     "name": "stdout",
     "output_type": "stream",
     "text": [
      "Free energy = -1.7115863044368327, T = 0, nb = 1\n",
      "E_dmrg = -1.7084204488003\n",
      "final bond dimensions:  [2, 2]\n",
      "<sigma_x> = -0.00000\n",
      "<sigma_z> = 0.00000\n"
     ]
    },
    {
     "name": "stderr",
     "output_type": "stream",
     "text": [
      "/home/shahin75/anaconda3/lib/python3.8/site-packages/tenpy/tools/params.py:225: UserWarning: unused option ['P_tol'] for config lanczos_params\n",
      "\n",
      "  warnings.warn(msg.format(keys=sorted(unused), name=self.name))\n"
     ]
    }
   ],
   "source": [
    "\n",
    "# nb = 1\n",
    "# free energy\n",
    "T = 0\n",
    "k = (2*nb-1)\n",
    "\n",
    "def circuit_qubit_free_energy(x,*args):\n",
    "    #circuit = args[0]\n",
    "    L = args[1]\n",
    "    T = args[2]\n",
    "    Hamiltonian = args[3]\n",
    "    chi_H = args[4]\n",
    "    bdry_vecs1 = args[5]\n",
    "    bdry_vecs2 = args[6]\n",
    "    l_uc = args[7]\n",
    "    unitary_list = [circuit(nb,x[2*l_uc:2*l_uc+15*k]).reshape((2, 2**nb, 2, 2**nb)),\n",
    "                    circuit(nb,x[2*l_uc + 15*k:]).reshape((2, 2**nb, 2, 2**nb))]\n",
    "    F = thermal_state.free_energy(unitary_list,\n",
    "                                  x,'density_matrix',\n",
    "                                  L,Hamiltonian,\n",
    "                                  T, chi_H,\n",
    "                                  bdry_vecs1,bdry_vecs2,\n",
    "                                  'method_I',None,None) \n",
    "    return F\n",
    "\n",
    "bdry_vecs1 = None\n",
    "#### bdry_vecs1 = TBD for MPDO, bdry_vecs1 = [None,None] and for iMPDO, bdry_vecs1 = None\n",
    "Hamiltonian = model_mpo.xxz(J,Delta,hz,N-1)\n",
    "args = (c,L,T,Hamiltonian,chi_H,bdry_vecs1,bdry_vecs2,l_uc)\n",
    "rng = np.random.default_rng()\n",
    "x0 = rng.uniform(high=2*np.pi,size = 2*15*k + 4)\n",
    "\n",
    "result = minimize(circuit_qubit_free_energy,x0=x0,args=args,method = 'nelder-mead')\n",
    "sweet_spot = result.x\n",
    "free_energy = result.fun\n",
    "print(f'Free energy = {free_energy}, T = {T}, nb = {nb}')\n",
    "E_infinite = DMRG_xxz(J,Delta,hz,chi_max = 2*nb,bc='infinite',L=2,verbose=False)"
   ]
  },
  {
   "cell_type": "code",
   "execution_count": 321,
   "metadata": {},
   "outputs": [
    {
     "name": "stdout",
     "output_type": "stream",
     "text": [
      "Free energy = -1.7620366365792055, T = 0, nb = 2\n",
      "E_dmrg = -1.7608891769355\n",
      "final bond dimensions:  [4, 4]\n",
      "<sigma_x> = 0.00000\n",
      "<sigma_z> = -0.00000\n"
     ]
    },
    {
     "name": "stderr",
     "output_type": "stream",
     "text": [
      "/home/shahin75/anaconda3/lib/python3.8/site-packages/tenpy/tools/params.py:225: UserWarning: unused option ['P_tol'] for config lanczos_params\n",
      "\n",
      "  warnings.warn(msg.format(keys=sorted(unused), name=self.name))\n"
     ]
    }
   ],
   "source": [
    "\n",
    "# nb = 2\n",
    "# free energy\n",
    "T = 0\n",
    "k = (2*nb-1)\n",
    "\n",
    "def circuit_qubit_free_energy(x,*args):\n",
    "    #circuit = args[0]\n",
    "    L = args[1]\n",
    "    T = args[2]\n",
    "    Hamiltonian = args[3]\n",
    "    chi_H = args[4]\n",
    "    bdry_vecs1 = args[5]\n",
    "    bdry_vecs2 = args[6]\n",
    "    l_uc = args[7]\n",
    "    unitary_list = [circuit(nb,x[2*l_uc:2*l_uc+15*k]).reshape((2, 2**nb, 2, 2**nb)),\n",
    "                    circuit(nb,x[2*l_uc + 15*k:]).reshape((2, 2**nb, 2, 2**nb))]\n",
    "    F = thermal_state.free_energy(unitary_list,\n",
    "                                  x,'density_matrix',\n",
    "                                  L,Hamiltonian,\n",
    "                                  T, chi_H,\n",
    "                                  bdry_vecs1,bdry_vecs2,\n",
    "                                  'method_I',None,None) \n",
    "    return F\n",
    "\n",
    "bdry_vecs1 = None\n",
    "#### bdry_vecs1 = TBD for MPDO, bdry_vecs1 = [None,None] and for iMPDO, bdry_vecs1 = None\n",
    "Hamiltonian = model_mpo.xxz(J,Delta,hz,N-1)\n",
    "args = (c,L,T,Hamiltonian,chi_H,bdry_vecs1,bdry_vecs2,l_uc)\n",
    "rng = np.random.default_rng()\n",
    "x0 = rng.uniform(high=2*np.pi,size = 2*15*k + 4)\n",
    "\n",
    "result = minimize(circuit_qubit_free_energy,x0=x0,args=args,method = 'nelder-mead')\n",
    "sweet_spot = result.x\n",
    "free_energy = result.fun\n",
    "print(f'Free energy = {free_energy}, T = {T}, nb = {nb}')\n",
    "E_infinite = DMRG_xxz(J,Delta,hz,chi_max = 2*nb,bc='infinite',L=2,verbose=False)"
   ]
  },
  {
   "cell_type": "markdown",
   "metadata": {},
   "source": [
    "Should rerun the following cells separately for each nb"
   ]
  },
  {
   "cell_type": "code",
   "execution_count": 298,
   "metadata": {},
   "outputs": [],
   "source": [
    "\n",
    "# nb = 1\n",
    "T_list = []\n",
    "x_list = [x0]\n",
    "F_list = []\n",
    "\n",
    "for i in range(10):\n",
    "    args = (c,L,T,Hamiltonian,chi_H,bdry_vecs1,bdry_vecs2,l_uc)\n",
    "    result = minimize(circuit_qubit_free_energy,x0=x_list[len(T_list)-1],\n",
    "                      args=args,method = 'nelder-mead')\n",
    "    x_list.append(result.x)\n",
    "    F_list.append(result.fun)\n",
    "    T_list.append(T)    \n",
    "    T = T + 0.2"
   ]
  },
  {
   "cell_type": "code",
   "execution_count": 310,
   "metadata": {},
   "outputs": [],
   "source": [
    "\n",
    "# nb = 2\n",
    "T_list4 = []\n",
    "x_list4 = [x0]\n",
    "F_list4 = []\n",
    "\n",
    "for i in range(10):\n",
    "    args = (c,L,T,Hamiltonian,chi_H,bdry_vecs1,bdry_vecs2,l_uc)\n",
    "    result = minimize(circuit_qubit_free_energy,x0=x_list4[len(T_list4)-1],\n",
    "                      args=args,method = 'nelder-mead')\n",
    "    x_list4.append(result.x)\n",
    "    F_list4.append(result.fun)\n",
    "    T_list4.append(T)    \n",
    "    T = T + 0.2"
   ]
  },
  {
   "cell_type": "code",
   "execution_count": 315,
   "metadata": {},
   "outputs": [
    {
     "data": {
      "image/png": "[encoded data removed]",
      "text/plain": [
       "<Figure size 432x288 with 1 Axes>"
      ]
     },
     "metadata": {
      "needs_background": "light"
     },
     "output_type": "display_data"
    }
   ],
   "source": [
    "\n",
    "# example for nb = 1\n",
    "plt.plot(T_list,F_list)\n",
    "#plt.plot(T_list4,F_list4)\n",
    "plt.legend(['nb = 1','nb = 2'])\n",
    "plt.xlabel('Temperature')\n",
    "plt.ylabel('Free Energy')\n",
    "plt.title(f'Heisenberg XXZ Chain (J = {J}, Delta = {Delta}, hz = {hz})')\n",
    "plt.show()"
   ]
  },
  {
   "cell_type": "markdown",
   "metadata": {},
   "source": [
    "2. results of two runs for nb = 1 and 2"
   ]
  },
  {
   "cell_type": "code",
   "execution_count": 304,
   "metadata": {},
   "outputs": [
    {
     "name": "stdout",
     "output_type": "stream",
     "text": [
      "[0, 0.2, 0.4, 0.6000000000000001, 0.8, 1.0, 1.2, 1.4, 1.5999999999999999, 1.7999999999999998]\n",
      "[array([0.03527594, 4.05425282, 3.39971463, 1.033524  , 5.22656395,\n",
      "       3.60539244, 0.5373303 , 3.17469607, 2.3022618 , 1.57242222,\n",
      "       2.91886345, 1.07754854, 6.14145416, 3.58949578, 5.31249014,\n",
      "       3.1152972 , 6.25606456, 0.01718427, 4.88058889, 2.70019572,\n",
      "       0.50298797, 5.44862745, 2.70531262, 2.10381281, 3.99833975,\n",
      "       2.89016625, 4.04958186, 2.25680534, 4.49451739, 1.7220105 ,\n",
      "       4.00301838, 5.9364337 , 6.26223707, 0.48149041]), array([0.0246511 , 3.72366533, 5.51865369, 0.82328706, 3.99225221,\n",
      "       3.63355542, 0.78993077, 2.2555311 , 2.77766972, 0.62742554,\n",
      "       4.74265091, 1.22124316, 6.01933867, 3.2686858 , 4.69149486,\n",
      "       2.50517776, 5.88764995, 0.01771985, 5.62841705, 2.79346189,\n",
      "       0.56100252, 6.99402743, 4.41670309, 1.60356985, 3.42438382,\n",
      "       1.92588315, 5.08736432, 1.74217519, 3.3501241 , 1.92161288,\n",
      "       4.08938548, 6.29962551, 5.83768189, 0.45625116]), array([0.04236136, 4.64614661, 3.90306077, 1.27343087, 5.99425452,\n",
      "       4.70793341, 0.56825112, 2.54725747, 2.37011443, 2.03002005,\n",
      "       1.9199832 , 1.25344195, 8.2692864 , 2.43163127, 5.38661501,\n",
      "       3.08124919, 7.53428479, 0.01408457, 6.16967749, 2.6042214 ,\n",
      "       0.4588282 , 3.72271503, 2.00736708, 1.2916145 , 2.72066496,\n",
      "       1.2424332 , 4.36440797, 2.22151771, 4.5847946 , 2.1553515 ,\n",
      "       3.3068566 , 5.86953917, 6.67332353, 0.52519206]), array([0.0303204 , 4.33478747, 4.9504525 , 0.79811756, 1.79896912,\n",
      "       3.18471937, 0.79916012, 1.76491353, 2.98923553, 0.49868488,\n",
      "       5.06325936, 1.74282287, 5.11500718, 2.80892964, 4.49989333,\n",
      "       1.6607303 , 7.70714317, 0.02440419, 8.06706834, 2.49739951,\n",
      "       0.69976196, 6.81015822, 4.60992702, 1.46054178, 3.70950424,\n",
      "       1.30551942, 4.36124052, 2.24803765, 4.1727485 , 1.90656695,\n",
      "       3.62944868, 6.0125887 , 5.38720184, 0.42408797]), array([0.04186094, 4.95642752, 5.49559102, 0.80051844, 5.98482966,\n",
      "       4.56397694, 0.56850746, 2.53127853, 2.60007711, 1.98477741,\n",
      "       1.92114056, 1.22002566, 8.20812254, 2.47401121, 5.20560455,\n",
      "       2.89328909, 7.08574264, 0.01870771, 6.29344737, 2.48976931,\n",
      "       0.70260358, 3.65869959, 1.89243967, 1.61242484, 2.70537078,\n",
      "       1.19427889, 4.3624926 , 1.71823806, 4.51074445, 2.21615932,\n",
      "       2.98835616, 5.7707831 , 7.0385692 , 0.64562731]), array([0.02565011, 4.69545049, 5.86691603, 1.00636159, 2.38388798,\n",
      "       3.27465183, 0.83410555, 1.93314646, 3.14361601, 0.39483807,\n",
      "       5.06504117, 1.60860546, 5.06386777, 2.61324891, 4.51096679,\n",
      "       1.15201288, 7.68621976, 0.01142331, 7.33122246, 2.25853259,\n",
      "       0.98389788, 6.82069966, 5.07626497, 1.58784989, 3.01879171,\n",
      "       1.13273922, 4.35983267, 1.73682169, 4.15291167, 1.96628536,\n",
      "       4.0065714 , 6.17004313, 4.77211962, 0.74526612]), array([ 0.12001498,  4.76522752,  6.25321708,  1.59993581,  5.96889286,\n",
      "        5.65551937,  0.48010894,  2.76048869,  3.43762115,  2.72911595,\n",
      "        1.92954531,  1.20848431,  7.83637226,  2.16557373,  5.13972306,\n",
      "        3.17543608,  6.92940053, -0.01372671,  6.02189139,  3.1211974 ,\n",
      "        0.61386097,  3.22450723,  2.25218079,  2.45084495,  2.82526447,\n",
      "        1.21681785,  4.35889982,  1.48125618,  4.66057431,  2.28353513,\n",
      "        4.15060426,  6.34811331,  7.29320016,  0.01106578]), array([4.25269703e-02, 4.59187341e+00, 6.27484548e+00, 1.71392972e+00,\n",
      "       2.13489822e+00, 3.28327610e+00, 6.65419182e-01, 1.97254929e+00,\n",
      "       3.10122806e+00, 4.47059656e-01, 5.07240188e+00, 1.57277493e+00,\n",
      "       5.07169934e+00, 2.62863128e+00, 4.32009256e+00, 9.50307906e-01,\n",
      "       8.20717178e+00, 4.70366693e-03, 7.26495087e+00, 2.46993937e+00,\n",
      "       3.79479436e-01, 6.96649916e+00, 5.07920176e+00, 1.43975087e+00,\n",
      "       3.18867031e+00, 1.20285931e+00, 4.35395569e+00, 1.54587372e+00,\n",
      "       4.18203277e+00, 1.89404503e+00, 4.01960944e+00, 6.30976618e+00,\n",
      "       4.78914514e+00, 2.52824758e-01]), array([ 0.14628874,  4.59065279,  6.31150923,  1.86946605,  5.85507168,\n",
      "        6.30924396,  0.41534942,  3.00612408,  3.10520144,  3.01215   ,\n",
      "        1.93457128,  1.20697984,  7.85398856,  2.15241822,  5.06368422,\n",
      "        3.21031648,  7.28511349, -0.01193795,  6.10371763,  3.11234036,\n",
      "        0.29986063,  3.23470102,  2.32065055,  2.47138634,  3.14021218,\n",
      "        1.20771923,  4.34819711,  1.57085304,  4.64959008,  2.23876154,\n",
      "        4.20331827,  6.34220153,  6.90989798,  0.01377933]), array([6.30017215e-02, 4.37182238e+00, 6.07079666e+00, 1.76192099e+00,\n",
      "       2.18915066e+00, 3.13587681e+00, 6.36346780e-01, 1.97956927e+00,\n",
      "       3.13179173e+00, 4.07409729e-01, 5.08384560e+00, 1.57202324e+00,\n",
      "       5.08369565e+00, 2.73766308e+00, 4.37361100e+00, 1.06765748e+00,\n",
      "       8.14203529e+00, 8.36649677e-03, 7.17015503e+00, 2.56046178e+00,\n",
      "       1.23344563e-02, 6.85516246e+00, 5.12591512e+00, 1.28071454e+00,\n",
      "       3.13647083e+00, 1.19908486e+00, 4.34143533e+00, 1.57083294e+00,\n",
      "       4.23395210e+00, 1.78855366e+00, 3.94387722e+00, 6.26992415e+00,\n",
      "       4.98935996e+00, 7.64081235e-03]), array([ 0.17842713,  4.33736178,  5.92327355,  1.76497842,  5.81090729,\n",
      "        6.28509085,  0.47115034,  3.01411106,  3.13852062,  3.01484348,\n",
      "        1.95123057,  1.19031929,  7.85423254,  2.12860649,  5.06035405,\n",
      "        3.19730433,  7.23097933, -0.01087369,  6.11652285,  3.11330713,\n",
      "        0.293454  ,  3.16972109,  2.37346362,  2.49768734,  3.15364949,\n",
      "        1.19031654,  4.33192393,  1.57056782,  4.68388268,  2.21821668,\n",
      "        4.22125098,  6.27243645,  6.91793108,  0.01499171])]\n",
      "[-1.7115702293925277, -1.7115145276054962, -1.711609825839678, -1.711816847935022, -1.71369575755726, -1.7209067198913195, -1.7367846128217639, -1.7643150256635065, -1.8047796592644514, -1.8587726409273893]\n"
     ]
    }
   ],
   "source": [
    "\n",
    "# results of one run for nb = 1\n",
    "# for nb = 1\n",
    "print(T_list)\n",
    "print(x_list)\n",
    "print(F_list)"
   ]
  },
  {
   "cell_type": "code",
   "execution_count": null,
   "metadata": {},
   "outputs": [],
   "source": [
    "\n",
    "# for nb = 2\n",
    "print(x_list4)\n",
    "print(F_list4)\n",
    "print(T_list4)"
   ]
  }
 ],
 "metadata": {
  "kernelspec": {
   "display_name": "Python 3",
   "language": "python",
   "name": "python3"
  },
  "language_info": {
   "codemirror_mode": {
    "name": "ipython",
    "version": 3
   },
   "file_extension": ".py",
   "mimetype": "text/x-python",
   "name": "python",
   "nbconvert_exporter": "python",
   "pygments_lexer": "ipython3",
   "version": "3.8.3"
  }
 },
 "nbformat": 4,
 "nbformat_minor": 4
}
