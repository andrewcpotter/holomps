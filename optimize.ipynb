{
 "cells": [
  {
   "cell_type": "code",
   "execution_count": 1,
   "metadata": {},
   "outputs": [],
   "source": [
    "import time\n",
    "\n",
    "import numpy as np\n",
    "from circuit import Circuit\n",
    "from mps_stuff import ising_impo, circuit_imps\n",
    "\n",
    "from scipy.optimize import minimize"
   ]
  },
  {
   "cell_type": "code",
   "execution_count": 2,
   "metadata": {},
   "outputs": [],
   "source": [
    "d = 2\n",
    "chimax = 2\n",
    "J = 1\n",
    "g = 0.5"
   ]
  },
  {
   "cell_type": "code",
   "execution_count": 3,
   "metadata": {},
   "outputs": [],
   "source": [
    "# treat the cavity as a qubit and do an arbitrary X rotation\n",
    "def cav_xrot(params):\n",
    "    theta = params[0]\n",
    "    return (0, -theta/2)\n",
    "# treat the cavity as a qubit and do an arbitrary Y rotation\n",
    "def cav_yrot(params):\n",
    "    theta = params[0]\n",
    "    return (theta/2, 0)\n",
    "# treat the cavity as a qubit and rotate from Z to X\n",
    "def cav_zx(params): return (np.pi/4, 0)\n",
    "# treat the cavity as a qubit and rotate from X to Z\n",
    "def cav_xz(params): return (-np.pi/4, 0)\n",
    "# treat the cavity as a qubit and rotate from Z to Y\n",
    "def cav_zy(params): return (0, -np.pi/4)\n",
    "# treat the cavity as a qubit and rotate from Y to Z\n",
    "def cav_yz(params): return (0, np.pi/4)\n",
    "# rotate qubit from Z to X\n",
    "def qub_zx(params): return (np.pi/2, np.pi/2, np.pi/2)\n",
    "# rotate qubit from X to Z\n",
    "def qub_xz(params): return (np.pi/2, np.pi/2, -np.pi/2)\n",
    "# rotate qubit from Z to Y\n",
    "def qub_zy(params): return (np.pi/2, 0, np.pi/2)\n",
    "# rotate qubit from Y to Z\n",
    "def qub_yz(params): return (np.pi/2, 0, -np.pi/2)\n",
    "# SNAP equivalent of exp(i theta ZZ)\n",
    "def snap_zz(params):\n",
    "    theta = params[0]\n",
    "    return [theta, -theta]\n",
    "\n",
    "c = Circuit([(\"qubit\", \"p\", d), (\"cavity\", \"b\", chimax)])\n",
    "\n",
    "# arbitrary one-qubit rotations\n",
    "c.add_gate(\"rotation\")\n",
    "c.add_gate(\"displacement\", n_params=1, fn=cav_xrot)\n",
    "c.add_gate(\"displacement\", n_params=1, fn=cav_yrot)\n",
    "c.add_gate(\"displacement\", n_params=1, fn=cav_xrot)\n",
    "\n",
    "# XX rotation\n",
    "c.add_gate(\"rotation\", n_params=0, fn=qub_xz)\n",
    "c.add_gate(\"displacement\", n_params=0, fn=cav_xz)\n",
    "c.add_gate(\"snap\", n_params=1, fn=snap_zz)\n",
    "c.add_gate(\"rotation\", n_params=0, fn=qub_zx)\n",
    "c.add_gate(\"displacement\", n_params=0, fn=cav_zx)\n",
    "\n",
    "# YY rotation\n",
    "c.add_gate(\"rotation\", n_params=0, fn=qub_yz)\n",
    "c.add_gate(\"displacement\", n_params=0, fn=cav_yz)\n",
    "c.add_gate(\"snap\", n_params=1, fn=snap_zz)\n",
    "c.add_gate(\"rotation\", n_params=0, fn=qub_zy)\n",
    "c.add_gate(\"displacement\", n_params=0, fn=cav_zy)\n",
    "\n",
    "# ZZ rotation\n",
    "c.add_gate(\"snap\", n_params=1, fn=snap_zz)\n",
    "\n",
    "# arbitrary one-qubit rotations\n",
    "c.add_gate(\"rotation\")\n",
    "c.add_gate(\"displacement\", n_params=1, fn=cav_xrot)\n",
    "c.add_gate(\"displacement\", n_params=1, fn=cav_yrot)\n",
    "c.add_gate(\"displacement\", n_params=1, fn=cav_xrot)\n",
    "\n",
    "c.assemble()"
   ]
  },
  {
   "cell_type": "code",
   "execution_count": 4,
   "metadata": {},
   "outputs": [
    {
     "name": "stdout",
     "output_type": "stream",
     "text": [
      "norm of wave function = 1.0\n",
      "\n",
      "goddamn, that took 97.01415967941284s to optimize\n",
      "sweet spot = [5.62331355 1.12856283 2.85698406 6.06494089 2.96633052 0.14973327\n",
      " 5.79001977 1.70583356 0.67554644 4.00034017 3.37894867 1.35377546\n",
      " 2.54913671 6.2909282  2.64125927]\n",
      "num function evaluations: 3000\n",
      "num iterations: 2227\n",
      "termination msg: Maximum number of function evaluations has been exceeded.\n"
     ]
    }
   ],
   "source": [
    "def energy(params, circuit, Hamiltonian, psi):\n",
    "    psi = circuit_imps(params, circuit)\n",
    "    E = (Hamiltonian.expectation_value(psi)).real\n",
    "    return E\n",
    "\n",
    "rng = np.random.default_rng() \n",
    "params = rng.uniform(high=2*np.pi, size=c.n_params)\n",
    "psi = circuit_imps(params, c)\n",
    "print(\"norm of wave function = {0}\".format(psi.norm))\n",
    "print()\n",
    "\n",
    "Hamiltonian = ising_impo(J, g)\n",
    "t1 = time.time()\n",
    "result = minimize(energy, x0=params, args=(c, Hamiltonian, psi), method='nelder-mead')\n",
    "sweet_spot = result.x\n",
    "t2 = time.time()\n",
    "\n",
    "print(\"goddamn, that took {}s to optimize\".format(t2-t1))\n",
    "print(\"sweet spot = {}\".format(sweet_spot))\n",
    "print(\"num function evaluations: {}\".format(result['nfev']))\n",
    "print(\"num iterations: {}\".format(result['nit']))\n",
    "print(\"termination msg: {}\".format(result['message']))"
   ]
  },
  {
   "cell_type": "code",
   "execution_count": 5,
   "metadata": {},
   "outputs": [
    {
     "name": "stdout",
     "output_type": "stream",
     "text": [
      "holoMPS: E = -1.0630585\n",
      " theory: E = -1.0635444\n",
      "  error: 0.0456925%\n"
     ]
    }
   ],
   "source": [
    "from scipy.integrate import quad\n",
    "\n",
    "def infinite_gs_energy(J, g):\n",
    "    \"\"\"\n",
    "    Straight from tenpy docs: https://tenpy.readthedocs.io/en/latest/intro/examples/tfi_exact.html\n",
    "    \"\"\"\n",
    "    def f(k, lambda_):\n",
    "        return np.sqrt(1 + lambda_**2 + 2 * lambda_ * np.cos(k))\n",
    "\n",
    "    E0_exact = -g / (J * 2. * np.pi) * quad(f, -np.pi, np.pi, args=(J / g, ))[0]\n",
    "    return E0_exact\n",
    "\n",
    "holo_gs = circuit_imps(sweet_spot, c)\n",
    "holo_E = energy(sweet_spot, c, Hamiltonian, holo_gs)\n",
    "E0 = infinite_gs_energy(J, g)\n",
    "print(\"holoMPS: E = {:.8}\".format(holo_E))\n",
    "print(\" theory: E = {:.8}\".format(E0))\n",
    "print(\"  error: {:.7%}\".format(np.abs(1 - holo_E/E0)))"
   ]
  },
  {
   "cell_type": "code",
   "execution_count": null,
   "metadata": {},
   "outputs": [],
   "source": []
  }
 ],
 "metadata": {
  "kernelspec": {
   "display_name": "Python 3",
   "language": "python",
   "name": "python3"
  },
  "language_info": {
   "codemirror_mode": {
    "name": "ipython",
    "version": 3
   },
   "file_extension": ".py",
   "mimetype": "text/x-python",
   "name": "python",
   "nbconvert_exporter": "python",
   "pygments_lexer": "ipython3",
   "version": "3.8.3"
  }
 },
 "nbformat": 4,
 "nbformat_minor": 4
}
